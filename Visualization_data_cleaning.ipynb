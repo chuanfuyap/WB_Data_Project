{
 "cells": [
  {
   "cell_type": "code",
   "execution_count": 1,
   "metadata": {
    "collapsed": true
   },
   "outputs": [],
   "source": [
    "import pandas as pd\n",
    "import numpy as np\n",
    "import requests\n",
    "from bs4 import BeautifulSoup\n",
    "import dill"
   ]
  },
  {
   "cell_type": "markdown",
   "metadata": {},
   "source": [
    "# Contents\n",
    "* [Getting Country Names](#country)\n",
    "* [Sorting out Regions](#regions)\n",
    "* [Cleaning Economy](#economy)\n",
    "* [Cleaning Health](#health)\n",
    "* [Cleaning Education](#education)\n",
    "* [Cleaning Development](#development)"
   ]
  },
  {
   "cell_type": "code",
   "execution_count": null,
   "metadata": {
    "collapsed": true
   },
   "outputs": [],
   "source": []
  },
  {
   "cell_type": "code",
   "execution_count": 2,
   "metadata": {
    "collapsed": true
   },
   "outputs": [],
   "source": [
    "def unwrap(indicator_name, compiled_df):\n",
    "    df_index = compiled_df.at['Coverage_Range', indicator_name]\n",
    "    df_index = string_to_list(df_index)\n",
    "    df_index = [ind for ind in df_index if len(ind)==4]\n",
    "    df_index = pd.to_datetime(df_index)\n",
    "    countries = compiled_df.index\n",
    "    countries = countries.drop('Coverage_Range')\n",
    "    data = {}\n",
    "    for country in countries:\n",
    "        annual_data = compiled_df.at[country,indicator_name]\n",
    "        \n",
    "        if not pd.isnull(annual_data):\n",
    "            time_series = string_to_list(annual_data)\n",
    "            if len(time_series)==len(df_index):            \n",
    "            #print country\n",
    "                data[country]=time_series\n",
    "            #print len(time_series), country, len(df_index)\n",
    "        else:\n",
    "            data[country]=np.nan\n",
    "    unwrapping = pd.DataFrame(index=df_index, data=data, dtype=np.dtype(float) )\n",
    "    return unwrapping\n",
    "def string_to_list(string):\n",
    "    list_ = string[1:-1]\n",
    "    list_ = list_.split(',')\n",
    "    list_ = [t.replace(\"'\", '').strip() for t in list_]\n",
    "    return list_\n",
    "def data_to_list(string):\n",
    "    list_ = string[1:-1]\n",
    "    list_ = list_.split(',')\n",
    "    list_ = [t.replace(\"'\", '').strip() for t in list_]\n",
    "    list_ = [float(t) for t in list_ if t != 'nan']\n",
    "    list_ = [np.nan for t in list_ if t == 'nan']\n",
    "    \n",
    "    return list_"
   ]
  },
  {
   "cell_type": "markdown",
   "metadata": {},
   "source": [
    "## Country Names<a class=\"anchor\" id=\"country\"></a>"
   ]
  },
  {
   "cell_type": "code",
   "execution_count": null,
   "metadata": {
    "collapsed": true
   },
   "outputs": [],
   "source": [
    "countries = econ.index"
   ]
  },
  {
   "cell_type": "code",
   "execution_count": null,
   "metadata": {
    "collapsed": true
   },
   "outputs": [],
   "source": [
    "len(countries)"
   ]
  },
  {
   "cell_type": "code",
   "execution_count": null,
   "metadata": {
    "collapsed": true
   },
   "outputs": [],
   "source": [
    "catalog = pd.read_excel('catalog_of_interest-Copy1.xls')"
   ]
  },
  {
   "cell_type": "code",
   "execution_count": null,
   "metadata": {
    "collapsed": true
   },
   "outputs": [],
   "source": [
    "coverage = catalog['Economy Coverage']"
   ]
  },
  {
   "cell_type": "markdown",
   "metadata": {},
   "source": [
    "https://data.worldbank.org/country source"
   ]
  },
  {
   "cell_type": "code",
   "execution_count": 3,
   "metadata": {
    "collapsed": true
   },
   "outputs": [],
   "source": [
    "def get_names(url):\n",
    "    page = requests.get(url)\n",
    "    soup4 = BeautifulSoup(page.text,'lxml')\n",
    "    region = soup4.find_all('li', attrs={'class':'label'})\n",
    "    names = [attr.text for attr in region]\n",
    "    return names"
   ]
  },
  {
   "cell_type": "code",
   "execution_count": 27,
   "metadata": {
    "collapsed": true
   },
   "outputs": [],
   "source": [
    "east_asia_pacific = get_names('https://data.worldbank.org/region/east-asia-and-pacific?view=chart')"
   ]
  },
  {
   "cell_type": "code",
   "execution_count": 28,
   "metadata": {},
   "outputs": [
    {
     "ename": "UnicodeDecodeError",
     "evalue": "'ascii' codec can't decode byte 0xe2 in position 18: ordinal not in range(128)",
     "output_type": "error",
     "traceback": [
      "\u001b[0;31m---------------------------------------------------------------------------\u001b[0m",
      "\u001b[0;31mUnicodeDecodeError\u001b[0m                        Traceback (most recent call last)",
      "\u001b[0;32m<ipython-input-28-314b18574571>\u001b[0m in \u001b[0;36m<module>\u001b[0;34m()\u001b[0m\n\u001b[1;32m      1\u001b[0m \u001b[0meast_asia_pacific\u001b[0m\u001b[0;34m.\u001b[0m\u001b[0mremove\u001b[0m\u001b[0;34m(\u001b[0m\u001b[0;34mu'Korea, Dem. People\\u2019s Rep.'\u001b[0m\u001b[0;34m)\u001b[0m\u001b[0;34m\u001b[0m\u001b[0m\n\u001b[0;32m----> 2\u001b[0;31m \u001b[0meast_asia_pacific\u001b[0m\u001b[0;34m.\u001b[0m\u001b[0mappend\u001b[0m\u001b[0;34m(\u001b[0m\u001b[0;34m'Korea, Dem. People’s Rep.'\u001b[0m\u001b[0;34m.\u001b[0m\u001b[0mencode\u001b[0m\u001b[0;34m(\u001b[0m\u001b[0;34m'utf-8'\u001b[0m\u001b[0;34m)\u001b[0m\u001b[0;34m)\u001b[0m\u001b[0;34m\u001b[0m\u001b[0m\n\u001b[0m\u001b[1;32m      3\u001b[0m \u001b[0msorted\u001b[0m\u001b[0;34m(\u001b[0m\u001b[0meast_asia_pacific\u001b[0m\u001b[0;34m)\u001b[0m\u001b[0;34m\u001b[0m\u001b[0m\n",
      "\u001b[0;31mUnicodeDecodeError\u001b[0m: 'ascii' codec can't decode byte 0xe2 in position 18: ordinal not in range(128)"
     ]
    }
   ],
   "source": [
    "east_asia_pacific.remove(u'Korea, Dem. People\\u2019s Rep.')\n",
    "east_asia_pacific.append('Korea, Dem. People’s Rep.'.encode('utf-8'))\n",
    "sorted(east_asia_pacific)"
   ]
  },
  {
   "cell_type": "code",
   "execution_count": 7,
   "metadata": {
    "collapsed": true
   },
   "outputs": [],
   "source": [
    "#east_asia_pacific = get_names('https://data.worldbank.org/region/east-asia-and-pacific?view=chart')\n",
    "dill.dump(east_asia_pacific, open('east_asia_pacific.pkd', 'w'))"
   ]
  },
  {
   "cell_type": "code",
   "execution_count": null,
   "metadata": {
    "collapsed": true
   },
   "outputs": [],
   "source": [
    "europe_centralasia = get_names('https://data.worldbank.org/region/europe-and-central-asia?view=chart')\n",
    "dill.dump(europe_centralasia, open('europe_centralasia.pkd', 'w'))"
   ]
  },
  {
   "cell_type": "code",
   "execution_count": null,
   "metadata": {
    "collapsed": true
   },
   "outputs": [],
   "source": [
    "latin_america_carribean = get_names('https://data.worldbank.org/region/latin-america-and-caribbean?view=chart')\n",
    "dill.dump(latin_america_carribean, open('latin_america_carribean.pkd', 'w'))"
   ]
  },
  {
   "cell_type": "code",
   "execution_count": null,
   "metadata": {
    "collapsed": true
   },
   "outputs": [],
   "source": [
    "middleeast_northafrica = get_names('https://data.worldbank.org/region/middle-east-and-north-africa?view=chart')\n",
    "dill.dump(middleeast_northafrica, open('middleeast_northafrica.pkd', 'w'))"
   ]
  },
  {
   "cell_type": "code",
   "execution_count": null,
   "metadata": {
    "collapsed": true
   },
   "outputs": [],
   "source": [
    "north_america = get_names('https://data.worldbank.org/region/north-america?view=chart')\n",
    "dill.dump(north_america, open('north_america.pkd', 'w'))"
   ]
  },
  {
   "cell_type": "code",
   "execution_count": null,
   "metadata": {
    "collapsed": true
   },
   "outputs": [],
   "source": [
    "south_asia = get_names('https://data.worldbank.org/region/south-asia?view=chart')\n",
    "dill.dump(south_asia, open('south_asia.pkd', 'w'))"
   ]
  },
  {
   "cell_type": "code",
   "execution_count": null,
   "metadata": {
    "collapsed": true
   },
   "outputs": [],
   "source": [
    "sub_saharan_africa = get_names('https://data.worldbank.org/region/sub-saharan-africa?view=chartt')\n",
    "dill.dump(sub_saharan_africa, open('sub_saharan_africa.pkd', 'w'))"
   ]
  },
  {
   "cell_type": "code",
   "execution_count": null,
   "metadata": {
    "collapsed": true,
    "scrolled": true
   },
   "outputs": [],
   "source": [
    "all_the_countries=[]\n",
    "all_the_countries.extend(east_asia_pacific)\n",
    "all_the_countries.extend(europe_centralasia)\n",
    "all_the_countries.extend(latin_america_carribean)\n",
    "all_the_countries.extend(north_america)\n",
    "all_the_countries.extend(middleeast_northafrica)\n",
    "all_the_countries.extend(sub_saharan_africa)\n",
    "all_the_countries.extend(south_asia)"
   ]
  },
  {
   "cell_type": "code",
   "execution_count": null,
   "metadata": {
    "collapsed": true
   },
   "outputs": [],
   "source": [
    "len(all_the_countries)"
   ]
  },
  {
   "cell_type": "code",
   "execution_count": null,
   "metadata": {
    "collapsed": true
   },
   "outputs": [],
   "source": [
    "len(list(set(all_the_countries)))"
   ]
  },
  {
   "cell_type": "markdown",
   "metadata": {},
   "source": [
    "## getting regions right<a class=\"anchor\" id=\"regions\"></a>"
   ]
  },
  {
   "cell_type": "code",
   "execution_count": 8,
   "metadata": {
    "collapsed": true
   },
   "outputs": [],
   "source": [
    "regions = []"
   ]
  },
  {
   "cell_type": "code",
   "execution_count": 7,
   "metadata": {
    "collapsed": true
   },
   "outputs": [],
   "source": [
    "import os \n",
    "files = filter(os.path.isfile, os.listdir('./visualisation_data/regions'))"
   ]
  },
  {
   "cell_type": "code",
   "execution_count": 7,
   "metadata": {
    "collapsed": true
   },
   "outputs": [],
   "source": [
    "for f in  os.listdir('./visualisation_data/regions'):\n",
    "    name=f[:-4].replace('_',' ').title()\n",
    "    #print f[:-4].replace('_',' ').title()\n",
    "    regions.append(name)"
   ]
  },
  {
   "cell_type": "code",
   "execution_count": 8,
   "metadata": {},
   "outputs": [
    {
     "data": {
      "text/plain": [
       "['.Ipynb Checkpo',\n",
       " 'Australiasia',\n",
       " 'Carribean',\n",
       " 'Central Asia',\n",
       " 'East Asia',\n",
       " 'East Europe',\n",
       " 'Latin America',\n",
       " 'Middle East',\n",
       " 'North Africa',\n",
       " 'North America',\n",
       " 'Pacific',\n",
       " 'Polynesia',\n",
       " 'Reg',\n",
       " 'South Asia',\n",
       " 'South East Asia',\n",
       " 'Sub Saharan Africa',\n",
       " 'Western Europe']"
      ]
     },
     "execution_count": 8,
     "metadata": {},
     "output_type": "execute_result"
    }
   ],
   "source": [
    "sorted(regions)"
   ]
  },
  {
   "cell_type": "code",
   "execution_count": 2,
   "metadata": {
    "scrolled": true
   },
   "outputs": [
    {
     "name": "stdout",
     "output_type": "stream",
     "text": [
      "visualisation_data/regions/western_europe.pkd\n",
      "visualisation_data/regions/south_asia.pkd\n",
      "visualisation_data/regions/middle_east.pkd\n",
      "visualisation_data/regions/carribean.pkd\n",
      "visualisation_data/regions/australiasia.pkd\n",
      "visualisation_data/regions/central_asia.pkd\n",
      "visualisation_data/regions/polynesia.pkd\n",
      "visualisation_data/regions/north_africa.pkd\n",
      "visualisation_data/regions/east_asia.pkd\n",
      "visualisation_data/regions/sub_saharan_africa.pkd\n",
      "visualisation_data/regions/south_east_asia.pkd\n",
      "visualisation_data/regions/north_america.pkd\n",
      "visualisation_data/regions/east_europe.pkd\n",
      "visualisation_data/regions/latin_america.pkd\n",
      "visualisation_data/regions/pacific.pkd\n"
     ]
    }
   ],
   "source": [
    "import os\n",
    "countries = []\n",
    "for f in  os.listdir('./visualisation_data/regions'):\n",
    "    to_open ='visualisation_data/regions/' +str(f)\n",
    "    print to_open\n",
    "    if to_open!='visualisation_data/.ipynb_checkpoints':\n",
    "        B = dill.load(open(to_open, 'r'))\n",
    "        countries.extend(B)"
   ]
  },
  {
   "cell_type": "code",
   "execution_count": 3,
   "metadata": {
    "collapsed": true
   },
   "outputs": [],
   "source": [
    "countries.remove(u'Korea, Dem. People\\u2019s Rep.')"
   ]
  },
  {
   "cell_type": "code",
   "execution_count": 4,
   "metadata": {
    "collapsed": true
   },
   "outputs": [],
   "source": [
    "countries.append('South Korea')"
   ]
  },
  {
   "cell_type": "code",
   "execution_count": 6,
   "metadata": {
    "collapsed": true
   },
   "outputs": [],
   "source": [
    "countries = [country.decode('utf-8') for country in countries]"
   ]
  },
  {
   "cell_type": "code",
   "execution_count": 10,
   "metadata": {},
   "outputs": [
    {
     "data": {
      "text/plain": [
       "[u'Afghanistan',\n",
       " u'Albania',\n",
       " u'Algeria',\n",
       " u'American Samoa',\n",
       " u'Andorra',\n",
       " u'Angola',\n",
       " u'Antigua and Barbuda',\n",
       " u'Argentina',\n",
       " u'Armenia',\n",
       " u'Aruba',\n",
       " u'Australia',\n",
       " u'Austria',\n",
       " u'Azerbaijan',\n",
       " u'Bahamas, The',\n",
       " u'Bahrain',\n",
       " u'Bangladesh',\n",
       " u'Barbados',\n",
       " u'Belarus',\n",
       " u'Belgium',\n",
       " u'Belize',\n",
       " u'Benin',\n",
       " u'Bermuda',\n",
       " u'Bhutan',\n",
       " u'Bolivia',\n",
       " u'Bosnia and Herzegovina',\n",
       " u'Botswana',\n",
       " u'Brazil',\n",
       " u'British Virgin Islands',\n",
       " u'Brunei Darussalam',\n",
       " u'Bulgaria',\n",
       " u'Burkina Faso',\n",
       " u'Burundi',\n",
       " u'Cabo Verde',\n",
       " u'Cambodia',\n",
       " u'Cameroon',\n",
       " u'Canada',\n",
       " u'Cayman Islands',\n",
       " u'Central African Republic',\n",
       " u'Chad',\n",
       " u'Channel Islands',\n",
       " u'Chile',\n",
       " u'China',\n",
       " u'Colombia',\n",
       " u'Comoros',\n",
       " u'Congo, Dem. Rep.',\n",
       " u'Congo, Rep.',\n",
       " u'Costa Rica',\n",
       " u\"Cote d'Ivoire\",\n",
       " u'Croatia',\n",
       " u'Cuba',\n",
       " u'Curacao',\n",
       " u'Cyprus',\n",
       " u'Czech Republic',\n",
       " u'Denmark',\n",
       " u'Djibouti',\n",
       " u'Dominica',\n",
       " u'Dominican Republic',\n",
       " u'Ecuador',\n",
       " u'Egypt, Arab Rep.',\n",
       " u'El Salvador',\n",
       " u'Equatorial Guinea',\n",
       " u'Eritrea',\n",
       " u'Estonia',\n",
       " u'Ethiopia',\n",
       " u'Faroe Islands',\n",
       " u'Fiji',\n",
       " u'Finland',\n",
       " u'France',\n",
       " u'French Polynesia',\n",
       " u'Gabon',\n",
       " u'Gambia, The',\n",
       " u'Georgia',\n",
       " u'Germany',\n",
       " u'Ghana',\n",
       " u'Gibraltar',\n",
       " u'Greece',\n",
       " u'Greenland',\n",
       " u'Grenada',\n",
       " u'Guam',\n",
       " u'Guatemala',\n",
       " u'Guinea',\n",
       " u'Guinea-Bissau',\n",
       " u'Guyana',\n",
       " u'Haiti',\n",
       " u'Honduras',\n",
       " u'Hong Kong SAR, China',\n",
       " u'Hungary',\n",
       " u'Iceland',\n",
       " u'India',\n",
       " u'Indonesia',\n",
       " u'Iran, Islamic Rep.',\n",
       " u'Iraq',\n",
       " u'Ireland',\n",
       " u'Isle of Man',\n",
       " u'Israel',\n",
       " u'Italy',\n",
       " u'Jamaica',\n",
       " u'Japan',\n",
       " u'Jordan',\n",
       " u'Kazakhstan',\n",
       " u'Kenya',\n",
       " u'Kiribati',\n",
       " u'Korea, Rep.',\n",
       " u'Kosovo',\n",
       " u'Kuwait',\n",
       " u'Kyrgyz Republic',\n",
       " u'Lao PDR',\n",
       " u'Latvia',\n",
       " u'Lebanon',\n",
       " u'Lesotho',\n",
       " u'Liberia',\n",
       " u'Libya',\n",
       " u'Liechtenstein',\n",
       " u'Lithuania',\n",
       " u'Luxembourg',\n",
       " u'Macao SAR, China',\n",
       " u'Macedonia, FYR',\n",
       " u'Madagascar',\n",
       " u'Malawi',\n",
       " u'Malaysia',\n",
       " u'Maldives',\n",
       " u'Mali',\n",
       " u'Malta',\n",
       " u'Marshall Islands',\n",
       " u'Mauritania',\n",
       " u'Mauritius',\n",
       " u'Mexico',\n",
       " u'Micronesia, Fed. Sts.',\n",
       " u'Moldova',\n",
       " u'Monaco',\n",
       " u'Mongolia',\n",
       " u'Montenegro',\n",
       " u'Morocco',\n",
       " u'Mozambique',\n",
       " u'Myanmar',\n",
       " u'Namibia',\n",
       " u'Nauru',\n",
       " u'Nepal',\n",
       " u'Netherlands',\n",
       " u'New Caledonia',\n",
       " u'New Zealand',\n",
       " u'Nicaragua',\n",
       " u'Niger',\n",
       " u'Nigeria',\n",
       " u'Northern Mariana Islands',\n",
       " u'Norway',\n",
       " u'Oman',\n",
       " u'Pakistan',\n",
       " u'Palau',\n",
       " u'Panama',\n",
       " u'Papua New Guinea',\n",
       " u'Paraguay',\n",
       " u'Peru',\n",
       " u'Philippines',\n",
       " u'Poland',\n",
       " u'Portugal',\n",
       " u'Puerto Rico',\n",
       " u'Qatar',\n",
       " u'Romania',\n",
       " u'Russian Federation',\n",
       " u'Rwanda',\n",
       " u'Samoa',\n",
       " u'San Marino',\n",
       " u'Sao Tome and Principe',\n",
       " u'Saudi Arabia',\n",
       " u'Senegal',\n",
       " u'Serbia',\n",
       " u'Seychelles',\n",
       " u'Sierra Leone',\n",
       " u'Singapore',\n",
       " u'Sint Maarten (Dutch part)',\n",
       " u'Slovak Republic',\n",
       " u'Slovenia',\n",
       " u'Solomon Islands',\n",
       " u'Somalia',\n",
       " u'South Africa',\n",
       " u'South Korea',\n",
       " u'South Sudan',\n",
       " u'Spain',\n",
       " u'Sri Lanka',\n",
       " u'St. Kitts and Nevis',\n",
       " u'St. Lucia',\n",
       " u'St. Martin (French part)',\n",
       " u'St. Vincent and the Grenadines',\n",
       " u'Sudan',\n",
       " u'Suriname',\n",
       " u'Swaziland',\n",
       " u'Sweden',\n",
       " u'Switzerland',\n",
       " u'Syrian Arab Republic',\n",
       " u'Tajikistan',\n",
       " u'Tanzania',\n",
       " u'Thailand',\n",
       " u'Timor-Leste',\n",
       " u'Togo',\n",
       " u'Tonga',\n",
       " u'Trinidad and Tobago',\n",
       " u'Tunisia',\n",
       " u'Turkey',\n",
       " u'Turkmenistan',\n",
       " u'Turks and Caicos Islands',\n",
       " u'Tuvalu',\n",
       " u'Uganda',\n",
       " u'Ukraine',\n",
       " u'United Arab Emirates',\n",
       " u'United Kingdom',\n",
       " u'United States',\n",
       " u'Uruguay',\n",
       " u'Uzbekistan',\n",
       " u'Vanuatu',\n",
       " u'Venezuela, RB',\n",
       " u'Vietnam',\n",
       " u'Virgin Islands (U.S.)',\n",
       " u'West Bank and Gaza',\n",
       " u'Yemen, Rep.',\n",
       " u'Zambia',\n",
       " u'Zimbabwe']"
      ]
     },
     "execution_count": 10,
     "metadata": {},
     "output_type": "execute_result"
    }
   ],
   "source": [
    "sorted(countries)"
   ]
  },
  {
   "cell_type": "code",
   "execution_count": 10,
   "metadata": {},
   "outputs": [
    {
     "data": {
      "text/plain": [
       "217"
      ]
     },
     "execution_count": 10,
     "metadata": {},
     "output_type": "execute_result"
    }
   ],
   "source": [
    "all_the_countries=countries\n",
    "len(all_the_countries)"
   ]
  },
  {
   "cell_type": "code",
   "execution_count": null,
   "metadata": {
    "collapsed": true
   },
   "outputs": [],
   "source": []
  },
  {
   "cell_type": "code",
   "execution_count": null,
   "metadata": {
    "collapsed": true
   },
   "outputs": [],
   "source": [
    "def get_names(url):\n",
    "    page = requests.get(url)\n",
    "    soup4 = BeautifulSoup(page.text,'lxml')\n",
    "    region = soup4.find_all('li', attrs={'class':'label'})\n",
    "    names = [attr.text for attr in region]\n",
    "    return names"
   ]
  },
  {
   "cell_type": "code",
   "execution_count": 8,
   "metadata": {
    "collapsed": true
   },
   "outputs": [],
   "source": [
    "url = 'https://en.wikipedia.org/wiki/List_of_Southeast_Asian_Nations_by_GDP'"
   ]
  },
  {
   "cell_type": "code",
   "execution_count": 9,
   "metadata": {
    "collapsed": true
   },
   "outputs": [],
   "source": [
    "dfs = pd.read_html(url, header=0, parse_dates=False)"
   ]
  },
  {
   "cell_type": "code",
   "execution_count": 10,
   "metadata": {
    "collapsed": true
   },
   "outputs": [],
   "source": [
    "south_east_asia = list(dfs[1]['Nation'])"
   ]
  },
  {
   "cell_type": "code",
   "execution_count": 11,
   "metadata": {
    "collapsed": true
   },
   "outputs": [],
   "source": [
    "south_east_asia.remove('Brunei')\n",
    "south_east_asia.append('Brunei Darussalam')"
   ]
  },
  {
   "cell_type": "code",
   "execution_count": 12,
   "metadata": {
    "collapsed": true
   },
   "outputs": [],
   "source": [
    "south_east_asia.remove('Timor Leste')\n",
    "south_east_asia.append('Timor-Leste')"
   ]
  },
  {
   "cell_type": "code",
   "execution_count": 13,
   "metadata": {
    "collapsed": true
   },
   "outputs": [],
   "source": [
    "south_east_asia.remove('Laos')\n",
    "south_east_asia.append('Lao PDR')"
   ]
  },
  {
   "cell_type": "code",
   "execution_count": null,
   "metadata": {
    "collapsed": true
   },
   "outputs": [],
   "source": [
    "dill.dump(south_east_asia, open('visualisation_data/south_east_asia.pkd', 'w'))"
   ]
  },
  {
   "cell_type": "code",
   "execution_count": 14,
   "metadata": {
    "collapsed": true
   },
   "outputs": [],
   "source": [
    "east_pacific = [ country for country in east_asia_pacific if country not in south_east_asia]"
   ]
  },
  {
   "cell_type": "code",
   "execution_count": null,
   "metadata": {
    "collapsed": true
   },
   "outputs": [],
   "source": [
    "len(east_pacific)"
   ]
  },
  {
   "cell_type": "code",
   "execution_count": 15,
   "metadata": {
    "collapsed": true
   },
   "outputs": [],
   "source": [
    "pacific =['Fiji',\n",
    "'Kiribati',\n",
    "'Marshall Islands',\n",
    "'Micronesia, Fed. Sts.',\n",
    "'Nauru',\n",
    "'Palau',\n",
    "'Samoa',\n",
    "'Solomon Islands',\n",
    "'Tonga',\n",
    "'Tuvalu',\n",
    "'Vanuatu']"
   ]
  },
  {
   "cell_type": "code",
   "execution_count": 16,
   "metadata": {
    "collapsed": true
   },
   "outputs": [],
   "source": [
    "east_asia = [ country for country in east_pacific if country not in pacific]"
   ]
  },
  {
   "cell_type": "code",
   "execution_count": 29,
   "metadata": {
    "collapsed": true
   },
   "outputs": [],
   "source": [
    "east_asia.remove( u'Korea, Dem. People\\u2019s Rep.')"
   ]
  },
  {
   "cell_type": "code",
   "execution_count": 33,
   "metadata": {},
   "outputs": [
    {
     "data": {
      "text/plain": [
       "[u'American Samoa',\n",
       " u'Australia',\n",
       " u'China',\n",
       " u'French Polynesia',\n",
       " u'Guam',\n",
       " u'Hong Kong SAR, China',\n",
       " u'Japan',\n",
       " u'Korea, Rep.',\n",
       " u'Macao SAR, China',\n",
       " u'Mongolia',\n",
       " u'New Caledonia',\n",
       " u'New Zealand',\n",
       " u'Northern Mariana Islands',\n",
       " u'Papua New Guinea']"
      ]
     },
     "execution_count": 33,
     "metadata": {},
     "output_type": "execute_result"
    }
   ],
   "source": [
    "country = 'Korea, Dem. People’s Rep.'\n",
    "east_asia"
   ]
  },
  {
   "cell_type": "code",
   "execution_count": 34,
   "metadata": {},
   "outputs": [
    {
     "ename": "UnicodeDecodeError",
     "evalue": "'ascii' codec can't decode byte 0xe2 in position 18: ordinal not in range(128)",
     "output_type": "error",
     "traceback": [
      "\u001b[0;31m---------------------------------------------------------------------------\u001b[0m",
      "\u001b[0;31mUnicodeDecodeError\u001b[0m                        Traceback (most recent call last)",
      "\u001b[0;32m<ipython-input-34-b1ede35bd2da>\u001b[0m in \u001b[0;36m<module>\u001b[0;34m()\u001b[0m\n\u001b[0;32m----> 1\u001b[0;31m \u001b[0municode\u001b[0m\u001b[0;34m(\u001b[0m\u001b[0mcountry\u001b[0m\u001b[0;34m)\u001b[0m\u001b[0;34m\u001b[0m\u001b[0m\n\u001b[0m",
      "\u001b[0;31mUnicodeDecodeError\u001b[0m: 'ascii' codec can't decode byte 0xe2 in position 18: ordinal not in range(128)"
     ]
    }
   ],
   "source": [
    "unicode(country)"
   ]
  },
  {
   "cell_type": "code",
   "execution_count": null,
   "metadata": {
    "collapsed": true
   },
   "outputs": [],
   "source": [
    "dill.dump(pacific, open('visualisation_data/pacific.pkd', 'w'))"
   ]
  },
  {
   "cell_type": "code",
   "execution_count": 6,
   "metadata": {
    "collapsed": true
   },
   "outputs": [],
   "source": [
    "australiasia = ['Australia','New Zealand', 'Papua New Guinea']"
   ]
  },
  {
   "cell_type": "code",
   "execution_count": null,
   "metadata": {
    "collapsed": true
   },
   "outputs": [],
   "source": [
    "polynesia = ['American Samoa','French Polynesia','Guam','New Caledonia', 'Northern Mariana Islands']"
   ]
  },
  {
   "cell_type": "code",
   "execution_count": null,
   "metadata": {
    "collapsed": true
   },
   "outputs": [],
   "source": [
    "east_asia = [ country for country in east_asia if country not in australiasia]"
   ]
  },
  {
   "cell_type": "code",
   "execution_count": null,
   "metadata": {
    "collapsed": true
   },
   "outputs": [],
   "source": [
    "east_asia = [ country for country in east_asia if country not in polynesia]"
   ]
  },
  {
   "cell_type": "code",
   "execution_count": null,
   "metadata": {
    "collapsed": true,
    "scrolled": true
   },
   "outputs": [],
   "source": [
    "east_asia "
   ]
  },
  {
   "cell_type": "code",
   "execution_count": null,
   "metadata": {
    "collapsed": true
   },
   "outputs": [],
   "source": [
    "dill.dump(polynesia, open('visualisation_data/polynesia.pkd', 'w'))\n",
    "dill.dump(east_asia, open('visualisation_data/east_asia.pkd', 'w'))"
   ]
  },
  {
   "cell_type": "code",
   "execution_count": 7,
   "metadata": {
    "collapsed": true
   },
   "outputs": [],
   "source": [
    "dill.dump(australiasia, open('visualisation_data/australiasia.pkd', 'w'))"
   ]
  },
  {
   "cell_type": "code",
   "execution_count": null,
   "metadata": {
    "collapsed": true
   },
   "outputs": [],
   "source": [
    "latin_america_carribean\n",
    "middleeast_northafrica"
   ]
  },
  {
   "cell_type": "code",
   "execution_count": null,
   "metadata": {
    "collapsed": true
   },
   "outputs": [],
   "source": [
    "central_asia= ['Kazakhstan',\n",
    " 'Kyrgyz Republic',\n",
    " 'Tajikistan',\n",
    " 'Turkmenistan',\n",
    " 'Uzbekistan']"
   ]
  },
  {
   "cell_type": "code",
   "execution_count": null,
   "metadata": {
    "collapsed": true
   },
   "outputs": [],
   "source": [
    "central_asia"
   ]
  },
  {
   "cell_type": "code",
   "execution_count": null,
   "metadata": {
    "collapsed": true
   },
   "outputs": [],
   "source": [
    "dill.dump(central_asia, open('visualisation_data/central_asia.pkd', 'w'))"
   ]
  },
  {
   "cell_type": "code",
   "execution_count": null,
   "metadata": {
    "collapsed": true
   },
   "outputs": [],
   "source": [
    "europe = [ country for country in europe_centralasia if country not in central_asia]"
   ]
  },
  {
   "cell_type": "code",
   "execution_count": null,
   "metadata": {
    "collapsed": true
   },
   "outputs": [],
   "source": [
    "len(europe)"
   ]
  },
  {
   "cell_type": "code",
   "execution_count": null,
   "metadata": {
    "collapsed": true
   },
   "outputs": [],
   "source": [
    "page = requests.get('http://www.worldbank.org/en/country/westerneurope')\n",
    "soup4 = BeautifulSoup(page.text,'lxml')\n",
    "region = soup4.find_all('ul', attrs={'class':'dropdown-menu dropdown-item'})\n",
    "names = [attr.text for attr in region]\n",
    "names"
   ]
  },
  {
   "cell_type": "code",
   "execution_count": null,
   "metadata": {
    "collapsed": true
   },
   "outputs": [],
   "source": [
    "western_europe ='Ireland\\nChannel Islands\\nFaroe Islands\\nIsle of Man\\nGreenland\\nAustria\\nBelgium\\nDenmark\\nFinland\\nFrance\\nGermany\\nGreece\\nIceland\\nItaly\\nLuxembourg\\nNorway\\nPortugal\\nSpain\\nSweden\\nSwitzerland\\nNetherlands\\nUnited Kingdom'\n",
    "western_europe = western_europe.split('\\n')\n",
    "len(western_europe)"
   ]
  },
  {
   "cell_type": "code",
   "execution_count": null,
   "metadata": {
    "collapsed": true
   },
   "outputs": [],
   "source": [
    "east_europe = [ country for country in europe if country not in western_europe]\n",
    "len(east_europe)"
   ]
  },
  {
   "cell_type": "code",
   "execution_count": null,
   "metadata": {
    "collapsed": true
   },
   "outputs": [],
   "source": [
    "dill.dump(east_europe, open('visualisation_data/east_europe.pkd', 'w'))"
   ]
  },
  {
   "cell_type": "code",
   "execution_count": null,
   "metadata": {
    "collapsed": true
   },
   "outputs": [],
   "source": [
    "dill.dump(western_europe, open('visualisation_data/western_europe.pkd', 'w'))"
   ]
  },
  {
   "cell_type": "code",
   "execution_count": null,
   "metadata": {
    "collapsed": true
   },
   "outputs": [],
   "source": [
    "len(latin_america_carribean)"
   ]
  },
  {
   "cell_type": "code",
   "execution_count": null,
   "metadata": {
    "collapsed": true
   },
   "outputs": [],
   "source": [
    "carribean=['Bahamas, The',\n",
    "'Barbados',\n",
    "'Belize',\n",
    "'Dominican Republic', \n",
    "'Guyana',\n",
    "'Haiti',\n",
    "'Jamaica','Antigua and Barbuda',\n",
    "'Dominica',\n",
    "'Grenada',\n",
    "'St. Kitts and Nevis',\n",
    "'St. Lucia',\n",
    "'St. Vincent and the Grenadines',\n",
    "          'Suriname',\n",
    "'Trinidad and Tobago']\n",
    "len(carribean)"
   ]
  },
  {
   "cell_type": "code",
   "execution_count": null,
   "metadata": {
    "collapsed": true
   },
   "outputs": [],
   "source": [
    "latin_america = [ country for country in latin_america_carribean if country not in carribean]\n",
    "len(latin_america)"
   ]
  },
  {
   "cell_type": "code",
   "execution_count": null,
   "metadata": {
    "collapsed": true
   },
   "outputs": [],
   "source": [
    "dill.dump(latin_america, open('visualisation_data/latin_america.pkd', 'w'))\n",
    "dill.dump(carribean, open('visualisation_data/carribean.pkd', 'w'))"
   ]
  },
  {
   "cell_type": "code",
   "execution_count": null,
   "metadata": {
    "collapsed": true
   },
   "outputs": [],
   "source": [
    "url ='https://en.wikipedia.org/wiki/List_of_Middle_Eastern_countries_by_population'"
   ]
  },
  {
   "cell_type": "code",
   "execution_count": null,
   "metadata": {
    "collapsed": true
   },
   "outputs": [],
   "source": [
    "dfs = pd.read_html(url, header=0, parse_dates=False)"
   ]
  },
  {
   "cell_type": "code",
   "execution_count": null,
   "metadata": {
    "collapsed": true
   },
   "outputs": [],
   "source": [
    "middle_east = list(dfs[0]['Country (or dependent territory)'])\n",
    "len(middle_east)"
   ]
  },
  {
   "cell_type": "code",
   "execution_count": null,
   "metadata": {
    "collapsed": true
   },
   "outputs": [],
   "source": [
    "len(middleeast_northafrica)"
   ]
  },
  {
   "cell_type": "code",
   "execution_count": null,
   "metadata": {
    "collapsed": true
   },
   "outputs": [],
   "source": [
    "north_africa = [ country for country in middleeast_northafrica if country not in middle_east]\n",
    "len(north_africa)"
   ]
  },
  {
   "cell_type": "code",
   "execution_count": null,
   "metadata": {
    "collapsed": true
   },
   "outputs": [],
   "source": [
    "north_africa = ['Algeria','Libya', 'Morocco', 'Tunisia','Djibouti', 'Malta']"
   ]
  },
  {
   "cell_type": "code",
   "execution_count": null,
   "metadata": {
    "collapsed": true
   },
   "outputs": [],
   "source": [
    "middle_east = [ country for country in middleeast_northafrica if country not in north_africa]\n",
    "len(middle_east)"
   ]
  },
  {
   "cell_type": "code",
   "execution_count": null,
   "metadata": {
    "collapsed": true
   },
   "outputs": [],
   "source": [
    "dill.dump(middle_east, open('visualisation_data/middle_east.pkd', 'w'))\n",
    "dill.dump(north_africa, open('visualisation_data/north_africa.pkd', 'w'))"
   ]
  },
  {
   "cell_type": "code",
   "execution_count": null,
   "metadata": {
    "collapsed": true
   },
   "outputs": [],
   "source": []
  },
  {
   "cell_type": "code",
   "execution_count": null,
   "metadata": {
    "collapsed": true
   },
   "outputs": [],
   "source": []
  },
  {
   "cell_type": "code",
   "execution_count": null,
   "metadata": {
    "collapsed": true
   },
   "outputs": [],
   "source": []
  },
  {
   "cell_type": "code",
   "execution_count": null,
   "metadata": {
    "collapsed": true
   },
   "outputs": [],
   "source": []
  },
  {
   "cell_type": "code",
   "execution_count": null,
   "metadata": {
    "collapsed": true
   },
   "outputs": [],
   "source": []
  },
  {
   "cell_type": "code",
   "execution_count": null,
   "metadata": {
    "collapsed": true
   },
   "outputs": [],
   "source": []
  },
  {
   "cell_type": "code",
   "execution_count": null,
   "metadata": {
    "collapsed": true
   },
   "outputs": [],
   "source": []
  },
  {
   "cell_type": "markdown",
   "metadata": {},
   "source": [
    "## Cleaning Economy <a class=\"anchor\" id=\"economy\"></a>"
   ]
  },
  {
   "cell_type": "code",
   "execution_count": 11,
   "metadata": {
    "collapsed": true
   },
   "outputs": [],
   "source": [
    "econ = pd.read_csv('Economy.csv', index_col=0)"
   ]
  },
  {
   "cell_type": "code",
   "execution_count": 12,
   "metadata": {
    "collapsed": true
   },
   "outputs": [],
   "source": [
    "all_the_countries.append('Coverage_Range')\n",
    "all_the_countries = [country.encode('utf-8') for country in all_the_countries]"
   ]
  },
  {
   "cell_type": "code",
   "execution_count": 13,
   "metadata": {
    "collapsed": true
   },
   "outputs": [],
   "source": [
    "econ_clean = econ.reindex(all_the_countries)"
   ]
  },
  {
   "cell_type": "code",
   "execution_count": 17,
   "metadata": {
    "collapsed": true
   },
   "outputs": [],
   "source": [
    "as_list = econ_clean.index.tolist()\n",
    "idx = as_list.index('Korea, Dem. People’s Rep.')\n",
    "as_list[idx] = 'South Korea'\n",
    "econ_clean.index = as_list"
   ]
  },
  {
   "cell_type": "code",
   "execution_count": 13,
   "metadata": {
    "collapsed": true
   },
   "outputs": [],
   "source": [
    "def get_names(url,id):\n",
    "    page = requests.get(url)\n",
    "    soup4 = BeautifulSoup(page.text,'lxml')\n",
    "    chart = soup4.find_all('ul',attrs={'data-reactid':'{}'.format(id)})\n",
    "    s_list = chart[0].find_all('li')\n",
    "    names = [attr.text for attr in s_list]\n",
    "    return names"
   ]
  },
  {
   "cell_type": "code",
   "execution_count": 17,
   "metadata": {
    "collapsed": true
   },
   "outputs": [],
   "source": [
    "url = 'https://data.worldbank.org/topic/economy-and-growth?view=chart'"
   ]
  },
  {
   "cell_type": "code",
   "execution_count": 19,
   "metadata": {
    "collapsed": true
   },
   "outputs": [],
   "source": [
    "econ_indicators = get_names(url,314)"
   ]
  },
  {
   "cell_type": "code",
   "execution_count": 21,
   "metadata": {
    "collapsed": true
   },
   "outputs": [],
   "source": [
    "trade =  get_names('https://data.worldbank.org/topic/trade?view=chart',316)"
   ]
  },
  {
   "cell_type": "code",
   "execution_count": 23,
   "metadata": {
    "collapsed": true
   },
   "outputs": [],
   "source": [
    "econ_indicators.extend(trade)"
   ]
  },
  {
   "cell_type": "code",
   "execution_count": 24,
   "metadata": {
    "collapsed": true
   },
   "outputs": [],
   "source": [
    "econ_indicators = list(set(econ_indicators))"
   ]
  },
  {
   "cell_type": "code",
   "execution_count": 20,
   "metadata": {
    "collapsed": true
   },
   "outputs": [],
   "source": [
    "econ_clean = econ_clean[econ_indicators]"
   ]
  },
  {
   "cell_type": "code",
   "execution_count": 21,
   "metadata": {
    "collapsed": true
   },
   "outputs": [],
   "source": [
    "econ_clean.to_csv('Economy_cleaned.csv')"
   ]
  },
  {
   "cell_type": "code",
   "execution_count": 19,
   "metadata": {
    "collapsed": true
   },
   "outputs": [],
   "source": [
    "econ_indicators=[u'GNI per capita, PPP (current international $)',\n",
    " u'Net ODA received per capita (current US$)',\n",
    " u'Net barter terms of trade index (2000 = 100)',\n",
    " u'Central government debt, total (% of GDP)',\n",
    " u'Fuel exports (% of merchandise exports)',\n",
    " u'GDP per capita (current US$)',\n",
    " u'Personal remittances, received (current US$)',\n",
    " u'Total reserves (includes gold, current US$)',\n",
    " u'Energy imports, net (% of energy use)',\n",
    " u'Technical cooperation grants (BoP, current US$)',\n",
    " u'Gross savings (% of GDP)',\n",
    " u'GNI, PPP (current international $)',\n",
    " u'GDP (current US$)',\n",
    " u'High-technology exports (% of manufactured exports)',\n",
    " u'External debt stocks, total (DOD, current US$)',\n",
    " u'GNI, Atlas method (current US$)',\n",
    " u'Revenue, excluding grants (% of GDP)',\n",
    " u'Net ODA received (% of GNI)',\n",
    " u'Gross capital formation (% of GDP)',\n",
    " u'Logistics performance index: Overall (1=low to 5=high)',\n",
    " u'PPP conversion factor, GDP (LCU per international $)',\n",
    " u'GNI per capita, Atlas method (current US$)',\n",
    " u'Adjusted net savings, including particulate emission damage (% of GNI)',\n",
    " u'GDP per capita, PPP (current international $)',\n",
    " u'International tourism, receipts (% of total exports)',\n",
    " u'Grants, excluding technical cooperation (BoP, current US$)',\n",
    " u'Charges for the use of intellectual property, payments (BoP, current US$)',\n",
    " u'International tourism, expenditures (% of total imports)',\n",
    " u'Industry, value added (% of GDP)',\n",
    " u'Price level ratio of PPP conversion factor (GDP) to market exchange rate',\n",
    " u'Foreign direct investment, net inflows (BoP, current US$)',\n",
    " u'Expense (% of GDP)',\n",
    " u'Ores and metals exports (% of merchandise exports)',\n",
    " u'GDP per capita growth (annual %)',\n",
    " u'GDP growth (annual %)',\n",
    " u'Services, etc., value added (% of GDP)',\n",
    " u'Short-term debt (% of total reserves)',\n",
    " u'Merchandise imports (current US$)',\n",
    " u'Current account balance (BoP, current US$)',\n",
    " u'Inflation, consumer prices (annual %)',\n",
    " u'Merchandise trade (% of GDP)',\n",
    " u'Inflation, GDP deflator (annual %)',\n",
    " u'External debt stocks (% of GNI)',\n",
    " u'Charges for the use of intellectual property, receipts (BoP, current US$)',\n",
    " u'Net official development assistance received (current US$)',\n",
    " u'Exports of goods and services (% of GDP)',\n",
    " u'Merchandise exports (current US$)',\n",
    " u'Lead time to export, median case (days)',\n",
    " u'Total debt service (% of exports of goods, services and primary income)',\n",
    " u'Agriculture, value added (% of GDP)',\n",
    " u'Imports of goods and services (% of GDP)',\n",
    " u'High-technology exports (current US$)',\n",
    " u'Lead time to import, median case (days)']"
   ]
  },
  {
   "cell_type": "code",
   "execution_count": null,
   "metadata": {
    "collapsed": true
   },
   "outputs": [],
   "source": []
  },
  {
   "cell_type": "markdown",
   "metadata": {},
   "source": [
    "## Cleaning Health <a class=\"anchor\" id=\"health\"></a>"
   ]
  },
  {
   "cell_type": "code",
   "execution_count": 22,
   "metadata": {},
   "outputs": [
    {
     "name": "stderr",
     "output_type": "stream",
     "text": [
      "/opt/conda/lib/python2.7/site-packages/IPython/core/interactiveshell.py:2718: DtypeWarning: Columns (28,40,41,46,51,58,97,102,143,182,194,206,283,285,311,327,331,332,336,348,386,435,473,477,527,536,549,557,582,615,625,650,652,661,674,684,687,700,736,742,749,806,833,855,857,872,873,881,908,912,957,963,967,1021,1022,1042,1119,1125,1137,1142,1147,1178,1222,1236,1250,1282,1283,1309,1318,1344,1362,1382,1437,1493,1526,1558,1589,1593,1601,1631,1638,1672,1676,1692,1696,1699,1744,1796,1813,1828,1840,1870,1874,1878,1882,1886,1893) have mixed types. Specify dtype option on import or set low_memory=False.\n",
      "  interactivity=interactivity, compiler=compiler, result=result)\n"
     ]
    }
   ],
   "source": [
    "health = pd.read_csv('Health.csv', index_col=0)"
   ]
  },
  {
   "cell_type": "code",
   "execution_count": 23,
   "metadata": {
    "collapsed": true
   },
   "outputs": [],
   "source": [
    "health_clean = health.reindex(all_the_countries)"
   ]
  },
  {
   "cell_type": "code",
   "execution_count": 24,
   "metadata": {
    "collapsed": true
   },
   "outputs": [],
   "source": [
    "as_list = health_clean.index.tolist()\n",
    "idx = as_list.index('Korea, Dem. People’s Rep.')\n",
    "as_list[idx] = 'South Korea'\n",
    "health_clean.index = as_list"
   ]
  },
  {
   "cell_type": "code",
   "execution_count": 59,
   "metadata": {
    "collapsed": true
   },
   "outputs": [],
   "source": [
    "health_ind = get_names('https://data.worldbank.org/topic/health?view=chart',314)"
   ]
  },
  {
   "cell_type": "code",
   "execution_count": 26,
   "metadata": {
    "collapsed": true
   },
   "outputs": [],
   "source": [
    "health_clean = health_clean[health_ind]"
   ]
  },
  {
   "cell_type": "code",
   "execution_count": 27,
   "metadata": {
    "collapsed": true
   },
   "outputs": [],
   "source": [
    "health_clean.to_csv('Health_cleaned.csv')"
   ]
  },
  {
   "cell_type": "code",
   "execution_count": 25,
   "metadata": {
    "collapsed": true
   },
   "outputs": [],
   "source": [
    "health_ind=[u'Adolescent fertility rate (births per 1,000 women ages 15-19)',\n",
    " u'Age dependency ratio (% of working-age population)',\n",
    " u'Birth rate, crude (per 1,000 people)',\n",
    " u'Births attended by skilled health staff (% of total)',\n",
    " u'Cause of death, by communicable diseases and maternal, prenatal and nutrition conditions (% of total)',\n",
    " u'Cause of death, by injury (% of total)',\n",
    " u'Cause of death, by non-communicable diseases (% of total)',\n",
    " u'Completeness of birth registration (%)',\n",
    " u'Completeness of death registration with cause-of-death information (%)',\n",
    " u'Contraceptive prevalence, any methods (% of women ages 15-49)',\n",
    " u'Death rate, crude (per 1,000 people)',\n",
    " u'Diabetes prevalence (% of population ages 20 to 79)',\n",
    " u'Fertility rate, total (births per woman)',\n",
    " u'Health expenditure per capita (current US$)',\n",
    " u'Health expenditure, public (% of total health expenditure)',\n",
    " u'Health expenditure, total (% of GDP)',\n",
    " u'Hospital beds (per 1,000 people)',\n",
    " u'Immunization, DPT (% of children ages 12-23 months)',\n",
    " u'Immunization, measles (% of children ages 12-23 months)',\n",
    " u'Improved sanitation facilities (% of population with access)',\n",
    " u'Improved sanitation facilities, rural (% of rural population with access)',\n",
    " u'Improved sanitation facilities, urban (% of urban population with access)',\n",
    " u'Improved water source (% of population with access)',\n",
    " u'Improved water source, rural (% of rural population with access)',\n",
    " u'Improved water source, urban (% of urban population with access)',\n",
    " u'Incidence of tuberculosis (per 100,000 people)',\n",
    " u'International migrant stock, total',\n",
    " u'Life expectancy at birth, female (years)',\n",
    " u'Life expectancy at birth, male (years)',\n",
    " u'Life expectancy at birth, total (years)',\n",
    " u'Maternal mortality ratio (modeled estimate, per 100,000 live births)',\n",
    " u'Mortality caused by road traffic injury (per 100,000 people)',\n",
    " u'Mortality rate, infant (per 1,000 live births)',\n",
    " u'Mortality rate, neonatal (per 1,000 live births)',\n",
    " u'Mortality rate, under-5 (per 1,000 live births)',\n",
    " u'Net migration',\n",
    " u'Number of surgical procedures (per 100,000 population)',\n",
    " u'Out-of-pocket health expenditure (% of total expenditure on health)',\n",
    " u'Population ages 0-14 (% of total)',\n",
    " u'Population ages 15-64 (% of total)',\n",
    " u'Population ages 65 and above (% of total)',\n",
    " u'Population growth (annual %)',\n",
    " u'Population, female (% of total)',\n",
    " u'Population, total',\n",
    " u'Pregnant women receiving prenatal care (%)',\n",
    " u'Prevalence of anemia among children (% of children under 5)',\n",
    " u'Prevalence of HIV, female (% ages 15-24)',\n",
    " u'Prevalence of HIV, male (% ages 15-24)',\n",
    " u'Prevalence of HIV, total (% of population ages 15-49)',\n",
    " u'Prevalence of overweight, weight for height (% of children under 5)',\n",
    " u'Prevalence of severe wasting, weight for height (% of children under 5)',\n",
    " u'Prevalence of stunting, height for age (% of children under 5)',\n",
    " u'Prevalence of undernourishment (% of population)',\n",
    " u'Prevalence of underweight, weight for age (% of children under 5)',\n",
    " u'Prevalence of wasting, weight for height (% of children under 5)',\n",
    " u'Refugee population by country or territory of asylum',\n",
    " u'Refugee population by country or territory of origin',\n",
    " u'Risk of catastrophic expenditure for surgical care (% of people at risk)',\n",
    " u'Risk of impoverishing expenditure for surgical care (% of people at risk)',\n",
    " u'Specialist surgical workforce (per 100,000 population)',\n",
    " u'Teenage mothers (% of women ages 15-19 who have had children or are currently pregnant)',\n",
    " u'Unmet need for contraception (% of married women ages 15-49)']"
   ]
  },
  {
   "cell_type": "code",
   "execution_count": null,
   "metadata": {
    "collapsed": true
   },
   "outputs": [],
   "source": []
  },
  {
   "cell_type": "markdown",
   "metadata": {},
   "source": [
    "## Cleaning Education <a class=\"anchor\" id=\"education\"></a>"
   ]
  },
  {
   "cell_type": "code",
   "execution_count": 28,
   "metadata": {},
   "outputs": [
    {
     "name": "stderr",
     "output_type": "stream",
     "text": [
      "/opt/conda/lib/python2.7/site-packages/IPython/core/interactiveshell.py:2718: DtypeWarning: Columns (7,55,132,177,180,243,266,361,458,481,578,600,610,620,629,753,794,857,873,882,974,1037,1052,1275,1610,1644,1742,1791,1816,1820,1908,1915,1972,2039,2059,2086,2112,2390,2401,2410,2452,2466,2478,2499,2505,2539,2643,2699,2885,2910,2916,2936,2991,3100,3101,3146,3191,3225,3234,3259,3317,3381,3447,3460,3487,3492,3504,3528,3628,3631,3691,3731,3759,3781,3848,3874,3965,4039,4051,4078,4094,4129,4332,4371,4431,4557,4776,4827,4926,5103,5161,5212,5229,5262,5280,5359,5389) have mixed types. Specify dtype option on import or set low_memory=False.\n",
      "  interactivity=interactivity, compiler=compiler, result=result)\n"
     ]
    }
   ],
   "source": [
    "edu = pd.read_csv('Education.csv', index_col=0)"
   ]
  },
  {
   "cell_type": "code",
   "execution_count": 29,
   "metadata": {
    "collapsed": true
   },
   "outputs": [],
   "source": [
    "edu_clean = edu.reindex(all_the_countries)"
   ]
  },
  {
   "cell_type": "code",
   "execution_count": 30,
   "metadata": {
    "collapsed": true
   },
   "outputs": [],
   "source": [
    "as_list = edu_clean.index.tolist()\n",
    "idx = as_list.index('Korea, Dem. People’s Rep.')\n",
    "as_list[idx] = 'South Korea'\n",
    "edu_clean.index = as_list"
   ]
  },
  {
   "cell_type": "code",
   "execution_count": 52,
   "metadata": {
    "collapsed": true
   },
   "outputs": [],
   "source": [
    "edu_ind =get_names('https://data.worldbank.org/topic/education?view=chart',318)"
   ]
  },
  {
   "cell_type": "code",
   "execution_count": 72,
   "metadata": {
    "collapsed": true
   },
   "outputs": [],
   "source": [
    "edu_ind.remove(u'Gross enrollment ratio, primary, both sexes (%)')"
   ]
  },
  {
   "cell_type": "code",
   "execution_count": 32,
   "metadata": {
    "collapsed": true
   },
   "outputs": [],
   "source": [
    "edu_clean = edu_clean[edu_ind]"
   ]
  },
  {
   "cell_type": "code",
   "execution_count": 33,
   "metadata": {
    "collapsed": true
   },
   "outputs": [],
   "source": [
    "edu_clean.to_csv('Education_cleaned.csv')"
   ]
  },
  {
   "cell_type": "code",
   "execution_count": 31,
   "metadata": {
    "collapsed": true
   },
   "outputs": [],
   "source": [
    "edu_ind=[u'Children out of school, primary, female',\n",
    " u'Children out of school, primary, male',\n",
    " u'Expenditure on education as % of total government expenditure (%)',\n",
    " u'Government expenditure on education, total (% of GDP)',\n",
    " u'Government expenditure per student, primary (% of GDP per capita)',\n",
    " u'Government expenditure per student, secondary (% of GDP per capita)',\n",
    " u'Government expenditure per tertiary student as % of GDP per capita (%)',\n",
    " u'Gross enrolment ratio, pre-primary, both sexes (%)',\n",
    " u'Gross enrolment ratio, secondary, both sexes (%)',\n",
    " u'Gross enrolment ratio, tertiary, both sexes (%)',\n",
    " u'Gross intake ratio to Grade 1 of primary education, female (%)',\n",
    " u'Gross intake ratio to Grade 1 of primary education, male (%)',\n",
    " u'Labor force, female (% of total labor force)',\n",
    " u'Labor force, total',\n",
    " u'Literacy rate, adult female (% of females ages 15 and above)',\n",
    " u'Literacy rate, adult male (% of males ages 15 and above)',\n",
    " u'Literacy rate, adult total (% of people ages 15 and above)',\n",
    " u'Literacy rate, youth female (% of females ages 15-24)',\n",
    " u'Literacy rate, youth male (% of males ages 15-24)',\n",
    " u'Literacy rate, youth total (% of people ages 15-24)',\n",
    " u'Net enrolment rate, secondary, both sexes (%)',\n",
    " u'Percentage of repeaters in primary education, all grades, female (%)',\n",
    " u'Percentage of repeaters in primary education, all grades, male (%)',\n",
    " u'Percentage of teachers in primary education who are trained, both sexes (%)',\n",
    " u'Persistence to last grade of primary, female (% of cohort)',\n",
    " u'Persistence to last grade of primary, male (% of cohort)',\n",
    " u'Population ages 0-14 (% of total)',\n",
    " u'Population ages 15-64 (% of total)',\n",
    " u'Primary completion rate, female (% of relevant age group)',\n",
    " u'Primary completion rate, male (% of relevant age group)',\n",
    " u'Primary completion rate, total (% of relevant age group)',\n",
    " u'Progression to secondary school, female (%)',\n",
    " u'Progression to secondary school, male (%)',\n",
    " u'Pupil-teacher ratio in primary education (headcount basis)',\n",
    " u'School enrollment, primary (% net)',\n",
    " u'School enrollment, primary (gross), gender parity index (GPI)',\n",
    " u'School enrollment, primary and secondary (gross), gender parity index (GPI)',\n",
    " u'Unemployment, female (% of female labor force) (modeled ILO estimate)',\n",
    " u'Unemployment, male (% of male labor force) (modeled ILO estimate)',\n",
    " u'Unemployment, total (% of total labor force) (modeled ILO estimate)']"
   ]
  },
  {
   "cell_type": "code",
   "execution_count": null,
   "metadata": {
    "collapsed": true
   },
   "outputs": [],
   "source": []
  },
  {
   "cell_type": "markdown",
   "metadata": {},
   "source": [
    "## Cleaning Development <a class=\"anchor\" id=\"development\"></a>"
   ]
  },
  {
   "cell_type": "code",
   "execution_count": 34,
   "metadata": {
    "collapsed": true
   },
   "outputs": [],
   "source": [
    "dev = pd.read_csv('Development Indicator.csv', index_col=0)"
   ]
  },
  {
   "cell_type": "code",
   "execution_count": 35,
   "metadata": {
    "collapsed": true
   },
   "outputs": [],
   "source": [
    "dev_clean = dev.reindex(all_the_countries)"
   ]
  },
  {
   "cell_type": "code",
   "execution_count": 36,
   "metadata": {
    "collapsed": true
   },
   "outputs": [],
   "source": [
    "as_list = dev_clean.index.tolist()\n",
    "idx = as_list.index('Korea, Dem. People’s Rep.')\n",
    "as_list[idx] = 'South Korea'\n",
    "dev_clean.index = as_list"
   ]
  },
  {
   "cell_type": "code",
   "execution_count": 32,
   "metadata": {
    "collapsed": true
   },
   "outputs": [],
   "source": [
    "dev_ind = get_names('https://data.worldbank.org/topic/agriculture-and-rural-development?view=chart',314)"
   ]
  },
  {
   "cell_type": "code",
   "execution_count": 34,
   "metadata": {
    "collapsed": true
   },
   "outputs": [],
   "source": [
    "dev_ind2 = get_names('https://data.worldbank.org/topic/infrastructure?view=chart',312)"
   ]
  },
  {
   "cell_type": "code",
   "execution_count": 36,
   "metadata": {
    "collapsed": true
   },
   "outputs": [],
   "source": [
    "dev_ind3 = get_names('https://data.worldbank.org/topic/science-and-technology?view=chart',310)"
   ]
  },
  {
   "cell_type": "code",
   "execution_count": 38,
   "metadata": {
    "collapsed": true
   },
   "outputs": [],
   "source": [
    "dev_ind4 = get_names('https://data.worldbank.org/topic/urban-development?view=chart', 312)"
   ]
  },
  {
   "cell_type": "code",
   "execution_count": 40,
   "metadata": {
    "collapsed": true
   },
   "outputs": [],
   "source": [
    "dev_ind.extend(dev_ind2)\n",
    "dev_ind.extend(dev_ind3)\n",
    "dev_ind.extend(dev_ind4)"
   ]
  },
  {
   "cell_type": "code",
   "execution_count": 41,
   "metadata": {
    "collapsed": true
   },
   "outputs": [],
   "source": [
    "dev_ind = list(set(dev_ind))"
   ]
  },
  {
   "cell_type": "code",
   "execution_count": 38,
   "metadata": {
    "collapsed": true
   },
   "outputs": [],
   "source": [
    "dev_clean = dev_clean[dev_ind]"
   ]
  },
  {
   "cell_type": "code",
   "execution_count": 39,
   "metadata": {
    "collapsed": true
   },
   "outputs": [],
   "source": [
    "dev_clean.to_csv('Development_cleaned.csv')"
   ]
  },
  {
   "cell_type": "code",
   "execution_count": 37,
   "metadata": {
    "collapsed": true
   },
   "outputs": [],
   "source": [
    "dev_ind=[u'Urban poverty gap at national poverty lines (%)',\n",
    " u'Crop production index (2004-2006 = 100)',\n",
    " u'Technicians in R&D (per million people)',\n",
    " u'Food production index (2004-2006 = 100)',\n",
    " u'Urban population',\n",
    " u'Trademark applications, direct nonresident',\n",
    " u'Investment in energy with private participation (current US$)',\n",
    " u'Annual freshwater withdrawals, total (billion cubic meters)',\n",
    " u'Mobile cellular subscriptions (per 100 people)',\n",
    " u'Arable land (% of land area)',\n",
    " u'Urban poverty headcount ratio at national poverty lines (% of urban population)',\n",
    " u'Researchers in R&D (per million people)',\n",
    " u'Investment in water and sanitation with private participation (current US$)',\n",
    " u'Fixed telephone subscriptions (per 100 people)',\n",
    " u'Mortality caused by road traffic injury (per 100,000 people)',\n",
    " u'High-technology exports (% of manufactured exports)',\n",
    " u'Cereal yield (kg per hectare)',\n",
    " u'Land area (sq. km)',\n",
    " u'Population in the largest city (% of urban population)',\n",
    " u'Improved sanitation facilities, urban (% of urban population with access)',\n",
    " u'Investment in telecoms with private participation (current US$)',\n",
    " u'Improved water source, rural (% of rural population with access)',\n",
    " u'Arable land (hectares per person)',\n",
    " u'Scientific and technical journal articles',\n",
    " u'Population in urban agglomerations of more than 1 million (% of total population)',\n",
    " u'Container port traffic (TEU: 20 foot equivalent units)',\n",
    " u'Improved water source (% of population with access)',\n",
    " u'Annual freshwater withdrawals, total (% of internal resources)',\n",
    " u'Agricultural irrigated land (% of total agricultural land)',\n",
    " u'Employment in agriculture, female (% of female employment) (modeled ILO estimate)',\n",
    " u'Research and development expenditure (% of GDP)',\n",
    " u'Fertilizer consumption (kilograms per hectare of arable land)',\n",
    " u'Investment in transport with private participation (current US$)',\n",
    " u'Forest area (% of land area)',\n",
    " u'Livestock production index (2004-2006 = 100)',\n",
    " u'Surface area (sq. km)',\n",
    " u'Employment in agriculture, male (% of male employment) (modeled ILO estimate)',\n",
    " u'Improved sanitation facilities, rural (% of rural population with access)',\n",
    " u'Rural poverty headcount ratio at national poverty lines (% of rural population)',\n",
    " u'Improved water source, urban (% of urban population with access)',\n",
    " u'Agricultural machinery, tractors per 100 sq. km of arable land',\n",
    " u'Secure Internet servers (per 1 million people)',\n",
    " u'Rural population (% of total population)',\n",
    " u'Rural poverty gap at national poverty lines (%)',\n",
    " u'Patent applications, residents',\n",
    " u'Permanent cropland (% of land area)',\n",
    " u'PM2.5 air pollution, population exposed to levels exceeding WHO guideline value (% of total)',\n",
    " u'Charges for the use of intellectual property, receipts (BoP, current US$)',\n",
    " u'Electric power consumption (kWh per capita)',\n",
    " u'Population living in slums (% of urban population)',\n",
    " u'Forest area (sq. km)',\n",
    " u'Renewable internal freshwater resources, total (billion cubic meters)',\n",
    " u'Rural population',\n",
    " u'Patent applications, nonresidents',\n",
    " u'Rail lines (total route-km)',\n",
    " u'Population density (people per sq. km of land area)',\n",
    " u'Agricultural land (% of land area)',\n",
    " u'Charges for the use of intellectual property, payments (BoP, current US$)',\n",
    " u'Land under cereal production (hectares)',\n",
    " u'Agriculture, value added (% of GDP)',\n",
    " u'Trademark applications, direct resident',\n",
    " u'Urban population (% of total)',\n",
    " u'Renewable internal freshwater resources per capita (cubic meters)',\n",
    " u'PM2.5 air pollution, mean annual exposure (micrograms per cubic meter)',\n",
    " u'High-technology exports (current US$)',\n",
    " u'Air transport, registered carrier departures worldwide',\n",
    " u'Fixed broadband subscriptions (per 100 people)']"
   ]
  },
  {
   "cell_type": "code",
   "execution_count": null,
   "metadata": {
    "collapsed": true
   },
   "outputs": [],
   "source": []
  },
  {
   "cell_type": "markdown",
   "metadata": {},
   "source": [
    "## Cleaning Finance <a class=\"anchor\" id=\"finance\"></a>"
   ]
  },
  {
   "cell_type": "code",
   "execution_count": 40,
   "metadata": {
    "collapsed": true
   },
   "outputs": [],
   "source": [
    "fin = pd.read_csv('Finance.csv', index_col=0)"
   ]
  },
  {
   "cell_type": "code",
   "execution_count": 41,
   "metadata": {
    "collapsed": true
   },
   "outputs": [],
   "source": [
    "fin_clean = fin.reindex(all_the_countries)"
   ]
  },
  {
   "cell_type": "code",
   "execution_count": 79,
   "metadata": {
    "collapsed": true
   },
   "outputs": [],
   "source": [
    "fin_ind = get_names('https://data.worldbank.org/topic/financial-sector?view=chart',316)"
   ]
  },
  {
   "cell_type": "code",
   "execution_count": 84,
   "metadata": {
    "collapsed": true
   },
   "outputs": [],
   "source": [
    "fin_ind.remove(u'Account at a financial institution, female (% age 15+) [ts]')\n",
    "fin_ind.remove(u'Account at a financial institution, male (% age 15+) [ts]')"
   ]
  },
  {
   "cell_type": "code",
   "execution_count": 44,
   "metadata": {
    "collapsed": true
   },
   "outputs": [],
   "source": [
    "fin_clean = econ[fin_ind]"
   ]
  },
  {
   "cell_type": "code",
   "execution_count": 45,
   "metadata": {
    "collapsed": true
   },
   "outputs": [],
   "source": [
    "fin_clean = fin_clean.reindex(all_the_countries)"
   ]
  },
  {
   "cell_type": "code",
   "execution_count": 46,
   "metadata": {
    "collapsed": true
   },
   "outputs": [],
   "source": [
    "as_list = fin_clean.index.tolist()\n",
    "idx = as_list.index('Korea, Dem. People’s Rep.')\n",
    "as_list[idx] = 'South Korea'\n",
    "fin_clean.index = as_list"
   ]
  },
  {
   "cell_type": "code",
   "execution_count": 47,
   "metadata": {
    "collapsed": true
   },
   "outputs": [],
   "source": [
    "fin_clean.to_csv('Finance_cleaned.csv')"
   ]
  },
  {
   "cell_type": "code",
   "execution_count": 43,
   "metadata": {
    "collapsed": true
   },
   "outputs": [],
   "source": [
    "fin_ind=[u'Automated teller machines (ATMs) (per 100,000 adults)',\n",
    " u'Bank capital to assets ratio (%)',\n",
    " u'Bank nonperforming loans to total gross loans (%)',\n",
    " u'Broad money (% of GDP)',\n",
    " u'Broad money growth (annual %)',\n",
    " u'Commercial bank branches (per 100,000 adults)',\n",
    " u'Deposit interest rate (%)',\n",
    " u'Depth of credit information index (0=low to 8=high)',\n",
    " u'Domestic credit provided by financial sector (% of GDP)',\n",
    " u'Domestic credit to private sector (% of GDP)',\n",
    " u'Foreign direct investment, net inflows (BoP, current US$)',\n",
    " u'Inflation, consumer prices (annual %)',\n",
    " u'Interest rate spread (lending rate minus deposit rate, %)',\n",
    " u'International migrant stock, total',\n",
    " u'Lending interest rate (%)',\n",
    " u'Listed domestic companies, total',\n",
    " u'Market capitalization of listed domestic companies (% of GDP)',\n",
    " u'Market capitalization of listed domestic companies (current US$)',\n",
    " u'Net migration',\n",
    " u'Official exchange rate (LCU per US$, period average)',\n",
    " u'Personal remittances, received (current US$)',\n",
    " u'Real interest rate (%)',\n",
    " u'Risk premium on lending (lending rate minus treasury bill rate, %)',\n",
    " u'S&P Global Equity Indices (annual % change)',\n",
    " u'Stocks traded, total value (% of GDP)',\n",
    " u'Stocks traded, turnover ratio of domestic shares (%)',\n",
    " u'Strength of legal rights index (0=weak to 12=strong)',\n",
    " u'Total reserves (includes gold, current US$)']\n"
   ]
  },
  {
   "cell_type": "markdown",
   "metadata": {},
   "source": [
    "## Cleaning Environment <a class=\"anchor\" id=\"environment\"></a>"
   ]
  },
  {
   "cell_type": "code",
   "execution_count": 49,
   "metadata": {
    "collapsed": true
   },
   "outputs": [],
   "source": [
    "env = pd.read_csv('Development Indicator.csv',index_col=0)"
   ]
  },
  {
   "cell_type": "code",
   "execution_count": 50,
   "metadata": {
    "collapsed": true
   },
   "outputs": [],
   "source": [
    "env_clean = env.reindex(all_the_countries)"
   ]
  },
  {
   "cell_type": "code",
   "execution_count": 51,
   "metadata": {
    "collapsed": true
   },
   "outputs": [],
   "source": [
    "as_list = env_clean.index.tolist()\n",
    "idx = as_list.index('Korea, Dem. People’s Rep.')\n",
    "as_list[idx] = 'South Korea'\n",
    "env_clean.index = as_list"
   ]
  },
  {
   "cell_type": "code",
   "execution_count": 95,
   "metadata": {
    "collapsed": true
   },
   "outputs": [],
   "source": [
    "env_ind = get_names('https://data.worldbank.org/topic/energy-and-mining?view=chart', 316)"
   ]
  },
  {
   "cell_type": "code",
   "execution_count": 97,
   "metadata": {
    "collapsed": true
   },
   "outputs": [],
   "source": [
    "env_ind2 = get_names('https://data.worldbank.org/topic/environment?view=chart', 314)"
   ]
  },
  {
   "cell_type": "code",
   "execution_count": 99,
   "metadata": {
    "collapsed": true
   },
   "outputs": [],
   "source": [
    "env_ind3 = get_names('https://data.worldbank.org/topic/climate-change?view=chart',314)"
   ]
  },
  {
   "cell_type": "code",
   "execution_count": 101,
   "metadata": {
    "collapsed": true
   },
   "outputs": [],
   "source": [
    "env_ind.extend(env_ind2)\n",
    "env_ind.extend(env_ind3)"
   ]
  },
  {
   "cell_type": "code",
   "execution_count": 102,
   "metadata": {
    "collapsed": true
   },
   "outputs": [],
   "source": [
    "env_ind = list(set(env_ind))"
   ]
  },
  {
   "cell_type": "code",
   "execution_count": 53,
   "metadata": {
    "collapsed": true
   },
   "outputs": [],
   "source": [
    "env_clean = env_clean[env_ind]"
   ]
  },
  {
   "cell_type": "code",
   "execution_count": 54,
   "metadata": {
    "collapsed": true
   },
   "outputs": [],
   "source": [
    "env_clean.to_csv('Environment_cleaned.csv')"
   ]
  },
  {
   "cell_type": "code",
   "execution_count": 52,
   "metadata": {
    "collapsed": true
   },
   "outputs": [],
   "source": [
    "env_ind=[u'Nitrous oxide emissions (thousand metric tons of CO2 equivalent)',\n",
    " u'Prevalence of underweight, weight for age (% of children under 5)',\n",
    " u'Fuel exports (% of merchandise exports)',\n",
    " u'Renewable electricity output (% of total electricity output)',\n",
    " u'Poverty headcount ratio at $1.90 a day (2011 PPP) (% of population)',\n",
    " u'Terrestrial and marine protected areas (% of total territorial area)',\n",
    " u'Investment in energy with private participation (current US$)',\n",
    " u'Annual freshwater withdrawals, total (billion cubic meters)',\n",
    " u'Arable land (% of land area)',\n",
    " u'GDP per unit of energy use (constant 2011 PPP $ per kg of oil equivalent)',\n",
    " u'CPIA public sector management and institutions cluster average (1=low to 6=high)',\n",
    " u'Population growth (annual %)',\n",
    " u'Plant species (higher), threatened',\n",
    " u'Cereal yield (kg per hectare)',\n",
    " u'Land area (sq. km)',\n",
    " u'Mammal species, threatened',\n",
    " u'Urban population',\n",
    " u'CO2 emissions (kt)',\n",
    " u'Population in urban agglomerations of more than 1 million (% of total population)',\n",
    " u'Improved water source (% of population with access)',\n",
    " u'Primary completion rate, total (% of relevant age group)',\n",
    " u'Adjusted net savings, including particulate emission damage (% of GNI)',\n",
    " u'Annual freshwater withdrawals, total (% of internal resources)',\n",
    " u'Agricultural irrigated land (% of total agricultural land)',\n",
    " u'Fish species, threatened',\n",
    " u'Improved sanitation facilities (% of population with access)',\n",
    " u'Bird species, threatened',\n",
    " u'Population living in areas where elevation is below 5 meters (% of total population)',\n",
    " u'PM2.5 air pollution, population exposed to levels exceeding WHO guideline value (% of total)',\n",
    " u'Forest area (% of land area)',\n",
    " u'Renewable energy consumption (% of total final energy consumption)',\n",
    " u'Surface area (sq. km)',\n",
    " u'Improved water source, urban (% of urban population with access)',\n",
    " u'Time required to get electricity (days)',\n",
    " u'Ores and metals exports (% of merchandise exports)',\n",
    " u'Access to electricity (% of population)',\n",
    " u'School enrollment, primary and secondary (gross), gender parity index (GPI)',\n",
    " u'Energy intensity level of primary energy (MJ/$2011 PPP GDP)',\n",
    " u'Population, total',\n",
    " u'Energy imports, net (% of energy use)',\n",
    " u'Fossil fuel energy consumption (% of total)',\n",
    " u'Forest area (sq. km)',\n",
    " u'Electric power consumption (kWh per capita)',\n",
    " u'Ease of doing business index (1=most business-friendly regulations)',\n",
    " u'Population living in slums (% of urban population)',\n",
    " u'Alternative and nuclear energy (% of total energy use)',\n",
    " u'Total natural resources rents (% of GDP)',\n",
    " u'Renewable internal freshwater resources, total (billion cubic meters)',\n",
    " u'Urban population (% of total)',\n",
    " u'CO2 emissions (metric tons per capita)',\n",
    " u'Agricultural land (% of land area)',\n",
    " u'Total greenhouse gas emissions (kt of CO2 equivalent)',\n",
    " u'Improved water source, rural (% of rural population with access)',\n",
    " u'Energy use (kg of oil equivalent per capita)',\n",
    " u'Agriculture, value added (% of GDP)',\n",
    " u'Land area where elevation is below 5 meters (% of total land area)',\n",
    " u'Renewable internal freshwater resources per capita (cubic meters)',\n",
    " u'PM2.5 air pollution, mean annual exposure (micrograms per cubic meter)',\n",
    " u'Methane emissions (kt of CO2 equivalent)',\n",
    " u'Mortality rate, under-5 (per 1,000 live births)']"
   ]
  },
  {
   "cell_type": "code",
   "execution_count": 56,
   "metadata": {},
   "outputs": [
    {
     "name": "stdout",
     "output_type": "stream",
     "text": [
      "Afghanistan\n",
      "Albania\n",
      "Algeria\n",
      "American Samoa\n",
      "Andorra\n",
      "Angola\n",
      "Antigua and Barbuda\n",
      "Argentina\n",
      "Armenia\n",
      "Aruba\n",
      "Australia\n",
      "Austria\n",
      "Azerbaijan\n",
      "Bahamas, The\n",
      "Bahrain\n",
      "Bangladesh\n",
      "Barbados\n",
      "Belarus\n",
      "Belgium\n",
      "Belize\n",
      "Benin\n",
      "Bermuda\n",
      "Bhutan\n",
      "Bolivia\n",
      "Bosnia and Herzegovina\n",
      "Botswana\n",
      "Brazil\n",
      "British Virgin Islands\n",
      "Brunei Darussalam\n",
      "Bulgaria\n",
      "Burkina Faso\n",
      "Burundi\n",
      "Cabo Verde\n",
      "Cambodia\n",
      "Cameroon\n",
      "Canada\n",
      "Cayman Islands\n",
      "Central African Republic\n",
      "Chad\n",
      "Channel Islands\n",
      "Chile\n",
      "China\n",
      "Colombia\n",
      "Comoros\n",
      "Congo, Dem. Rep.\n",
      "Congo, Rep.\n",
      "Costa Rica\n",
      "Cote d'Ivoire\n",
      "Coverage_Range\n",
      "Croatia\n",
      "Cuba\n",
      "Curacao\n",
      "Cyprus\n",
      "Czech Republic\n",
      "Denmark\n",
      "Djibouti\n",
      "Dominica\n",
      "Dominican Republic\n",
      "Ecuador\n",
      "Egypt, Arab Rep.\n",
      "El Salvador\n",
      "Equatorial Guinea\n",
      "Eritrea\n",
      "Estonia\n",
      "Ethiopia\n",
      "Faroe Islands\n",
      "Fiji\n",
      "Finland\n",
      "France\n",
      "French Polynesia\n",
      "Gabon\n",
      "Gambia, The\n",
      "Georgia\n",
      "Germany\n",
      "Ghana\n",
      "Gibraltar\n",
      "Greece\n",
      "Greenland\n",
      "Grenada\n",
      "Guam\n",
      "Guatemala\n",
      "Guinea\n",
      "Guinea-Bissau\n",
      "Guyana\n",
      "Haiti\n",
      "Honduras\n",
      "Hong Kong SAR, China\n",
      "Hungary\n",
      "Iceland\n",
      "India\n",
      "Indonesia\n",
      "Iran, Islamic Rep.\n",
      "Iraq\n",
      "Ireland\n",
      "Isle of Man\n",
      "Israel\n",
      "Italy\n",
      "Jamaica\n",
      "Japan\n",
      "Jordan\n",
      "Kazakhstan\n",
      "Kenya\n",
      "Kiribati\n",
      "Korea, Rep.\n",
      "Kosovo\n",
      "Kuwait\n",
      "Kyrgyz Republic\n",
      "Lao PDR\n",
      "Latvia\n",
      "Lebanon\n",
      "Lesotho\n",
      "Liberia\n",
      "Libya\n",
      "Liechtenstein\n",
      "Lithuania\n",
      "Luxembourg\n",
      "Macao SAR, China\n",
      "Macedonia, FYR\n",
      "Madagascar\n",
      "Malawi\n",
      "Malaysia\n",
      "Maldives\n",
      "Mali\n",
      "Malta\n",
      "Marshall Islands\n",
      "Mauritania\n",
      "Mauritius\n",
      "Mexico\n",
      "Micronesia, Fed. Sts.\n",
      "Moldova\n",
      "Monaco\n",
      "Mongolia\n",
      "Montenegro\n",
      "Morocco\n",
      "Mozambique\n",
      "Myanmar\n",
      "Namibia\n",
      "Nauru\n",
      "Nepal\n",
      "Netherlands\n",
      "New Caledonia\n",
      "New Zealand\n",
      "Nicaragua\n",
      "Niger\n",
      "Nigeria\n",
      "Northern Mariana Islands\n",
      "Norway\n",
      "Oman\n",
      "Pakistan\n",
      "Palau\n",
      "Panama\n",
      "Papua New Guinea\n",
      "Paraguay\n",
      "Peru\n",
      "Philippines\n",
      "Poland\n",
      "Portugal\n",
      "Puerto Rico\n",
      "Qatar\n",
      "Romania\n",
      "Russian Federation\n",
      "Rwanda\n",
      "Samoa\n",
      "San Marino\n",
      "Sao Tome and Principe\n",
      "Saudi Arabia\n",
      "Senegal\n",
      "Serbia\n",
      "Seychelles\n",
      "Sierra Leone\n",
      "Singapore\n",
      "Sint Maarten (Dutch part)\n",
      "Slovak Republic\n",
      "Slovenia\n",
      "Solomon Islands\n",
      "Somalia\n",
      "South Africa\n",
      "South Korea\n",
      "South Sudan\n",
      "Spain\n",
      "Sri Lanka\n",
      "St. Kitts and Nevis\n",
      "St. Lucia\n",
      "St. Martin (French part)\n",
      "St. Vincent and the Grenadines\n",
      "Sudan\n",
      "Suriname\n",
      "Swaziland\n",
      "Sweden\n",
      "Switzerland\n",
      "Syrian Arab Republic\n",
      "Tajikistan\n",
      "Tanzania\n",
      "Thailand\n",
      "Timor-Leste\n",
      "Togo\n",
      "Tonga\n",
      "Trinidad and Tobago\n",
      "Tunisia\n",
      "Turkey\n",
      "Turkmenistan\n",
      "Turks and Caicos Islands\n",
      "Tuvalu\n",
      "Uganda\n",
      "Ukraine\n",
      "United Arab Emirates\n",
      "United Kingdom\n",
      "United States\n",
      "Uruguay\n",
      "Uzbekistan\n",
      "Vanuatu\n",
      "Venezuela, RB\n",
      "Vietnam\n",
      "Virgin Islands (U.S.)\n",
      "West Bank and Gaza\n",
      "Yemen, Rep.\n",
      "Zambia\n",
      "Zimbabwe\n"
     ]
    }
   ],
   "source": [
    "for ind in sorted(env_clean.index):\n",
    "    print ind"
   ]
  },
  {
   "cell_type": "markdown",
   "metadata": {},
   "source": [
    "## Cleaning Poverty <a class=\"anchor\" id=\"poverty\"></a>"
   ]
  },
  {
   "cell_type": "code",
   "execution_count": 57,
   "metadata": {
    "collapsed": true
   },
   "outputs": [],
   "source": [
    "poverty = pd.read_csv('Poverty.csv',index_col=0)\n",
    "poverty_clean = poverty.reindex(all_the_countries)"
   ]
  },
  {
   "cell_type": "code",
   "execution_count": 58,
   "metadata": {
    "collapsed": true
   },
   "outputs": [],
   "source": [
    "as_list = poverty_clean.index.tolist()\n",
    "idx = as_list.index('Korea, Dem. People’s Rep.')\n",
    "as_list[idx] = 'South Korea'\n",
    "poverty_clean.index = as_list"
   ]
  },
  {
   "cell_type": "code",
   "execution_count": 14,
   "metadata": {
    "collapsed": true
   },
   "outputs": [],
   "source": [
    "pov_ind = get_names('https://data.worldbank.org/topic/poverty?view=chart',312)"
   ]
  },
  {
   "cell_type": "code",
   "execution_count": 60,
   "metadata": {
    "collapsed": true
   },
   "outputs": [],
   "source": [
    "poverty_clean = poverty_clean[pov_ind]"
   ]
  },
  {
   "cell_type": "code",
   "execution_count": 59,
   "metadata": {
    "collapsed": true
   },
   "outputs": [],
   "source": [
    "pov_ind=[u'Annualized average growth rate in per capita real survey mean consumption or income, bottom 40% of population (%)',\n",
    " u'Annualized average growth rate in per capita real survey mean consumption or income, total population (%)',\n",
    " u'GINI index (World Bank estimate)',\n",
    " u'Income share held by fourth 20%',\n",
    " u'Income share held by highest 10%',\n",
    " u'Income share held by highest 20%',\n",
    " u'Income share held by lowest 10%',\n",
    " u'Income share held by lowest 20%',\n",
    " u'Income share held by second 20%',\n",
    " u'Income share held by third 20%',\n",
    " u'Population living in slums (% of urban population)',\n",
    " u'Poverty gap at $1.90 a day (2011 PPP) (%)',\n",
    " u'Poverty gap at national poverty lines (%)',\n",
    " u'Poverty headcount ratio at $1.90 a day (2011 PPP) (% of population)',\n",
    " u'Poverty headcount ratio at national poverty lines (% of population)',\n",
    " u'Rural poverty gap at national poverty lines (%)',\n",
    " u'Rural poverty headcount ratio at national poverty lines (% of rural population)',\n",
    " u'Survey mean consumption or income per capita, bottom 40% of population (2011 PPP $ per day)',\n",
    " u'Survey mean consumption or income per capita, total population (2011 PPP $ per day)',\n",
    " u'Urban poverty gap at national poverty lines (%)',\n",
    " u'Urban poverty headcount ratio at national poverty lines (% of urban population)']"
   ]
  },
  {
   "cell_type": "code",
   "execution_count": 61,
   "metadata": {
    "collapsed": true
   },
   "outputs": [],
   "source": [
    "poverty_clean.to_csv('Poverty_cleaned.csv')"
   ]
  },
  {
   "cell_type": "code",
   "execution_count": null,
   "metadata": {
    "collapsed": true
   },
   "outputs": [],
   "source": []
  }
 ],
 "metadata": {
  "kernelspec": {
   "display_name": "Python 2",
   "language": "python",
   "name": "python2"
  },
  "language_info": {
   "codemirror_mode": {
    "name": "ipython",
    "version": 2
   },
   "file_extension": ".py",
   "mimetype": "text/x-python",
   "name": "python",
   "nbconvert_exporter": "python",
   "pygments_lexer": "ipython2",
   "version": "2.7.13"
  }
 },
 "nbformat": 4,
 "nbformat_minor": 2
}
