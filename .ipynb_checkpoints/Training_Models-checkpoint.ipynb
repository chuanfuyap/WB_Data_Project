{
 "cells": [
  {
   "cell_type": "code",
   "execution_count": 1,
   "metadata": {
    "collapsed": true
   },
   "outputs": [],
   "source": [
    "%matplotlib inline \n",
    "import pandas as pd\n",
    "import matplotlib.pyplot as plt\n",
    "import seaborn as sns\n",
    "import numpy as np"
   ]
  },
  {
   "cell_type": "code",
   "execution_count": 2,
   "metadata": {
    "collapsed": true
   },
   "outputs": [],
   "source": [
    "from sklearn.model_selection import train_test_split\n",
    "from sklearn import utils\n",
    "from sklearn import base, linear_model, ensemble\n",
    "from sklearn.preprocessing import StandardScaler\n",
    "from sklearn.pipeline import Pipeline\n",
    "from sklearn.model_selection import GridSearchCV"
   ]
  },
  {
   "cell_type": "markdown",
   "metadata": {},
   "source": [
    "# Contents\n",
    "* [Training Economy](#economy)\n",
    "* [Training Health](#health)\n",
    "* [Training Education](#education)\n",
    "* [Training Development](#development)\n",
    "* [Training Finance](#finance)\n",
    "* [Training Environment](#environment)\n",
    "* [Training Poverty](#poverty)\n"
   ]
  },
  {
   "cell_type": "markdown",
   "metadata": {},
   "source": [
    "## Training Economy <a class=\"anchor\" id=\"economy\"></a>"
   ]
  },
  {
   "cell_type": "markdown",
   "metadata": {},
   "source": [
    "fill na with mean of columns"
   ]
  },
  {
   "cell_type": "code",
   "execution_count": 7,
   "metadata": {
    "collapsed": true
   },
   "outputs": [],
   "source": [
    "econ_stack = pd.read_csv('ML_train_econ_stack.csv', index_col=0)"
   ]
  },
  {
   "cell_type": "code",
   "execution_count": 4,
   "metadata": {},
   "outputs": [
    {
     "data": {
      "text/plain": [
       "(15250, 459)"
      ]
     },
     "execution_count": 4,
     "metadata": {},
     "output_type": "execute_result"
    }
   ],
   "source": [
    "econ_stack.shape"
   ]
  },
  {
   "cell_type": "code",
   "execution_count": 5,
   "metadata": {
    "scrolled": true
   },
   "outputs": [
    {
     "data": {
      "text/html": [
       "<div>\n",
       "<style scoped>\n",
       "    .dataframe tbody tr th:only-of-type {\n",
       "        vertical-align: middle;\n",
       "    }\n",
       "\n",
       "    .dataframe tbody tr th {\n",
       "        vertical-align: top;\n",
       "    }\n",
       "\n",
       "    .dataframe thead th {\n",
       "        text-align: right;\n",
       "    }\n",
       "</style>\n",
       "<table border=\"1\" class=\"dataframe\">\n",
       "  <thead>\n",
       "    <tr style=\"text-align: right;\">\n",
       "      <th></th>\n",
       "      <th>2005 PPP conversion factor, GDP (LCU per international $)</th>\n",
       "      <th>2005 PPP conversion factor, private consumption (LCU per international $)</th>\n",
       "      <th>Access to electricity, rural (% of rural population)</th>\n",
       "      <th>Access to electricity, urban (% of urban population)</th>\n",
       "      <th>Adjusted net national income (annual % growth)</th>\n",
       "      <th>Adjusted net national income (constant 2010 US$)</th>\n",
       "      <th>Adjusted net national income (current US$)</th>\n",
       "      <th>Adjusted net national income per capita (annual % growth)</th>\n",
       "      <th>Adjusted net national income per capita (constant 2010 US$)</th>\n",
       "      <th>Adjusted net national income per capita (current US$)</th>\n",
       "      <th>...</th>\n",
       "      <th>Urban land area (sq. km)</th>\n",
       "      <th>Urban land area where elevation is below 5 meters (% of total land area)</th>\n",
       "      <th>Urban land area where elevation is below 5 meters (sq. km)</th>\n",
       "      <th>Urban population</th>\n",
       "      <th>Urban population (% of total)</th>\n",
       "      <th>Urban population growth (annual %)</th>\n",
       "      <th>Urban population living in areas where elevation is below 5 meters (% of total population)</th>\n",
       "      <th>Urban poverty gap at national poverty lines (%)</th>\n",
       "      <th>Urban poverty headcount ratio at national poverty lines (% of urban population)</th>\n",
       "      <th>Wholesale price index (2010 = 100)</th>\n",
       "    </tr>\n",
       "  </thead>\n",
       "  <tbody>\n",
       "    <tr>\n",
       "      <th>0</th>\n",
       "      <td>NaN</td>\n",
       "      <td>NaN</td>\n",
       "      <td>NaN</td>\n",
       "      <td>NaN</td>\n",
       "      <td>NaN</td>\n",
       "      <td>NaN</td>\n",
       "      <td>NaN</td>\n",
       "      <td>NaN</td>\n",
       "      <td>NaN</td>\n",
       "      <td>NaN</td>\n",
       "      <td>...</td>\n",
       "      <td>NaN</td>\n",
       "      <td>NaN</td>\n",
       "      <td>NaN</td>\n",
       "      <td>739590.0</td>\n",
       "      <td>8.221</td>\n",
       "      <td>5.256151</td>\n",
       "      <td>NaN</td>\n",
       "      <td>NaN</td>\n",
       "      <td>NaN</td>\n",
       "      <td>NaN</td>\n",
       "    </tr>\n",
       "    <tr>\n",
       "      <th>1</th>\n",
       "      <td>NaN</td>\n",
       "      <td>NaN</td>\n",
       "      <td>NaN</td>\n",
       "      <td>NaN</td>\n",
       "      <td>NaN</td>\n",
       "      <td>NaN</td>\n",
       "      <td>NaN</td>\n",
       "      <td>NaN</td>\n",
       "      <td>NaN</td>\n",
       "      <td>NaN</td>\n",
       "      <td>...</td>\n",
       "      <td>NaN</td>\n",
       "      <td>NaN</td>\n",
       "      <td>NaN</td>\n",
       "      <td>779908.0</td>\n",
       "      <td>8.508</td>\n",
       "      <td>5.307999</td>\n",
       "      <td>NaN</td>\n",
       "      <td>NaN</td>\n",
       "      <td>NaN</td>\n",
       "      <td>NaN</td>\n",
       "    </tr>\n",
       "    <tr>\n",
       "      <th>2</th>\n",
       "      <td>NaN</td>\n",
       "      <td>NaN</td>\n",
       "      <td>NaN</td>\n",
       "      <td>NaN</td>\n",
       "      <td>NaN</td>\n",
       "      <td>NaN</td>\n",
       "      <td>NaN</td>\n",
       "      <td>NaN</td>\n",
       "      <td>NaN</td>\n",
       "      <td>NaN</td>\n",
       "      <td>...</td>\n",
       "      <td>NaN</td>\n",
       "      <td>NaN</td>\n",
       "      <td>NaN</td>\n",
       "      <td>822904.0</td>\n",
       "      <td>8.805</td>\n",
       "      <td>5.366358</td>\n",
       "      <td>NaN</td>\n",
       "      <td>NaN</td>\n",
       "      <td>NaN</td>\n",
       "      <td>NaN</td>\n",
       "    </tr>\n",
       "    <tr>\n",
       "      <th>3</th>\n",
       "      <td>NaN</td>\n",
       "      <td>NaN</td>\n",
       "      <td>NaN</td>\n",
       "      <td>NaN</td>\n",
       "      <td>NaN</td>\n",
       "      <td>NaN</td>\n",
       "      <td>NaN</td>\n",
       "      <td>NaN</td>\n",
       "      <td>NaN</td>\n",
       "      <td>NaN</td>\n",
       "      <td>...</td>\n",
       "      <td>NaN</td>\n",
       "      <td>NaN</td>\n",
       "      <td>NaN</td>\n",
       "      <td>868543.0</td>\n",
       "      <td>9.110</td>\n",
       "      <td>5.397755</td>\n",
       "      <td>NaN</td>\n",
       "      <td>NaN</td>\n",
       "      <td>NaN</td>\n",
       "      <td>NaN</td>\n",
       "    </tr>\n",
       "    <tr>\n",
       "      <th>4</th>\n",
       "      <td>NaN</td>\n",
       "      <td>NaN</td>\n",
       "      <td>NaN</td>\n",
       "      <td>NaN</td>\n",
       "      <td>NaN</td>\n",
       "      <td>NaN</td>\n",
       "      <td>NaN</td>\n",
       "      <td>NaN</td>\n",
       "      <td>NaN</td>\n",
       "      <td>NaN</td>\n",
       "      <td>...</td>\n",
       "      <td>NaN</td>\n",
       "      <td>NaN</td>\n",
       "      <td>NaN</td>\n",
       "      <td>917278.0</td>\n",
       "      <td>9.426</td>\n",
       "      <td>5.459349</td>\n",
       "      <td>NaN</td>\n",
       "      <td>NaN</td>\n",
       "      <td>NaN</td>\n",
       "      <td>NaN</td>\n",
       "    </tr>\n",
       "  </tbody>\n",
       "</table>\n",
       "<p>5 rows × 459 columns</p>\n",
       "</div>"
      ],
      "text/plain": [
       "   2005 PPP conversion factor, GDP (LCU per international $)  \\\n",
       "0                                                NaN           \n",
       "1                                                NaN           \n",
       "2                                                NaN           \n",
       "3                                                NaN           \n",
       "4                                                NaN           \n",
       "\n",
       "   2005 PPP conversion factor, private consumption (LCU per international $)  \\\n",
       "0                                                NaN                           \n",
       "1                                                NaN                           \n",
       "2                                                NaN                           \n",
       "3                                                NaN                           \n",
       "4                                                NaN                           \n",
       "\n",
       "   Access to electricity, rural (% of rural population)  \\\n",
       "0                                                NaN      \n",
       "1                                                NaN      \n",
       "2                                                NaN      \n",
       "3                                                NaN      \n",
       "4                                                NaN      \n",
       "\n",
       "   Access to electricity, urban (% of urban population)  \\\n",
       "0                                                NaN      \n",
       "1                                                NaN      \n",
       "2                                                NaN      \n",
       "3                                                NaN      \n",
       "4                                                NaN      \n",
       "\n",
       "   Adjusted net national income (annual % growth)  \\\n",
       "0                                             NaN   \n",
       "1                                             NaN   \n",
       "2                                             NaN   \n",
       "3                                             NaN   \n",
       "4                                             NaN   \n",
       "\n",
       "   Adjusted net national income (constant 2010 US$)  \\\n",
       "0                                               NaN   \n",
       "1                                               NaN   \n",
       "2                                               NaN   \n",
       "3                                               NaN   \n",
       "4                                               NaN   \n",
       "\n",
       "   Adjusted net national income (current US$)  \\\n",
       "0                                         NaN   \n",
       "1                                         NaN   \n",
       "2                                         NaN   \n",
       "3                                         NaN   \n",
       "4                                         NaN   \n",
       "\n",
       "   Adjusted net national income per capita (annual % growth)  \\\n",
       "0                                                NaN           \n",
       "1                                                NaN           \n",
       "2                                                NaN           \n",
       "3                                                NaN           \n",
       "4                                                NaN           \n",
       "\n",
       "   Adjusted net national income per capita (constant 2010 US$)  \\\n",
       "0                                                NaN             \n",
       "1                                                NaN             \n",
       "2                                                NaN             \n",
       "3                                                NaN             \n",
       "4                                                NaN             \n",
       "\n",
       "   Adjusted net national income per capita (current US$)  \\\n",
       "0                                                NaN       \n",
       "1                                                NaN       \n",
       "2                                                NaN       \n",
       "3                                                NaN       \n",
       "4                                                NaN       \n",
       "\n",
       "                  ...                  Urban land area (sq. km)  \\\n",
       "0                 ...                                       NaN   \n",
       "1                 ...                                       NaN   \n",
       "2                 ...                                       NaN   \n",
       "3                 ...                                       NaN   \n",
       "4                 ...                                       NaN   \n",
       "\n",
       "   Urban land area where elevation is below 5 meters (% of total land area)  \\\n",
       "0                                                NaN                          \n",
       "1                                                NaN                          \n",
       "2                                                NaN                          \n",
       "3                                                NaN                          \n",
       "4                                                NaN                          \n",
       "\n",
       "   Urban land area where elevation is below 5 meters (sq. km)  \\\n",
       "0                                                NaN            \n",
       "1                                                NaN            \n",
       "2                                                NaN            \n",
       "3                                                NaN            \n",
       "4                                                NaN            \n",
       "\n",
       "   Urban population  Urban population (% of total)  \\\n",
       "0          739590.0                          8.221   \n",
       "1          779908.0                          8.508   \n",
       "2          822904.0                          8.805   \n",
       "3          868543.0                          9.110   \n",
       "4          917278.0                          9.426   \n",
       "\n",
       "   Urban population growth (annual %)  \\\n",
       "0                            5.256151   \n",
       "1                            5.307999   \n",
       "2                            5.366358   \n",
       "3                            5.397755   \n",
       "4                            5.459349   \n",
       "\n",
       "   Urban population living in areas where elevation is below 5 meters (% of total population)  \\\n",
       "0                                                NaN                                            \n",
       "1                                                NaN                                            \n",
       "2                                                NaN                                            \n",
       "3                                                NaN                                            \n",
       "4                                                NaN                                            \n",
       "\n",
       "   Urban poverty gap at national poverty lines (%)  \\\n",
       "0                                              NaN   \n",
       "1                                              NaN   \n",
       "2                                              NaN   \n",
       "3                                              NaN   \n",
       "4                                              NaN   \n",
       "\n",
       "   Urban poverty headcount ratio at national poverty lines (% of urban population)  \\\n",
       "0                                                NaN                                 \n",
       "1                                                NaN                                 \n",
       "2                                                NaN                                 \n",
       "3                                                NaN                                 \n",
       "4                                                NaN                                 \n",
       "\n",
       "   Wholesale price index (2010 = 100)  \n",
       "0                                 NaN  \n",
       "1                                 NaN  \n",
       "2                                 NaN  \n",
       "3                                 NaN  \n",
       "4                                 NaN  \n",
       "\n",
       "[5 rows x 459 columns]"
      ]
     },
     "execution_count": 5,
     "metadata": {},
     "output_type": "execute_result"
    }
   ],
   "source": [
    "econ_stack.head()"
   ]
  },
  {
   "cell_type": "code",
   "execution_count": 8,
   "metadata": {
    "collapsed": true
   },
   "outputs": [],
   "source": [
    "econ_stack.drop(columns=['2005 PPP conversion factor, GDP (LCU per international $)',\n",
    "                         '2005 PPP conversion factor, private consumption (LCU per international $)'], inplace=True)"
   ]
  },
  {
   "cell_type": "code",
   "execution_count": 9,
   "metadata": {},
   "outputs": [
    {
     "data": {
      "text/plain": [
       "4151"
      ]
     },
     "execution_count": 9,
     "metadata": {},
     "output_type": "execute_result"
    }
   ],
   "source": [
    "econ_stack['GDP growth (annual %)'].isnull().sum()"
   ]
  },
  {
   "cell_type": "code",
   "execution_count": 10,
   "metadata": {
    "collapsed": true
   },
   "outputs": [],
   "source": [
    "econ_stack = econ_stack[econ_stack['GDP growth (annual %)'].notnull()]"
   ]
  },
  {
   "cell_type": "code",
   "execution_count": 11,
   "metadata": {},
   "outputs": [
    {
     "data": {
      "text/plain": [
       "(11099, 457)"
      ]
     },
     "execution_count": 11,
     "metadata": {},
     "output_type": "execute_result"
    }
   ],
   "source": [
    "econ_stack.shape"
   ]
  },
  {
   "cell_type": "code",
   "execution_count": 10,
   "metadata": {},
   "outputs": [
    {
     "data": {
      "text/plain": [
       "<matplotlib.axes._subplots.AxesSubplot at 0x7f62bc57e890>"
      ]
     },
     "execution_count": 10,
     "metadata": {},
     "output_type": "execute_result"
    },
    {
     "data": {
      "image/png": "[encoded data removed]",
      "text/plain": [
       "<matplotlib.figure.Figure at 0x7f62bc57e2d0>"
      ]
     },
     "metadata": {},
     "output_type": "display_data"
    }
   ],
   "source": [
    "sns.violinplot(x=econ_stack['GDP growth (annual %)'])"
   ]
  },
  {
   "cell_type": "code",
   "execution_count": 12,
   "metadata": {},
   "outputs": [
    {
     "data": {
      "text/plain": [
       "(10992, 457)"
      ]
     },
     "execution_count": 12,
     "metadata": {},
     "output_type": "execute_result"
    }
   ],
   "source": [
    "econ_stack = econ_stack[(econ_stack['GDP growth (annual %)']<20)]\n",
    "econ_stack.shape"
   ]
  },
  {
   "cell_type": "code",
   "execution_count": 13,
   "metadata": {},
   "outputs": [
    {
     "data": {
      "text/plain": [
       "(10955, 457)"
      ]
     },
     "execution_count": 13,
     "metadata": {},
     "output_type": "execute_result"
    }
   ],
   "source": [
    "econ_stack = econ_stack[(econ_stack['GDP growth (annual %)']>-20)]\n",
    "econ_stack.shape"
   ]
  },
  {
   "cell_type": "code",
   "execution_count": 13,
   "metadata": {},
   "outputs": [
    {
     "data": {
      "text/plain": [
       "<matplotlib.axes._subplots.AxesSubplot at 0x7f62a9a948d0>"
      ]
     },
     "execution_count": 13,
     "metadata": {},
     "output_type": "execute_result"
    },
    {
     "data": {
      "image/png": "[encoded data removed]",
      "text/plain": [
       "<matplotlib.figure.Figure at 0x7f62a9aac290>"
      ]
     },
     "metadata": {},
     "output_type": "display_data"
    }
   ],
   "source": [
    "sns.violinplot(x=econ_stack['GDP growth (annual %)'])"
   ]
  },
  {
   "cell_type": "code",
   "execution_count": 14,
   "metadata": {
    "collapsed": true
   },
   "outputs": [],
   "source": [
    "to_keep = []\n",
    "for x, y in econ_stack.isnull().sum().iteritems():\n",
    "    if y < 5555:\n",
    "        to_keep.append(x)"
   ]
  },
  {
   "cell_type": "code",
   "execution_count": 16,
   "metadata": {
    "scrolled": true
   },
   "outputs": [
    {
     "data": {
      "text/plain": [
       "291"
      ]
     },
     "execution_count": 16,
     "metadata": {},
     "output_type": "execute_result"
    }
   ],
   "source": [
    "len(to_keep)"
   ]
  },
  {
   "cell_type": "code",
   "execution_count": 15,
   "metadata": {
    "collapsed": true,
    "scrolled": true
   },
   "outputs": [],
   "source": [
    "econ_stack = econ_stack[to_keep]\n",
    "econ_stack.fillna(econ_stack.mean(), inplace = True)"
   ]
  },
  {
   "cell_type": "code",
   "execution_count": 17,
   "metadata": {},
   "outputs": [
    {
     "data": {
      "text/plain": [
       "(10955, 291)"
      ]
     },
     "execution_count": 17,
     "metadata": {},
     "output_type": "execute_result"
    }
   ],
   "source": [
    "econ_stack.shape"
   ]
  },
  {
   "cell_type": "code",
   "execution_count": 231,
   "metadata": {
    "collapsed": true,
    "scrolled": true
   },
   "outputs": [],
   "source": [
    "goal = econ_stack['GDP growth (annual %)']\n",
    "features = econ_stack.drop(columns=['GDP growth (annual %)','GDP per capita growth (annual %)'])"
   ]
  },
  {
   "cell_type": "code",
   "execution_count": 31,
   "metadata": {
    "collapsed": true
   },
   "outputs": [],
   "source": [
    "econ_corr = econ_stack.corr()"
   ]
  },
  {
   "cell_type": "code",
   "execution_count": 20,
   "metadata": {
    "collapsed": true
   },
   "outputs": [],
   "source": [
    "#features, goal = utils.shuffle(features, goal)\n",
    "X_train, X_test, y_train, y_test = train_test_split(features, goal, test_size=0.3, random_state=42)"
   ]
  },
  {
   "cell_type": "markdown",
   "metadata": {},
   "source": [
    "training avg missing rfr, no normalize vs label missing normlize rfr"
   ]
  },
  {
   "cell_type": "code",
   "execution_count": 68,
   "metadata": {
    "collapsed": true
   },
   "outputs": [],
   "source": [
    "rfr = ensemble.RandomForestRegressor()"
   ]
  },
  {
   "cell_type": "code",
   "execution_count": 70,
   "metadata": {
    "collapsed": true
   },
   "outputs": [],
   "source": [
    "rfr_hyperparameters = { \n",
    "    'n_estimators' : [10,25,50,100],\n",
    "    'max_features': ['auto', 'sqrt', 0.33],\n",
    "    'min_samples_leaf': [10,25,50],\n",
    "     'min_samples_split': [10,25,50]\n",
    "}"
   ]
  },
  {
   "cell_type": "code",
   "execution_count": 71,
   "metadata": {},
   "outputs": [
    {
     "name": "stdout",
     "output_type": "stream",
     "text": [
      "{'max_features': 'auto', 'min_samples_split': 10, 'n_estimators': 100, 'min_samples_leaf': 10}\n"
     ]
    }
   ],
   "source": [
    "rfr_gs_avg_not_normalize = GridSearchCV(rfr, \n",
    "                                        rfr_hyperparameters, cv=5, n_jobs=-1)\n",
    "rfr_gs_avg_not_normalize.fit(X_train, y_train)\n",
    "print rfr_gs_avg_not_normalize.best_params_ "
   ]
  },
  {
   "cell_type": "code",
   "execution_count": 74,
   "metadata": {},
   "outputs": [
    {
     "data": {
      "text/plain": [
       "0.68119539692660602"
      ]
     },
     "execution_count": 74,
     "metadata": {},
     "output_type": "execute_result"
    }
   ],
   "source": [
    "rfr_gs_avg_not_normalize.score(X_test, y_test)"
   ]
  },
  {
   "cell_type": "code",
   "execution_count": 78,
   "metadata": {
    "collapsed": true
   },
   "outputs": [],
   "source": [
    "import dill\n",
    "dill.dump(rfr_gs_avg_not_normalize, open('econ.dill', 'w'))"
   ]
  },
  {
   "cell_type": "code",
   "execution_count": 3,
   "metadata": {
    "scrolled": true
   },
   "outputs": [],
   "source": [
    "econ_rfr = ensemble.RandomForestRegressor(max_features='auto', min_samples_split= 10, n_estimators= 100, min_samples_leaf= 10)"
   ]
  },
  {
   "cell_type": "code",
   "execution_count": 24,
   "metadata": {},
   "outputs": [
    {
     "data": {
      "text/plain": [
       "RandomForestRegressor(bootstrap=True, criterion='mse', max_depth=None,\n",
       "           max_features='auto', max_leaf_nodes=None,\n",
       "           min_impurity_decrease=0.0, min_impurity_split=None,\n",
       "           min_samples_leaf=10, min_samples_split=10,\n",
       "           min_weight_fraction_leaf=0.0, n_estimators=100, n_jobs=1,\n",
       "           oob_score=False, random_state=None, verbose=0, warm_start=False)"
      ]
     },
     "execution_count": 24,
     "metadata": {},
     "output_type": "execute_result"
    }
   ],
   "source": [
    "econ_rfr.fit(features, goal)"
   ]
  },
  {
   "cell_type": "code",
   "execution_count": 25,
   "metadata": {},
   "outputs": [
    {
     "data": {
      "text/plain": [
       "0.82827330624764506"
      ]
     },
     "execution_count": 25,
     "metadata": {},
     "output_type": "execute_result"
    }
   ],
   "source": [
    "econ_rfr.score(features, goal)"
   ]
  },
  {
   "cell_type": "code",
   "execution_count": 30,
   "metadata": {
    "scrolled": true
   },
   "outputs": [
    {
     "name": "stdout",
     "output_type": "stream",
     "text": [
      "2.77325608689e-05 Gross capital formation (constant LCU)\n",
      "4.59224802841e-05 Gross national expenditure (constant LCU)\n",
      "6.41311555805e-05 Gross national expenditure (constant 2010 US$)\n",
      "6.63743276282e-05 Exports of goods and services (BoP, current US$)\n",
      "6.87535194045e-05 Final consumption expenditure, etc. (constant LCU)\n",
      "6.95599887578e-05 Service imports (BoP, current US$)\n",
      "7.75780860907e-05 Improved water source (% of population with access)\n",
      "7.91572646544e-05 Improved water source, rural (% of rural population with access).1\n",
      "7.93698240521e-05 Net primary income (BoP, current US$)\n",
      "8.00491507443e-05 Final consumption expenditure, etc. (constant 2010 US$)\n",
      "8.51639140821e-05 Gross national expenditure (current LCU)\n",
      "9.19168289754e-05 General government final consumption expenditure (constant 2010 US$)\n",
      "9.78150620955e-05 Final consumption expenditure (constant LCU)\n",
      "9.83927988501e-05 Exports of goods, services and primary income (BoP, current US$)\n",
      "9.91647807236e-05 Employment in agriculture (% of total employment) (modeled ILO estimate)\n",
      "9.9686350357e-05 Improved water source, urban (% of urban population with access).1\n",
      "0.000104963377958 Employment in agriculture, male (% of male employment) (modeled ILO estimate)\n",
      "0.000105861069931 Net trade in goods (BoP, current US$)\n",
      "0.000105947387847 Exports as a capacity to import (constant LCU)\n",
      "0.000110452033352 Current account balance (BoP, current US$)\n",
      "0.00011527171494 Improved water source, rural (% of rural population with access)\n",
      "0.000115996683058 Net capital account (BoP, current US$)\n",
      "0.000126859485155 Primary income payments (BoP, current US$)\n",
      "0.00013308738599 Improved water source, urban (% of urban population with access)\n",
      "0.000135371958754 Gross fixed capital formation (constant LCU)\n",
      "0.000139213232586 Foreign direct investment, net (BoP, current US$)\n",
      "0.000140046916173 Manufacturing, value added (constant LCU)\n",
      "0.000142755008783 Gross value added at factor cost (constant LCU)\n",
      "0.000143780032947 Personal transfers, receipts (BoP, current US$)\n",
      "0.00014435697957 Services, etc., value added (constant LCU)\n",
      "0.000146335789523 GDP per capita, PPP (current international $)\n",
      "0.000148474575501 Imports of goods and services (constant 2010 US$)\n",
      "0.00014890229781 Gross capital formation (constant 2010 US$)\n",
      "0.000150081415103 Employment in agriculture, female (% of female employment) (modeled ILO estimate)\n",
      "0.000150144058488 Final consumption expenditure (constant 2010 US$)\n",
      "0.000152612066603 GDP per capita, PPP (constant 2011 international $)\n",
      "0.000157972568104 GNI per capita, PPP (current international $)\n",
      "0.000158707874789 GDP, PPP (current international $)\n",
      "0.00016052066843 Travel services (% of service exports, BoP)\n",
      "0.000162757558176 Net trade in goods and services (BoP, current US$)\n",
      "0.000163254184029 Household final consumption expenditure (constant 2010 US$)\n",
      "0.000167571650296 Net financial account (BoP, current US$)\n",
      "0.000171066511748 Exports of goods and services (constant 2010 US$)\n",
      "0.000176512117991 Primary income receipts (BoP, current US$)\n",
      "0.000179467047965 Household final consumption expenditure, etc. (constant LCU)\n",
      "0.000180398436618 GNI (constant 2010 US$)\n",
      "0.000181684017545 Net secondary income (BoP, current US$)\n",
      "0.000193347713204 Imports of goods and services (BoP, current US$)\n",
      "0.000194114448048 Insurance and financial services (% of service imports, BoP)\n",
      "0.000196462969677 Final consumption expenditure (current LCU)\n",
      "0.000202234619927 Improved sanitation facilities, rural (% of rural population with access)\n",
      "0.000205858883111 General government final consumption expenditure (constant LCU)\n",
      "0.000206796883706 Adjusted savings: gross savings (% of GNI)\n",
      "0.000217973027869 Gross fixed capital formation (constant 2010 US$)\n",
      "0.000218842801759 Personal remittances, received (% of GDP)\n",
      "0.000220818689024 Industry, value added (constant LCU)\n",
      "0.000224987822223 Communications, computer, etc. (% of service exports, BoP)\n",
      "0.000226800331591 Portfolio equity, net inflows (BoP, current US$)\n",
      "0.000226941956073 Net errors and omissions (BoP, current US$)\n",
      "0.000227210180558 Exports of goods and services (constant LCU)\n",
      "0.000236949268402 Reserves and related items (BoP, current US$)\n",
      "0.00023705658738 Agriculture, value added (constant LCU)\n",
      "0.000243477120748 GNI per capita (constant 2010 US$)\n",
      "0.000245886922937 Imports of goods and services (constant LCU)\n",
      "0.000249133135 Insurance and financial services (% of service exports, BoP)\n",
      "0.000255664193333 Interest rate spread (lending rate minus deposit rate, %)\n",
      "0.000260930913525 Improved sanitation facilities, urban (% of urban population with access)\n",
      "0.000264547709286 Agriculture value added per worker (constant 2010 US$)\n",
      "0.000265177673964 Household final consumption expenditure (constant LCU)\n",
      "0.000272530254498 Secondary income, other sectors, payments (BoP, current US$)\n",
      "0.000273931262676 Adjusted savings: net forest depletion (% of GNI)\n",
      "0.000276102294394 Service exports (BoP, current US$)\n",
      "0.000277153000049 Net taxes on products (constant LCU)\n",
      "0.000279929521696 Adjusted net national income per capita (annual % growth)\n",
      "0.000280150433291 Services, etc., value added (constant 2010 US$)\n",
      "0.0002847508953 Charges for the use of intellectual property, receipts (BoP, current US$)\n",
      "0.000288667810688 Gross capital formation (current LCU)\n",
      "0.000291710429626 GNI, PPP (current international $)\n",
      "0.000299979259984 Services, etc., value added (current LCU)\n",
      "0.000300864579732 GDP, PPP (constant 2011 international $)\n",
      "0.000301469487928 Net taxes on products (current US$)\n",
      "0.00030206752722 Gross value added at factor cost (constant 2010 US$)\n",
      "0.000302515997788 Electricity production from coal sources (% of total)\n",
      "0.000306503082829 Electricity production from nuclear sources (% of total)\n",
      "0.000308863415197 Goods exports (BoP, current US$)\n",
      "0.000312659873297 General government final consumption expenditure (current LCU)\n",
      "0.000315230358836 Total reserves in months of imports\n",
      "0.000317870274424 Final consumption expenditure, etc. (current US$)\n",
      "0.000318215867199 Gross national expenditure (current US$)\n",
      "0.000323256956481 Transport services (% of service exports, BoP)\n",
      "0.000323411790517 Foreign direct investment, net outflows (% of GDP)\n",
      "0.000325863361513 Net taxes on products (current LCU)\n",
      "0.000329022631179 Gross domestic savings (current LCU)\n",
      "0.000330293494705 Adjusted savings: net forest depletion (current US$)\n",
      "0.00033151782858 Patent applications, nonresidents\n",
      "0.000339640883714 Adjusted savings: energy depletion (% of GNI)\n",
      "0.000340611427118 Household final consumption expenditure, etc. (current US$)\n",
      "0.00034378527184 Travel services (% of service imports, BoP)\n",
      "0.000343953904964 Current account balance (% of GDP)\n",
      "0.000353471760109 Transport services (% of service imports, BoP)\n",
      "0.000357569084125 Adjusted net national income (current US$)\n",
      "0.000365999848273 Goods imports (BoP, current US$)\n",
      "0.000372640020595 Manufacturing, value added (current LCU)\n",
      "0.000386063873384 Manufacturing, value added (constant 2010 US$)\n",
      "0.000389905237045 Final consumption expenditure, etc. (% of GDP)\n",
      "0.000391923111018 Electricity production from hydroelectric sources (% of total)\n",
      "0.00039646007683 Foreign direct investment, net outflows (BoP, current US$)\n",
      "0.000396971990652 Adjusted savings: mineral depletion (% of GNI)\n",
      "0.000397165862925 Adjusted savings: natural resources depletion (% of GNI)\n",
      "0.000398227960732 Household final consumption expenditure per capita (constant 2010 US$)\n",
      "0.00039835840558 Net current transfers from abroad (current LCU)\n",
      "0.000398899897702 Terms of trade adjustment (constant LCU)\n",
      "0.000399515573704 Gross savings (% of GNI)\n",
      "0.000399999600708 Individuals using the Internet (% of population)\n",
      "0.000400771240054 Adjusted savings: net national savings (% of GNI)\n",
      "0.000404339723085 Final consumption expenditure (current US$)\n",
      "0.000404761616198 Industry, value added (current US$)\n",
      "0.000408666725446 Trademark applications, total\n",
      "0.00040903091086 Final consumption expenditure, etc. (current LCU)\n",
      "0.000418865837361 Net current transfers from abroad (current US$)\n",
      "0.000419355355009 Gross domestic savings (current US$)\n",
      "0.000420504227678 Electric power consumption (kWh per capita)\n",
      "0.000422803301182 Exports of goods and services (current LCU)\n",
      "0.00042436882852 Charges for the use of intellectual property, payments (BoP, current US$)\n",
      "0.000429855766446 Trademark applications, direct resident\n",
      "0.000430963051715 Trade in services (% of GDP)\n",
      "0.000433500713157 Household final consumption expenditure, etc. (current LCU)\n",
      "0.000438868604899 Adjusted savings: mineral depletion (current US$)\n",
      "0.000442935597438 Gross value added at factor cost (current LCU)\n",
      "0.000444273701086 Secondary income receipts (BoP, current US$)\n",
      "0.000447392211989 Household final consumption expenditure, etc. (constant 2010 US$)\n",
      "0.000448066326684 Adjusted savings: energy depletion (current US$)\n",
      "0.000451028563883 Changes in inventories (current US$)\n",
      "0.000456063936127 Total reserves (includes gold, current US$)\n",
      "0.000458387215366 Gross value added at factor cost (current US$)\n",
      "0.000471563734539 Land area (sq. km)\n",
      "0.000473261395569 Gross savings (% of GDP)\n",
      "0.000481534032699 Discrepancy in expenditure estimate of GDP (current LCU)\n",
      "0.000483991322845 Forest area (sq. km)\n",
      "0.000491830834002 Trademark applications, direct nonresident\n",
      "0.000494884864377 Gross fixed capital formation (current US$)\n",
      "0.000508453761551 Adjusted net national income (annual % growth)\n",
      "0.000509049235025 Gross national expenditure deflator (base year varies by country)\n",
      "0.000512873163683 Personal remittances, paid (current US$)\n",
      "0.000527038558572 Adjusted net national income per capita (current US$)\n",
      "0.000527537353625 Changes in inventories (current LCU)\n",
      "0.000529431172271 Imports of goods and services (current LCU)\n",
      "0.000529862424144 Imports of goods, services and primary income (BoP, current US$)\n",
      "0.000547288449991 Electricity production from oil sources (% of total)\n",
      "0.000548405076358 Net foreign assets (current LCU)\n",
      "0.000557513125029 Surface area (sq. km)\n",
      "0.000558135532769 Household final consumption expenditure per capita growth (annual %)\n",
      "0.000559011085917 Imports of goods and services (current US$)\n",
      "0.000559304052329 Exports of goods and services (current US$)\n",
      "0.000563498566077 GDP (current LCU)\n",
      "0.000566182763412 Broad money (current LCU)\n",
      "0.000571289505331 General government final consumption expenditure (annual % growth)\n",
      "0.000573698816858 Access to electricity, rural (% of rural population)\n",
      "0.000587229998481 Land under cereal production (hectares)\n",
      "0.000598727441703 External balance on goods and services (current US$)\n",
      "0.000611319012445 Air transport, freight (million ton-km)\n",
      "0.000621252878344 Gross fixed capital formation (current LCU)\n",
      "0.000622045320829 Gross domestic income (constant LCU)\n",
      "0.000626513329456 Household final consumption expenditure (current US$)\n",
      "0.00063379445398 Broad money to total reserves ratio\n",
      "0.000634133523194 Net domestic credit (current LCU)\n",
      "0.000634805404187 Electricity production from natural gas sources (% of total)\n",
      "0.000651412663284 External balance on goods and services (current LCU)\n",
      "0.000653902268816 Forest area (% of land area)\n",
      "0.000658887868435 Electric power transmission and distribution losses (% of output)\n",
      "0.000667829598747 Agriculture, value added (current US$)\n",
      "0.000673856570587 Communications, computer, etc. (% of service imports, BoP)\n",
      "0.000690121058161 Manufacturing, value added (current US$)\n",
      "0.000720148186639 Agriculture, value added (constant 2010 US$)\n",
      "0.000722716426912 Manufacturing, value added (% of GDP)\n",
      "0.000727877608667 Gross capital formation (current US$)\n",
      "0.000731481782653 Industry, value added (current LCU)\n",
      "0.000749264933997 Adjusted savings: consumption of fixed capital (current US$)\n",
      "0.000764930086679 Net income from abroad (current LCU)\n",
      "0.000770323465173 Total reserves minus gold (current US$)\n",
      "0.000771312606412 Services, etc., value added (current US$)\n",
      "0.000785179686825 Personal remittances, received (current US$)\n",
      "0.000794938394697 Agriculture, value added (current LCU)\n",
      "0.000799373276363 Population in largest city\n",
      "0.000847383672026 Net income from abroad (current US$)\n",
      "0.000858515258841 Official exchange rate (LCU per US$, period average)\n",
      "0.000872155988237 GDP (current US$)\n",
      "0.000880091155222 Adjusted savings: carbon dioxide damage (% of GNI)\n",
      "0.000905114141286 Household final consumption expenditure (current LCU)\n",
      "0.000908116527098 Inflation, consumer prices (annual %)\n",
      "0.000911803536873 Urban population (% of total)\n",
      "0.000921623022684 GDP per capita (current LCU)\n",
      "0.000925564628518 Air transport, registered carrier departures worldwide\n",
      "0.000926850809378 GNI (current LCU)\n",
      "0.000928266725253 Population in urban agglomerations of more than 1 million (% of total population)\n",
      "0.000935510375138 Domestic credit provided by financial sector (% of GDP)\n",
      "0.000936998441511 Air transport, passengers carried\n",
      "0.00094031934444 Gross national expenditure (% of GDP)\n",
      "0.000943426951942 External balance on goods and services (constant LCU)\n",
      "0.00094873406996 Domestic credit to private sector (% of GDP)\n",
      "0.000950135323557 GNI per capita (current LCU)\n",
      "0.00095287829183 Agricultural raw materials exports (% of merchandise exports)\n",
      "0.000957052877486 Adjusted savings: education expenditure (current US$)\n",
      "0.000967498552204 Rural population (% of total population)\n",
      "0.00100000206782 General government final consumption expenditure (current US$)\n",
      "0.00100039870869 Agricultural nitrous oxide emissions (% of total)\n",
      "0.00101474030496 Net official development assistance received (current US$)\n",
      "0.00103054875934 Adjusted savings: education expenditure (% of GNI)\n",
      "0.0010376958991 Foreign direct investment, net inflows (BoP, current US$)\n",
      "0.00105427590876 Industry, value added (constant 2010 US$)\n",
      "0.00106749213846 Manufacturing, value added (annual % growth)\n",
      "0.00108086238562 Claims on central government (annual growth as % of broad money)\n",
      "0.00109330083498 Adjusted savings: consumption of fixed capital (% of GNI)\n",
      "0.00111650743066 Total debt service (% of GNI)\n",
      "0.0011167080777 Services, etc., value added (% of GDP)\n",
      "0.00112638914062 Imports of goods and services (annual % growth)\n",
      "0.0011565614277 Agricultural machinery, tractors\n",
      "0.00118295876826 GNI (current US$)\n",
      "0.00118917522142 DEC alternative conversion factor (LCU per US$)\n",
      "0.00121053277511 Adjusted savings: carbon dioxide damage (current US$)\n",
      "0.00121712614003 Cereal production (metric tons)\n",
      "0.00122322040641 GNI per capita, Atlas method (current US$)\n",
      "0.00122390131044 Consumer price index (2010 = 100)\n",
      "0.00125663751949 Fixed telephone subscriptions (per 100 people)\n",
      "0.00128834057876 Trade (% of GDP)\n",
      "0.00130682739047 Imports of goods and services (% of GDP)\n",
      "0.00131367691263 Claims on central government, etc. (% GDP)\n",
      "0.00133078096559 Household final consumption expenditure, etc. (% of GDP)\n",
      "0.0013332115515 GDP per capita (constant LCU)\n",
      "0.00133920345832 Arable land (% of land area)\n",
      "0.00137365043974 Permanent cropland (% of land area)\n",
      "0.00139159371043 Net ODA received (% of GNI)\n",
      "0.00141716693705 Agricultural methane emissions (thousand metric tons of CO2 equivalent)\n",
      "0.00144872641886 Gross fixed capital formation (annual % growth)\n",
      "0.00145132490001 Grants, excluding technical cooperation (BoP, current US$)\n",
      "0.00147599610381 Population in the largest city (% of urban population)\n",
      "0.00148511988263 Agricultural land (sq. km)\n",
      "0.00150346496413 Broad money (% of GDP)\n",
      "0.00150460130787 Mobile cellular subscriptions\n",
      "0.00150748175571 Gross domestic savings (% of GDP)\n",
      "0.00155256431397 GDP (constant 2010 US$)\n",
      "0.00156115349913 Foreign direct investment, net inflows (% of GDP)\n",
      "0.001567971013 Total reserves (% of total external debt)\n",
      "0.0016171208598 GNI, Atlas method (current US$)\n",
      "0.00162967180638 Agricultural machinery, tractors per 100 sq. km of arable land\n",
      "0.00164862685446 GDP (constant LCU)\n",
      "0.00165218726838 Population density (people per sq. km of land area)\n",
      "0.00165399460083 Agricultural nitrous oxide emissions (thousand metric tons of CO2 equivalent)\n",
      "0.0016742428719 Agricultural land (% of land area)\n",
      "0.00173300659462 Mobile cellular subscriptions (per 100 people)\n",
      "0.00173884755996 Technical cooperation grants (BoP, current US$)\n",
      "0.00177104815732 Domestic credit to private sector by banks (% of GDP)\n",
      "0.00177408573582 GDP per capita (constant 2010 US$)\n",
      "0.00181653905353 Exports of goods and services (% of GDP)\n",
      "0.00185199393912 Household final consumption expenditure, etc. (annual % growth)\n",
      "0.00186028332389 Fixed telephone subscriptions\n",
      "0.00187389050567 Agricultural methane emissions (% of total)\n",
      "0.00188978485795 Gross fixed capital formation (% of GDP)\n",
      "0.00191390401997 Agriculture, value added (% of GDP)\n",
      "0.00197441558078 Rural population\n",
      "0.00216228683004 Net ODA received per capita (current US$)\n",
      "0.00216260930154 Gross capital formation (annual % growth)\n",
      "0.0021878453795 Arable land (hectares per person)\n",
      "0.00221109397166 Claims on private sector (annual growth as % of broad money)\n",
      "0.00228555752956 Food production index (2004-2006 = 100)\n",
      "0.00232971525065 Urban population\n",
      "0.00235495209309 General government final consumption expenditure (% of GDP)\n",
      "0.0024098523028 GDP per capita (current US$)\n",
      "0.00248141554954 Agricultural raw materials imports (% of merchandise imports)\n",
      "0.00276056768171 External balance on goods and services (% of GDP)\n",
      "0.00286475265568 Gross capital formation (% of GDP)\n",
      "0.00289878178524 Rural population growth (annual %)\n",
      "0.00304516384939 GDP deflator (base year varies by country)\n",
      "0.00304946818879 Industry, value added (% of GDP)\n",
      "0.00335136922163 Livestock production index (2004-2006 = 100)\n",
      "0.00336980804868 Crop production index (2004-2006 = 100)\n",
      "0.00345121016146 Household final consumption expenditure (annual % growth)\n",
      "0.00354267560331 GNI per capita growth (annual %)\n",
      "0.0037745833439 Cereal yield (kg per hectare)\n",
      "0.00385737323094 Broad money growth (annual %)\n",
      "0.00557131194422 Arable land (hectares)\n",
      "0.0069758557757 Exports of goods and services (annual % growth)\n",
      "0.00807963976957 Inflation, GDP deflator (annual %)\n",
      "0.00874585326753 Urban population growth (annual %)\n",
      "0.00962424555578 Final consumption expenditure, etc. (annual % growth)\n",
      "0.0203808076077 Agriculture, value added (annual % growth)\n",
      "0.193816450077 Services, etc., value added (annual % growth)\n",
      "0.244705926473 Industry, value added (annual % growth)\n",
      "0.282623329279 GNI growth (annual %)\n"
     ]
    }
   ],
   "source": [
    "for x,y in sorted(zip(econ_rfr.feature_importances_,features.columns)):\n",
    "    print x,y "
   ]
  },
  {
   "cell_type": "markdown",
   "metadata": {},
   "source": [
    "now using only ten most important features in the previous model"
   ]
  },
  {
   "cell_type": "code",
   "execution_count": 42,
   "metadata": {
    "collapsed": true
   },
   "outputs": [],
   "source": [
    "top10featuresECON = sorted(zip(econ_rfr.feature_importances_,features.columns))[-10:]"
   ]
  },
  {
   "cell_type": "code",
   "execution_count": 43,
   "metadata": {
    "collapsed": true
   },
   "outputs": [],
   "source": [
    "import dill\n",
    "dill.dump(econ_rfr, open('econ.dill', 'w'))"
   ]
  },
  {
   "cell_type": "code",
   "execution_count": 221,
   "metadata": {
    "collapsed": true
   },
   "outputs": [],
   "source": [
    "top10featuresECON = [y for x,y in top10featuresECON]"
   ]
  },
  {
   "cell_type": "code",
   "execution_count": 222,
   "metadata": {
    "collapsed": true
   },
   "outputs": [],
   "source": [
    "goal = econ_stack['GDP growth (annual %)']\n",
    "features = econ_stack[top10featuresECON]"
   ]
  },
  {
   "cell_type": "code",
   "execution_count": 244,
   "metadata": {},
   "outputs": [
    {
     "data": {
      "text/plain": [
       "['Broad money growth (annual %)',\n",
       " 'Arable land (hectares)',\n",
       " 'Exports of goods and services (annual % growth)',\n",
       " 'Inflation, GDP deflator (annual %)',\n",
       " 'Urban population growth (annual %)',\n",
       " 'Final consumption expenditure, etc. (annual % growth)',\n",
       " 'Agriculture, value added (annual % growth)',\n",
       " 'Services, etc., value added (annual % growth)',\n",
       " 'Industry, value added (annual % growth)',\n",
       " 'GNI growth (annual %)']"
      ]
     },
     "execution_count": 244,
     "metadata": {},
     "output_type": "execute_result"
    }
   ],
   "source": [
    "top10featuresECON"
   ]
  },
  {
   "cell_type": "code",
   "execution_count": 223,
   "metadata": {},
   "outputs": [
    {
     "data": {
      "text/plain": [
       "0.77140757945114002"
      ]
     },
     "execution_count": 223,
     "metadata": {},
     "output_type": "execute_result"
    }
   ],
   "source": [
    "econ_rfr = ensemble.RandomForestRegressor(max_features='auto', min_samples_split= 10, n_estimators= 100, min_samples_leaf= 10)\n",
    "econ_rfr.fit(features, goal)\n",
    "econ_rfr.score(features, goal)"
   ]
  },
  {
   "cell_type": "code",
   "execution_count": 224,
   "metadata": {
    "collapsed": true
   },
   "outputs": [],
   "source": [
    "dill.dump(econ_rfr, open('econ2.dill', 'w'))"
   ]
  },
  {
   "cell_type": "markdown",
   "metadata": {},
   "source": [
    "## Training Health <a class=\"anchor\" id=\"health\"></a>"
   ]
  },
  {
   "cell_type": "code",
   "execution_count": 44,
   "metadata": {
    "collapsed": true
   },
   "outputs": [],
   "source": [
    "health_stack = pd.read_csv('ML_train_health_stack.csv', index_col=0)"
   ]
  },
  {
   "cell_type": "code",
   "execution_count": 45,
   "metadata": {},
   "outputs": [
    {
     "data": {
      "text/plain": [
       "(15254, 600)"
      ]
     },
     "execution_count": 45,
     "metadata": {},
     "output_type": "execute_result"
    }
   ],
   "source": [
    "health_stack.shape"
   ]
  },
  {
   "cell_type": "code",
   "execution_count": 46,
   "metadata": {},
   "outputs": [
    {
     "data": {
      "text/html": [
       "<div>\n",
       "<style scoped>\n",
       "    .dataframe tbody tr th:only-of-type {\n",
       "        vertical-align: middle;\n",
       "    }\n",
       "\n",
       "    .dataframe tbody tr th {\n",
       "        vertical-align: top;\n",
       "    }\n",
       "\n",
       "    .dataframe thead th {\n",
       "        text-align: right;\n",
       "    }\n",
       "</style>\n",
       "<table border=\"1\" class=\"dataframe\">\n",
       "  <thead>\n",
       "    <tr style=\"text-align: right;\">\n",
       "      <th></th>\n",
       "      <th>2005 PPP conversion factor, GDP (LCU per international $)</th>\n",
       "      <th>2005 PPP conversion factor, private consumption (LCU per international $)</th>\n",
       "      <th>ARI treatment (% of children under 5 taken to a health provider)</th>\n",
       "      <th>Access to electricity, rural (% of rural population)</th>\n",
       "      <th>Access to electricity, urban (% of urban population)</th>\n",
       "      <th>Adjusted net national income (annual % growth)</th>\n",
       "      <th>Adjusted net national income (constant 2010 US$)</th>\n",
       "      <th>Adjusted net national income (current US$)</th>\n",
       "      <th>Adjusted net national income per capita (annual % growth)</th>\n",
       "      <th>Adjusted net national income per capita (constant 2010 US$)</th>\n",
       "      <th>...</th>\n",
       "      <th>Vitamin A supplementation coverage rate (% of children ages 6-59 months)</th>\n",
       "      <th>Wanted fertility rate (births per woman)</th>\n",
       "      <th>Women who believe a husband is justified in beating his wife (any of five reasons) (%)</th>\n",
       "      <th>Women who believe a husband is justified in beating his wife when she argues with him (%)</th>\n",
       "      <th>Women who believe a husband is justified in beating his wife when she burns the food (%)</th>\n",
       "      <th>Women who believe a husband is justified in beating his wife when she goes out without telling him (%)</th>\n",
       "      <th>Women who believe a husband is justified in beating his wife when she neglects the children (%)</th>\n",
       "      <th>Women who believe a husband is justified in beating his wife when she refuses sex with him (%)</th>\n",
       "      <th>Women who were first married by age 18 (% of women ages 20-24)</th>\n",
       "      <th>Women's share of population ages 15+ living with HIV (%)</th>\n",
       "    </tr>\n",
       "  </thead>\n",
       "  <tbody>\n",
       "    <tr>\n",
       "      <th>0</th>\n",
       "      <td>NaN</td>\n",
       "      <td>NaN</td>\n",
       "      <td>NaN</td>\n",
       "      <td>NaN</td>\n",
       "      <td>NaN</td>\n",
       "      <td>NaN</td>\n",
       "      <td>NaN</td>\n",
       "      <td>NaN</td>\n",
       "      <td>NaN</td>\n",
       "      <td>NaN</td>\n",
       "      <td>...</td>\n",
       "      <td>NaN</td>\n",
       "      <td>NaN</td>\n",
       "      <td>NaN</td>\n",
       "      <td>NaN</td>\n",
       "      <td>NaN</td>\n",
       "      <td>NaN</td>\n",
       "      <td>NaN</td>\n",
       "      <td>NaN</td>\n",
       "      <td>NaN</td>\n",
       "      <td>NaN</td>\n",
       "    </tr>\n",
       "    <tr>\n",
       "      <th>1</th>\n",
       "      <td>NaN</td>\n",
       "      <td>NaN</td>\n",
       "      <td>NaN</td>\n",
       "      <td>NaN</td>\n",
       "      <td>NaN</td>\n",
       "      <td>NaN</td>\n",
       "      <td>NaN</td>\n",
       "      <td>NaN</td>\n",
       "      <td>NaN</td>\n",
       "      <td>NaN</td>\n",
       "      <td>...</td>\n",
       "      <td>NaN</td>\n",
       "      <td>NaN</td>\n",
       "      <td>NaN</td>\n",
       "      <td>NaN</td>\n",
       "      <td>NaN</td>\n",
       "      <td>NaN</td>\n",
       "      <td>NaN</td>\n",
       "      <td>NaN</td>\n",
       "      <td>NaN</td>\n",
       "      <td>NaN</td>\n",
       "    </tr>\n",
       "    <tr>\n",
       "      <th>2</th>\n",
       "      <td>NaN</td>\n",
       "      <td>NaN</td>\n",
       "      <td>NaN</td>\n",
       "      <td>NaN</td>\n",
       "      <td>NaN</td>\n",
       "      <td>NaN</td>\n",
       "      <td>NaN</td>\n",
       "      <td>NaN</td>\n",
       "      <td>NaN</td>\n",
       "      <td>NaN</td>\n",
       "      <td>...</td>\n",
       "      <td>NaN</td>\n",
       "      <td>NaN</td>\n",
       "      <td>NaN</td>\n",
       "      <td>NaN</td>\n",
       "      <td>NaN</td>\n",
       "      <td>NaN</td>\n",
       "      <td>NaN</td>\n",
       "      <td>NaN</td>\n",
       "      <td>NaN</td>\n",
       "      <td>NaN</td>\n",
       "    </tr>\n",
       "    <tr>\n",
       "      <th>3</th>\n",
       "      <td>NaN</td>\n",
       "      <td>NaN</td>\n",
       "      <td>NaN</td>\n",
       "      <td>NaN</td>\n",
       "      <td>NaN</td>\n",
       "      <td>NaN</td>\n",
       "      <td>NaN</td>\n",
       "      <td>NaN</td>\n",
       "      <td>NaN</td>\n",
       "      <td>NaN</td>\n",
       "      <td>...</td>\n",
       "      <td>NaN</td>\n",
       "      <td>NaN</td>\n",
       "      <td>NaN</td>\n",
       "      <td>NaN</td>\n",
       "      <td>NaN</td>\n",
       "      <td>NaN</td>\n",
       "      <td>NaN</td>\n",
       "      <td>NaN</td>\n",
       "      <td>NaN</td>\n",
       "      <td>NaN</td>\n",
       "    </tr>\n",
       "    <tr>\n",
       "      <th>4</th>\n",
       "      <td>NaN</td>\n",
       "      <td>NaN</td>\n",
       "      <td>NaN</td>\n",
       "      <td>NaN</td>\n",
       "      <td>NaN</td>\n",
       "      <td>NaN</td>\n",
       "      <td>NaN</td>\n",
       "      <td>NaN</td>\n",
       "      <td>NaN</td>\n",
       "      <td>NaN</td>\n",
       "      <td>...</td>\n",
       "      <td>NaN</td>\n",
       "      <td>NaN</td>\n",
       "      <td>NaN</td>\n",
       "      <td>NaN</td>\n",
       "      <td>NaN</td>\n",
       "      <td>NaN</td>\n",
       "      <td>NaN</td>\n",
       "      <td>NaN</td>\n",
       "      <td>NaN</td>\n",
       "      <td>NaN</td>\n",
       "    </tr>\n",
       "  </tbody>\n",
       "</table>\n",
       "<p>5 rows × 600 columns</p>\n",
       "</div>"
      ],
      "text/plain": [
       "   2005 PPP conversion factor, GDP (LCU per international $)  \\\n",
       "0                                                NaN           \n",
       "1                                                NaN           \n",
       "2                                                NaN           \n",
       "3                                                NaN           \n",
       "4                                                NaN           \n",
       "\n",
       "   2005 PPP conversion factor, private consumption (LCU per international $)  \\\n",
       "0                                                NaN                           \n",
       "1                                                NaN                           \n",
       "2                                                NaN                           \n",
       "3                                                NaN                           \n",
       "4                                                NaN                           \n",
       "\n",
       "   ARI treatment (% of children under 5 taken to a health provider)  \\\n",
       "0                                                NaN                  \n",
       "1                                                NaN                  \n",
       "2                                                NaN                  \n",
       "3                                                NaN                  \n",
       "4                                                NaN                  \n",
       "\n",
       "   Access to electricity, rural (% of rural population)  \\\n",
       "0                                                NaN      \n",
       "1                                                NaN      \n",
       "2                                                NaN      \n",
       "3                                                NaN      \n",
       "4                                                NaN      \n",
       "\n",
       "   Access to electricity, urban (% of urban population)  \\\n",
       "0                                                NaN      \n",
       "1                                                NaN      \n",
       "2                                                NaN      \n",
       "3                                                NaN      \n",
       "4                                                NaN      \n",
       "\n",
       "   Adjusted net national income (annual % growth)  \\\n",
       "0                                             NaN   \n",
       "1                                             NaN   \n",
       "2                                             NaN   \n",
       "3                                             NaN   \n",
       "4                                             NaN   \n",
       "\n",
       "   Adjusted net national income (constant 2010 US$)  \\\n",
       "0                                               NaN   \n",
       "1                                               NaN   \n",
       "2                                               NaN   \n",
       "3                                               NaN   \n",
       "4                                               NaN   \n",
       "\n",
       "   Adjusted net national income (current US$)  \\\n",
       "0                                         NaN   \n",
       "1                                         NaN   \n",
       "2                                         NaN   \n",
       "3                                         NaN   \n",
       "4                                         NaN   \n",
       "\n",
       "   Adjusted net national income per capita (annual % growth)  \\\n",
       "0                                                NaN           \n",
       "1                                                NaN           \n",
       "2                                                NaN           \n",
       "3                                                NaN           \n",
       "4                                                NaN           \n",
       "\n",
       "   Adjusted net national income per capita (constant 2010 US$)  \\\n",
       "0                                                NaN             \n",
       "1                                                NaN             \n",
       "2                                                NaN             \n",
       "3                                                NaN             \n",
       "4                                                NaN             \n",
       "\n",
       "                             ...                             \\\n",
       "0                            ...                              \n",
       "1                            ...                              \n",
       "2                            ...                              \n",
       "3                            ...                              \n",
       "4                            ...                              \n",
       "\n",
       "   Vitamin A supplementation coverage rate (% of children ages 6-59 months)  \\\n",
       "0                                                NaN                          \n",
       "1                                                NaN                          \n",
       "2                                                NaN                          \n",
       "3                                                NaN                          \n",
       "4                                                NaN                          \n",
       "\n",
       "   Wanted fertility rate (births per woman)  \\\n",
       "0                                       NaN   \n",
       "1                                       NaN   \n",
       "2                                       NaN   \n",
       "3                                       NaN   \n",
       "4                                       NaN   \n",
       "\n",
       "   Women who believe a husband is justified in beating his wife (any of five reasons) (%)  \\\n",
       "0                                                NaN                                        \n",
       "1                                                NaN                                        \n",
       "2                                                NaN                                        \n",
       "3                                                NaN                                        \n",
       "4                                                NaN                                        \n",
       "\n",
       "   Women who believe a husband is justified in beating his wife when she argues with him (%)  \\\n",
       "0                                                NaN                                           \n",
       "1                                                NaN                                           \n",
       "2                                                NaN                                           \n",
       "3                                                NaN                                           \n",
       "4                                                NaN                                           \n",
       "\n",
       "   Women who believe a husband is justified in beating his wife when she burns the food (%)  \\\n",
       "0                                                NaN                                          \n",
       "1                                                NaN                                          \n",
       "2                                                NaN                                          \n",
       "3                                                NaN                                          \n",
       "4                                                NaN                                          \n",
       "\n",
       "   Women who believe a husband is justified in beating his wife when she goes out without telling him (%)  \\\n",
       "0                                                NaN                                                        \n",
       "1                                                NaN                                                        \n",
       "2                                                NaN                                                        \n",
       "3                                                NaN                                                        \n",
       "4                                                NaN                                                        \n",
       "\n",
       "   Women who believe a husband is justified in beating his wife when she neglects the children (%)  \\\n",
       "0                                                NaN                                                 \n",
       "1                                                NaN                                                 \n",
       "2                                                NaN                                                 \n",
       "3                                                NaN                                                 \n",
       "4                                                NaN                                                 \n",
       "\n",
       "   Women who believe a husband is justified in beating his wife when she refuses sex with him (%)  \\\n",
       "0                                                NaN                                                \n",
       "1                                                NaN                                                \n",
       "2                                                NaN                                                \n",
       "3                                                NaN                                                \n",
       "4                                                NaN                                                \n",
       "\n",
       "   Women who were first married by age 18 (% of women ages 20-24)  \\\n",
       "0                                                NaN                \n",
       "1                                                NaN                \n",
       "2                                                NaN                \n",
       "3                                                NaN                \n",
       "4                                                NaN                \n",
       "\n",
       "   Women's share of population ages 15+ living with HIV (%)  \n",
       "0                                                NaN         \n",
       "1                                                NaN         \n",
       "2                                                NaN         \n",
       "3                                                NaN         \n",
       "4                                                NaN         \n",
       "\n",
       "[5 rows x 600 columns]"
      ]
     },
     "execution_count": 46,
     "metadata": {},
     "output_type": "execute_result"
    }
   ],
   "source": [
    "health_stack.head()"
   ]
  },
  {
   "cell_type": "code",
   "execution_count": 47,
   "metadata": {
    "collapsed": true
   },
   "outputs": [],
   "source": [
    "health_stack.drop(columns=['2005 PPP conversion factor, GDP (LCU per international $)',\n",
    "                         '2005 PPP conversion factor, private consumption (LCU per international $)'], inplace=True)"
   ]
  },
  {
   "cell_type": "code",
   "execution_count": 49,
   "metadata": {},
   "outputs": [
    {
     "name": "stdout",
     "output_type": "stream",
     "text": [
      "ARI treatment (% of children under 5 taken to a health provider)\n",
      "Access to electricity, rural (% of rural population)\n",
      "Access to electricity, urban (% of urban population)\n",
      "Adjusted net national income (annual % growth)\n",
      "Adjusted net national income (constant 2010 US$)\n",
      "Adjusted net national income (current US$)\n",
      "Adjusted net national income per capita (annual % growth)\n",
      "Adjusted net national income per capita (constant 2010 US$)\n",
      "Adjusted net national income per capita (current US$)\n",
      "Adjusted net savings, excluding particulate emission damage (% of GNI)\n",
      "Adjusted net savings, excluding particulate emission damage (current US$)\n",
      "Adjusted net savings, including particulate emission damage (% of GNI)\n",
      "Adjusted net savings, including particulate emission damage (current US$)\n",
      "Adjusted savings: carbon dioxide damage (% of GNI)\n",
      "Adjusted savings: carbon dioxide damage (current US$)\n",
      "Adjusted savings: consumption of fixed capital (% of GNI)\n",
      "Adjusted savings: consumption of fixed capital (current US$)\n",
      "Adjusted savings: education expenditure (% of GNI)\n",
      "Adjusted savings: education expenditure (current US$)\n",
      "Adjusted savings: energy depletion (% of GNI)\n",
      "Adjusted savings: energy depletion (current US$)\n",
      "Adjusted savings: gross savings (% of GNI)\n",
      "Adjusted savings: mineral depletion (% of GNI)\n",
      "Adjusted savings: mineral depletion (current US$)\n",
      "Adjusted savings: natural resources depletion (% of GNI)\n",
      "Adjusted savings: net forest depletion (% of GNI)\n",
      "Adjusted savings: net forest depletion (current US$)\n",
      "Adjusted savings: net national savings (% of GNI)\n",
      "Adjusted savings: net national savings (current US$)\n",
      "Adjusted savings: particulate emission damage (% of GNI)\n",
      "Adjusted savings: particulate emission damage (current US$)\n",
      "Adolescent fertility rate (births per 1,000 women ages 15-19)\n",
      "Adults (ages 15+) and children (ages 0-14) newly infected with HIV\n",
      "Adults (ages 15+) newly infected with HIV\n",
      "Age dependency ratio (% of working-age population)\n",
      "Age dependency ratio, old (% of working-age population)\n",
      "Age dependency ratio, young (% of working-age population)\n",
      "Agricultural irrigated land (% of total agricultural land)\n",
      "Agricultural land (% of land area)\n",
      "Agricultural land (sq. km)\n",
      "Agricultural machinery, tractors\n",
      "Agricultural machinery, tractors per 100 sq. km of arable land\n",
      "Agricultural methane emissions (% of total)\n",
      "Agricultural methane emissions (thousand metric tons of CO2 equivalent)\n",
      "Agricultural nitrous oxide emissions (% of total)\n",
      "Agricultural nitrous oxide emissions (thousand metric tons of CO2 equivalent)\n",
      "Agricultural raw materials exports (% of merchandise exports)\n",
      "Agricultural raw materials imports (% of merchandise imports)\n",
      "Agriculture value added per worker (constant 2010 US$)\n",
      "Agriculture, value added (% of GDP)\n",
      "Agriculture, value added (annual % growth)\n",
      "Agriculture, value added (constant 2010 US$)\n",
      "Agriculture, value added (constant LCU)\n",
      "Agriculture, value added (current LCU)\n",
      "Agriculture, value added (current US$)\n",
      "Air transport, freight (million ton-km)\n",
      "Air transport, passengers carried\n",
      "Air transport, registered carrier departures worldwide\n",
      "Annual freshwater withdrawals, agriculture (% of total freshwater withdrawal)\n",
      "Annual freshwater withdrawals, agriculture (% of total freshwater withdrawal).1\n",
      "Annual freshwater withdrawals, domestic (% of total freshwater withdrawal)\n",
      "Annual freshwater withdrawals, industry (% of total freshwater withdrawal)\n",
      "Annual freshwater withdrawals, total (% of internal resources)\n",
      "Annual freshwater withdrawals, total (billion cubic meters)\n",
      "Antiretroviral therapy coverage (% of people living with HIV)\n",
      "Antiretroviral therapy coverage for PMTCT (% of pregnant women living with HIV)\n",
      "Arable land (% of land area)\n",
      "Arable land (hectares per person)\n",
      "Arable land (hectares)\n",
      "Average precipitation in depth (mm per year)\n",
      "Birth rate, crude (per 1,000 people)\n",
      "Births attended by skilled health staff (% of total)\n",
      "Cause of death, by communicable diseases and maternal, prenatal and nutrition conditions (% of total)\n",
      "Cause of death, by injury (% of total)\n",
      "Cause of death, by non-communicable diseases (% of total)\n",
      "Central government debt, total (% of GDP)\n",
      "Cereal production (metric tons)\n",
      "Cereal yield (kg per hectare)\n",
      "Changes in inventories (constant LCU)\n",
      "Changes in inventories (current LCU)\n",
      "Changes in inventories (current US$)\n",
      "Charges for the use of intellectual property, payments (BoP, current US$)\n",
      "Charges for the use of intellectual property, receipts (BoP, current US$)\n",
      "Chemicals (% of value added in manufacturing)\n",
      "Children (0-14) living with HIV\n",
      "Children (ages 0-14) newly infected with HIV\n",
      "Children with fever receiving antimalarial drugs (% of children under age 5 with fever)\n",
      "Communications, computer, etc. (% of service exports, BoP)\n",
      "Communications, computer, etc. (% of service imports, BoP)\n",
      "Community health workers (per 1,000 people)\n",
      "Completeness of birth registration (%)\n",
      "Completeness of birth registration, rural (%)\n",
      "Completeness of birth registration, urban (%)\n",
      "Completeness of death registration with cause-of-death information (%)\n",
      "Completeness of infant death reporting (% of reported infant deaths to estimated infant deaths)\n",
      "Completeness of total death reporting (% of reported total deaths to estimated total deaths)\n",
      "Condom use, population ages 15-24, female (% of females ages 15-24)\n",
      "Condom use, population ages 15-24, male (% of males ages 15-24)\n",
      "Consumption of iodized salt (% of households)\n",
      "Container port traffic (TEU: 20 foot equivalent units)\n",
      "Contraceptive prevalence, any methods (% of women ages 15-49)\n",
      "Contraceptive prevalence, modern methods (% of women ages 15-49)\n",
      "Crop production index (2004-2006 = 100)\n",
      "Current account balance (% of GDP)\n",
      "Current account balance (BoP, current US$)\n",
      "DEC alternative conversion factor (LCU per US$)\n",
      "Death rate, crude (per 1,000 people)\n",
      "Demand for family planning satisfied by modern methods (% of married women with demand for family planning)\n",
      "Depth of the food deficit (kilocalories per person per day)\n",
      "Diabetes prevalence (% of population ages 20 to 79)\n",
      "Diarrhea treatment (% of children under 5 receiving oral rehydration and continued feeding)\n",
      "Diarrhea treatment (% of children under 5 who received ORS packet)\n",
      "Discrepancy in expenditure estimate of GDP (constant LCU)\n",
      "Discrepancy in expenditure estimate of GDP (current LCU)\n",
      "Electric power consumption (kWh per capita)\n",
      "Electric power transmission and distribution losses (% of output)\n",
      "Electricity production from coal sources (% of total)\n",
      "Electricity production from hydroelectric sources (% of total)\n",
      "Electricity production from natural gas sources (% of total)\n",
      "Electricity production from nuclear sources (% of total)\n",
      "Electricity production from oil sources (% of total)\n",
      "Emigration rate of tertiary educated (% of total tertiary educated population)\n",
      "Employment in agriculture (% of total employment) (modeled ILO estimate)\n",
      "Employment in agriculture, female (% of female employment) (modeled ILO estimate)\n",
      "Employment in agriculture, male (% of male employment) (modeled ILO estimate)\n",
      "Exclusive breastfeeding (% of children under 6 months)\n",
      "Expense (% of GDP)\n",
      "Exports as a capacity to import (constant LCU)\n",
      "Exports of goods and services (% of GDP)\n",
      "Exports of goods and services (BoP, current US$)\n",
      "Exports of goods and services (annual % growth)\n",
      "Exports of goods and services (constant 2010 US$)\n",
      "Exports of goods and services (constant LCU)\n",
      "Exports of goods and services (current LCU)\n",
      "Exports of goods and services (current US$)\n",
      "Exports of goods, services and primary income (BoP, current US$)\n",
      "External balance on goods and services (% of GDP)\n",
      "External balance on goods and services (constant LCU)\n",
      "External balance on goods and services (current LCU)\n",
      "External balance on goods and services (current US$)\n",
      "External debt stocks (% of GNI)\n",
      "External debt stocks (% of exports of goods, services and primary income)\n",
      "External debt stocks, total (DOD, current US$)\n",
      "External resources for health (% of total expenditure on health)\n",
      "Female genital mutilation prevalence (%)\n",
      "Female headed households (% of households with a female head)\n",
      "Fertility rate, total (births per woman)\n",
      "Fertilizer consumption (% of fertilizer production)\n",
      "Fertilizer consumption (kilograms per hectare of arable land)\n",
      "Final consumption expenditure (constant 2010 US$)\n",
      "Final consumption expenditure (constant LCU)\n",
      "Final consumption expenditure (current LCU)\n",
      "Final consumption expenditure (current US$)\n",
      "Final consumption expenditure, etc. (% of GDP)\n",
      "Final consumption expenditure, etc. (annual % growth)\n",
      "Final consumption expenditure, etc. (constant 2010 US$)\n",
      "Final consumption expenditure, etc. (constant LCU)\n",
      "Final consumption expenditure, etc. (current LCU)\n",
      "Final consumption expenditure, etc. (current US$)\n",
      "Fixed broadband subscriptions\n",
      "Fixed broadband subscriptions (per 100 people)\n",
      "Fixed telephone subscriptions\n",
      "Fixed telephone subscriptions (per 100 people)\n",
      "Food production index (2004-2006 = 100)\n",
      "Food, beverages and tobacco (% of value added in manufacturing)\n",
      "Foreign direct investment, net (BoP, current US$)\n",
      "Foreign direct investment, net inflows (% of GDP)\n",
      "Foreign direct investment, net inflows (BoP, current US$)\n",
      "Foreign direct investment, net outflows (% of GDP)\n",
      "Foreign direct investment, net outflows (BoP, current US$)\n",
      "Forest area (% of land area)\n",
      "Forest area (sq. km)\n",
      "GDP (constant 2010 US$)\n",
      "GDP (constant LCU)\n",
      "GDP (current LCU)\n",
      "GDP (current US$)\n",
      "GDP deflator (base year varies by country)\n",
      "GDP growth (annual %)\n",
      "GDP per capita (constant 2010 US$)\n",
      "GDP per capita (constant LCU)\n",
      "GDP per capita (current LCU)\n",
      "GDP per capita (current US$)\n",
      "GDP per capita growth (annual %)\n",
      "GDP per capita, PPP (constant 2011 international $)\n",
      "GDP per capita, PPP (current international $)\n",
      "GDP, PPP (constant 2011 international $)\n",
      "GDP, PPP (current international $)\n",
      "GDP: linked series (current LCU)\n",
      "GNI (constant 2010 US$)\n",
      "GNI (constant LCU)\n",
      "GNI (current LCU)\n",
      "GNI (current US$)\n",
      "GNI growth (annual %)\n",
      "GNI per capita (constant 2010 US$)\n",
      "GNI per capita (constant LCU)\n",
      "GNI per capita (current LCU)\n",
      "GNI per capita growth (annual %)\n",
      "GNI per capita, Atlas method (current US$)\n",
      "GNI per capita, PPP (constant 2011 international $)\n",
      "GNI per capita, PPP (current international $)\n",
      "GNI, Atlas method (current US$)\n",
      "GNI, PPP (constant 2011 international $)\n",
      "GNI, PPP (current international $)\n",
      "General government final consumption expenditure (% of GDP)\n",
      "General government final consumption expenditure (annual % growth)\n",
      "General government final consumption expenditure (constant 2010 US$)\n",
      "General government final consumption expenditure (constant LCU)\n",
      "General government final consumption expenditure (current LCU)\n",
      "General government final consumption expenditure (current US$)\n",
      "Goods exports (BoP, current US$)\n",
      "Goods imports (BoP, current US$)\n",
      "Grants, excluding technical cooperation (BoP, current US$)\n",
      "Gross capital formation (% of GDP)\n",
      "Gross capital formation (annual % growth)\n",
      "Gross capital formation (constant 2010 US$)\n",
      "Gross capital formation (constant LCU)\n",
      "Gross capital formation (current LCU)\n",
      "Gross capital formation (current US$)\n",
      "Gross domestic income (constant LCU)\n",
      "Gross domestic savings (% of GDP)\n",
      "Gross domestic savings (current LCU)\n",
      "Gross domestic savings (current US$)\n",
      "Gross fixed capital formation (% of GDP)\n",
      "Gross fixed capital formation (annual % growth)\n",
      "Gross fixed capital formation (constant 2010 US$)\n",
      "Gross fixed capital formation (constant LCU)\n",
      "Gross fixed capital formation (current LCU)\n",
      "Gross fixed capital formation (current US$)\n",
      "Gross fixed capital formation, private sector (% of GDP)\n",
      "Gross fixed capital formation, private sector (current LCU)\n",
      "Gross national expenditure (% of GDP)\n",
      "Gross national expenditure (constant 2010 US$)\n",
      "Gross national expenditure (constant LCU)\n",
      "Gross national expenditure (current LCU)\n",
      "Gross national expenditure (current US$)\n",
      "Gross national expenditure deflator (base year varies by country)\n",
      "Gross savings (% of GDP)\n",
      "Gross savings (% of GNI)\n",
      "Gross savings (current LCU)\n",
      "Gross savings (current US$)\n",
      "Gross value added at factor cost (constant 2010 US$)\n",
      "Gross value added at factor cost (constant LCU)\n",
      "Gross value added at factor cost (current LCU)\n",
      "Gross value added at factor cost (current US$)\n",
      "Health expenditure per capita (current US$)\n",
      "Health expenditure per capita, PPP (constant 2011 international $)\n",
      "Health expenditure, private (% of GDP)\n",
      "Health expenditure, public (% of GDP)\n",
      "Health expenditure, public (% of government expenditure)\n",
      "Health expenditure, public (% of total health expenditure)\n",
      "Health expenditure, total (% of GDP)\n",
      "High-technology exports (% of manufactured exports)\n",
      "High-technology exports (current US$)\n",
      "Hospital beds (per 1,000 people)\n",
      "Household final consumption expenditure (annual % growth)\n",
      "Household final consumption expenditure (constant 2010 US$)\n",
      "Household final consumption expenditure (constant LCU)\n",
      "Household final consumption expenditure (current LCU)\n",
      "Household final consumption expenditure (current US$)\n",
      "Household final consumption expenditure per capita (constant 2010 US$)\n",
      "Household final consumption expenditure per capita growth (annual %)\n",
      "Household final consumption expenditure, PPP (constant 2011 international $)\n",
      "Household final consumption expenditure, PPP (current international $)\n",
      "Household final consumption expenditure, etc. (% of GDP)\n",
      "Household final consumption expenditure, etc. (annual % growth)\n",
      "Household final consumption expenditure, etc. (constant 2010 US$)\n",
      "Household final consumption expenditure, etc. (constant LCU)\n",
      "Household final consumption expenditure, etc. (current LCU)\n",
      "Household final consumption expenditure, etc. (current US$)\n",
      "ICT goods exports (% of total goods exports)\n",
      "ICT goods imports (% total goods imports)\n",
      "ICT service exports (% of service exports, BoP)\n",
      "ICT service exports (BoP, current US$)\n",
      "Immunization, DPT (% of children ages 12-23 months)\n",
      "Immunization, measles (% of children ages 12-23 months)\n",
      "Imports of goods and services (% of GDP)\n",
      "Imports of goods and services (BoP, current US$)\n",
      "Imports of goods and services (annual % growth)\n",
      "Imports of goods and services (constant 2010 US$)\n",
      "Imports of goods and services (constant LCU)\n",
      "Imports of goods and services (current LCU)\n",
      "Imports of goods and services (current US$)\n",
      "Imports of goods, services and primary income (BoP, current US$)\n",
      "Improved sanitation facilities (% of population with access)\n",
      "Improved sanitation facilities, rural (% of rural population with access)\n",
      "Improved sanitation facilities, urban (% of urban population with access)\n",
      "Improved water source (% of population with access)\n",
      "Improved water source, rural (% of rural population with access)\n",
      "Improved water source, rural (% of rural population with access).1\n",
      "Improved water source, urban (% of urban population with access)\n",
      "Improved water source, urban (% of urban population with access).1\n",
      "Incidence of HIV (% of uninfected population ages 15-49)\n",
      "Incidence of malaria (per 1,000 population at risk)\n",
      "Incidence of tuberculosis (per 100,000 people)\n",
      "Increase in poverty gap at $1.90 ($ 2011 PPP) poverty line due to out-of-pocket health care expenditure (% of poverty line)\n",
      "Increase in poverty gap at $1.90 ($ 2011 PPP) poverty line due to out-of-pocket health care expenditure (USD)\n",
      "Increase in poverty gap at $3.10 ($ 2011 PPP) poverty line due to out-of-pocket health care expenditure (% of poverty line)\n",
      "Increase in poverty gap at $3.10 ($ 2011 PPP) poverty line due to out-of-pocket health care expenditure (USD)\n",
      "Individuals using the Internet (% of population)\n",
      "Industrial design applications, nonresident, by count\n",
      "Industrial design applications, resident, by count\n",
      "Industry, value added (% of GDP)\n",
      "Industry, value added (annual % growth)\n",
      "Industry, value added (constant 2010 US$)\n",
      "Industry, value added (constant LCU)\n",
      "Industry, value added (current LCU)\n",
      "Industry, value added (current US$)\n",
      "Inflation, GDP deflator (annual %)\n",
      "Inflation, consumer prices (annual %)\n",
      "Insurance and financial services (% of service exports, BoP)\n",
      "Insurance and financial services (% of service imports, BoP)\n",
      "Interest payments on external debt (% of GNI)\n",
      "Interest payments on external debt (% of exports of goods, services and primary income)\n",
      "International migrant stock (% of population)\n",
      "International migrant stock, total\n",
      "Investment in ICT with private participation (current US$)\n",
      "Investment in energy with private participation (current US$)\n",
      "Investment in telecoms with private participation (current US$)\n",
      "Investment in transport with private participation (current US$)\n",
      "Investment in water and sanitation with private participation (current US$)\n",
      "Land area (sq. km)\n",
      "Land under cereal production (hectares)\n",
      "Life expectancy at birth, female (years)\n",
      "Life expectancy at birth, male (years)\n",
      "Life expectancy at birth, total (years)\n",
      "Lifetime risk of maternal death (%)\n",
      "Lifetime risk of maternal death (1 in: rate varies by country)\n",
      "Liner shipping connectivity index (maximum value in 2004 = 100)\n",
      "Livestock production index (2004-2006 = 100)\n",
      "Low-birthweight babies (% of births)\n",
      "Machinery and transport equipment (% of value added in manufacturing)\n",
      "Manufacturing, value added (% of GDP)\n",
      "Manufacturing, value added (annual % growth)\n",
      "Manufacturing, value added (constant 2010 US$)\n",
      "Manufacturing, value added (constant LCU)\n",
      "Manufacturing, value added (current LCU)\n",
      "Manufacturing, value added (current US$)\n",
      "Maternal mortality ratio (modeled estimate, per 100,000 live births)\n",
      "Maternal mortality ratio (national estimate, per 100,000 live births)\n",
      "Mobile cellular subscriptions\n",
      "Mobile cellular subscriptions (per 100 people)\n",
      "Mortality caused by road traffic injury (per 100,000 people)\n",
      "Mortality from CVD, cancer, diabetes or CRD between exact ages 30 and 70 (%)\n",
      "Mortality rate, adult, female (per 1,000 female adults)\n",
      "Mortality rate, adult, male (per 1,000 male adults)\n",
      "Mortality rate, infant (per 1,000 live births)\n",
      "Mortality rate, infant, female (per 1,000 live births)\n",
      "Mortality rate, infant, male (per 1,000 live births)\n",
      "Mortality rate, neonatal (per 1,000 live births)\n",
      "Mortality rate, under-5 (per 1,000 live births)\n",
      "Mortality rate, under-5, female (per 1,000 live births)\n",
      "Mortality rate, under-5, male (per 1,000 live births)\n",
      "Net ODA received (% of GNI)\n",
      "Net ODA received per capita (current US$)\n",
      "Net capital account (BoP, current US$)\n",
      "Net current transfers from abroad (constant LCU)\n",
      "Net current transfers from abroad (current LCU)\n",
      "Net current transfers from abroad (current US$)\n",
      "Net errors and omissions (BoP, current US$)\n",
      "Net financial account (BoP, current US$)\n",
      "Net income from abroad (constant LCU)\n",
      "Net income from abroad (current LCU)\n",
      "Net income from abroad (current US$)\n",
      "Net migration\n",
      "Net official development assistance received (current US$)\n",
      "Net primary income (BoP, current US$)\n",
      "Net secondary income (BoP, current US$)\n",
      "Net taxes on products (constant LCU)\n",
      "Net taxes on products (current LCU)\n",
      "Net taxes on products (current US$)\n",
      "Net trade in goods (BoP, current US$)\n",
      "Net trade in goods and services (BoP, current US$)\n",
      "Newborns protected against tetanus (%)\n",
      "Number of deaths ages 5-14 years\n",
      "Number of infant deaths\n",
      "Number of maternal deaths\n",
      "Number of neonatal deaths\n",
      "Number of people pushed below the $1.90 ($ 2011 PPP) poverty line by out-of-pocket health care expenditure\n",
      "Number of people pushed below the $3.10 ($ 2011 PPP) poverty line by out-of-pocket health care expenditure\n",
      "Number of people pushed below the 50% median consumption poverty line by out-of-pocket health care expenditure\n",
      "Number of people spending more than 10% of household consumption or income on out-of-pocket health care expenditure\n",
      "Number of people spending more than 25% of household consumption or income on out-of-pocket health care expenditure\n",
      "Number of surgical procedures (per 100,000 population)\n",
      "Number of under-five deaths\n",
      "Nurses and midwives (per 1,000 people)\n",
      "Other manufacturing (% of value added in manufacturing)\n",
      "Out-of-pocket health expenditure (% of private expenditure on health)\n",
      "Out-of-pocket health expenditure (% of total expenditure on health)\n",
      "PM2.5 air pollution, mean annual exposure (micrograms per cubic meter)\n",
      "PM2.5 air pollution, population exposed to levels exceeding WHO guideline value (% of total)\n",
      "PPP conversion factor, GDP (LCU per international $)\n",
      "PPP conversion factor, private consumption (LCU per international $)\n",
      "Patent applications, nonresidents\n",
      "Patent applications, residents\n",
      "People practicing open defecation (% of population)\n",
      "People practicing open defecation, rural (% of rural population)\n",
      "People practicing open defecation, urban (% of urban population)\n",
      "Permanent cropland (% of land area)\n",
      "Personal remittances, paid (current US$)\n",
      "Personal remittances, received (% of GDP)\n",
      "Personal remittances, received (current US$)\n",
      "Personal transfers, receipts (BoP, current US$)\n",
      "Physicians (per 1,000 people)\n",
      "Population ages 0-14 (% of total)\n",
      "Population ages 0-14, female\n",
      "Population ages 0-14, female (% of total)\n",
      "Population ages 0-14, male (% of total)\n",
      "Population ages 0-4, female (% of female population)\n",
      "Population ages 0-4, male (% of male population)\n",
      "Population ages 10-14, female (% of female population)\n",
      "Population ages 10-14, male (% of male population)\n",
      "Population ages 15-19, female (% of female population)\n",
      "Population ages 15-19, male (% of male population)\n",
      "Population ages 15-64 (% of total)\n",
      "Population ages 15-64, female\n",
      "Population ages 15-64, female (% of total)\n",
      "Population ages 15-64, male\n",
      "Population ages 15-64, male (% of total)\n",
      "Population ages 15-64, total\n",
      "Population ages 20-24, female (% of female population)\n",
      "Population ages 20-24, male (% of male population)\n",
      "Population ages 25-29, female (% of female population)\n",
      "Population ages 25-29, male (% of male population)\n",
      "Population ages 30-34, female (% of female population)\n",
      "Population ages 30-34, male (% of male population)\n",
      "Population ages 35-39, female (% of female population)\n",
      "Population ages 35-39, male (% of male population)\n",
      "Population ages 40-44, female (% of female population)\n",
      "Population ages 40-44, male (% of male population)\n",
      "Population ages 45-49, female (% of female population)\n",
      "Population ages 45-49, male (% of male population)\n",
      "Population ages 5-9, female (% of female population)\n",
      "Population ages 5-9, male (% of male population)\n",
      "Population ages 50-54, female (% of female population)\n",
      "Population ages 50-54, male (% of male population)\n",
      "Population ages 55-59, female (% of female population)\n",
      "Population ages 55-59, male (% of male population)\n",
      "Population ages 60-64, female (% of female population)\n",
      "Population ages 60-64, male (% of male population)\n",
      "Population ages 65 and above (% of total)\n",
      "Population ages 65 and above, female\n",
      "Population ages 65 and above, female (% of total)\n",
      "Population ages 65 and above, male\n",
      "Population ages 65 and above, male (% of total)\n",
      "Population ages 65-69, female (% of female population)\n",
      "Population ages 65-69, male (% of male population)\n",
      "Population ages 70-74, female (% of female population)\n",
      "Population ages 70-74, male (% of male population)\n",
      "Population ages 75-79, female (% of female population)\n",
      "Population ages 75-79, male (% of male population)\n",
      "Population ages 80 and above, female (% of female population)\n",
      "Population ages 80 and above, male (% of male population)\n",
      "Population density (people per sq. km of land area)\n",
      "Population growth (annual %)\n",
      "Population in largest city\n",
      "Population in the largest city (% of urban population)\n",
      "Population in urban agglomerations of more than 1 million\n",
      "Population in urban agglomerations of more than 1 million (% of total population)\n",
      "Population living in slums (% of urban population)\n",
      "Population, female\n",
      "Population, female (% of total)\n",
      "Population, male\n",
      "Population, male (% of total)\n",
      "Population, total\n",
      "Portfolio equity, net inflows (BoP, current US$)\n",
      "Pregnant women receiving prenatal care (%)\n",
      "Present value of external debt (% of GNI)\n",
      "Present value of external debt (% of exports of goods, services and primary income)\n",
      "Present value of external debt (current US$)\n",
      "Prevalence of HIV, female (% ages 15-24)\n",
      "Prevalence of HIV, male (% ages 15-24)\n",
      "Prevalence of HIV, total (% of population ages 15-49)\n",
      "Prevalence of anemia among children (% of children under 5)\n",
      "Prevalence of anemia among non-pregnant women (% of women ages 15-49)\n",
      "Prevalence of anemia among pregnant women (%)\n",
      "Prevalence of anemia among women of reproductive age (% of women ages 15-49)\n",
      "Prevalence of overweight, weight for height (% of children under 5)\n",
      "Prevalence of overweight, weight for height, female (% of children under 5)\n",
      "Prevalence of overweight, weight for height, male (% of children under 5)\n",
      "Prevalence of severe wasting, weight for height (% of children under 5)\n",
      "Prevalence of severe wasting, weight for height, female (% of children under 5)\n",
      "Prevalence of severe wasting, weight for height, male (% of children under 5)\n",
      "Prevalence of stunting, height for age (% of children under 5)\n",
      "Prevalence of stunting, height for age, female (% of children under 5)\n",
      "Prevalence of stunting, height for age, male (% of children under 5)\n",
      "Prevalence of undernourishment (% of population)\n",
      "Prevalence of underweight, weight for age (% of children under 5)\n",
      "Prevalence of underweight, weight for age, female (% of children under 5)\n",
      "Prevalence of underweight, weight for age, male (% of children under 5)\n",
      "Prevalence of wasting, weight for height (% of children under 5)\n",
      "Prevalence of wasting, weight for height, female (% of children under 5)\n",
      "Prevalence of wasting, weight for height, male (% of children under 5)\n",
      "Price level ratio of PPP conversion factor (GDP) to market exchange rate\n",
      "Primary income on FDI, payments (current US$)\n",
      "Primary income payments (BoP, current US$)\n",
      "Primary income receipts (BoP, current US$)\n",
      "Probability of dying at age 5-14 years (per 1,000 children age 5)\n",
      "Proportion of population pushed below the $1.90 ($ 2011 PPP) poverty line by out-of-pocket health care expenditure (%)\n",
      "Proportion of population pushed below the $3.10 ($ 2011 PPP) poverty line by out-of-pocket health care expenditure (%)\n",
      "Proportion of population pushed below the 50% median consumption poverty line by out-of-pocket health care expenditure (%)\n",
      "Proportion of population spending more than 10% of household consumption or income on out-of-pocket health care expenditure (%)\n",
      "Proportion of population spending more than 25% of household consumption or income on out-of-pocket health care expenditure (%)\n",
      "Public private partnerships investment in energy (current US$)\n",
      "Public private partnerships investment in telecom (current US$)\n",
      "Public private partnerships investment in transport (current US$)\n",
      "Public private partnerships investment in water and sanitation (current US$)\n",
      "Pump price for diesel fuel (US$ per liter)\n",
      "Pump price for gasoline (US$ per liter)\n",
      "Quality of port infrastructure, WEF (1=extremely underdeveloped to 7=well developed and efficient by international standards)\n",
      "Rail lines (total route-km)\n",
      "Railways, goods transported (million ton-km)\n",
      "Railways, passengers carried (million passenger-km)\n",
      "Refugee population by country or territory of asylum\n",
      "Refugee population by country or territory of origin\n",
      "Renewable internal freshwater resources per capita (cubic meters)\n",
      "Renewable internal freshwater resources, total (billion cubic meters)\n",
      "Research and development expenditure (% of GDP)\n",
      "Researchers in R&D (per million people)\n",
      "Reserves and related items (BoP, current US$)\n",
      "Revenue, excluding grants (% of GDP)\n",
      "Risk of catastrophic expenditure for surgical care (% of people at risk)\n",
      "Risk of impoverishing expenditure for surgical care (% of people at risk)\n",
      "Rural land area (sq. km)\n",
      "Rural land area where elevation is below 5 meters (% of total land area)\n",
      "Rural land area where elevation is below 5 meters (sq. km)\n",
      "Rural population\n",
      "Rural population (% of total population)\n",
      "Rural population growth (annual %)\n",
      "Rural population living in areas where elevation is below 5 meters (% of total population)\n",
      "Rural poverty gap at national poverty lines (%)\n",
      "Rural poverty headcount ratio at national poverty lines (% of rural population)\n",
      "Scientific and technical journal articles\n",
      "Secondary income receipts (BoP, current US$)\n",
      "Secondary income, other sectors, payments (BoP, current US$)\n",
      "Secure Internet servers\n",
      "Secure Internet servers (per 1 million people)\n",
      "Service exports (BoP, current US$)\n",
      "Service imports (BoP, current US$)\n",
      "Services, etc., value added (% of GDP)\n",
      "Services, etc., value added (annual % growth)\n",
      "Services, etc., value added (constant 2010 US$)\n",
      "Services, etc., value added (constant LCU)\n",
      "Services, etc., value added (current LCU)\n",
      "Services, etc., value added (current US$)\n",
      "Sex ratio at birth (male births per female births)\n",
      "Short-term debt (% of exports of goods, services and primary income)\n",
      "Short-term debt (% of total reserves)\n",
      "Smoking prevalence, females (% of adults)\n",
      "Smoking prevalence, males (% of adults)\n",
      "Specialist surgical workforce (per 100,000 population)\n",
      "Suicide mortality rate (per 100,000 population)\n",
      "Surface area (sq. km)\n",
      "Survival to age 65, female (% of cohort)\n",
      "Survival to age 65, male (% of cohort)\n",
      "Technical cooperation grants (BoP, current US$)\n",
      "Technicians in R&D (per million people)\n",
      "Teenage mothers (% of women ages 15-19 who have had children or are currently pregnant)\n",
      "Terms of trade adjustment (constant LCU)\n",
      "Textiles and clothing (% of value added in manufacturing)\n",
      "Total alcohol consumption per capita (liters of pure alcohol, projected estimates, 15+ years of age)\n",
      "Total debt service (% of GNI)\n",
      "Total debt service (% of exports of goods, services and primary income)\n",
      "Total reserves (includes gold, current US$)\n",
      "Total reserves minus gold (current US$)\n",
      "Trade (% of GDP)\n",
      "Trade in services (% of GDP)\n",
      "Trademark applications, direct nonresident\n",
      "Trademark applications, direct resident\n",
      "Trademark applications, nonresident, by count\n",
      "Trademark applications, resident, by count\n",
      "Trademark applications, total\n",
      "Transport services (% of service exports, BoP)\n",
      "Transport services (% of service imports, BoP)\n",
      "Travel services (% of service exports, BoP)\n",
      "Travel services (% of service imports, BoP)\n",
      "Tuberculosis case detection rate (%, all forms)\n",
      "Tuberculosis treatment success rate (% of new cases)\n",
      "Unmet need for contraception (% of married women ages 15-49)\n",
      "Urban land area (sq. km)\n",
      "Urban land area where elevation is below 5 meters (% of total land area)\n",
      "Urban land area where elevation is below 5 meters (sq. km)\n",
      "Urban population\n",
      "Urban population (% of total)\n",
      "Urban population growth (annual %)\n",
      "Urban population living in areas where elevation is below 5 meters (% of total population)\n",
      "Urban poverty gap at national poverty lines (%)\n",
      "Urban poverty headcount ratio at national poverty lines (% of urban population)\n",
      "Use of insecticide-treated bed nets (% of under-5 population)\n",
      "Vitamin A supplementation coverage rate (% of children ages 6-59 months)\n",
      "Wanted fertility rate (births per woman)\n",
      "Women who believe a husband is justified in beating his wife (any of five reasons) (%)\n",
      "Women who believe a husband is justified in beating his wife when she argues with him (%)\n",
      "Women who believe a husband is justified in beating his wife when she burns the food (%)\n",
      "Women who believe a husband is justified in beating his wife when she goes out without telling him (%)\n",
      "Women who believe a husband is justified in beating his wife when she neglects the children (%)\n",
      "Women who believe a husband is justified in beating his wife when she refuses sex with him (%)\n",
      "Women who were first married by age 18 (% of women ages 20-24)\n",
      "Women's share of population ages 15+ living with HIV (%)\n"
     ]
    }
   ],
   "source": [
    "for col in health_stack.columns:\n",
    "    print col"
   ]
  },
  {
   "cell_type": "code",
   "execution_count": 50,
   "metadata": {
    "collapsed": true
   },
   "outputs": [],
   "source": [
    "goal = health_stack['Incidence of tuberculosis (per 100,000 people)']"
   ]
  },
  {
   "cell_type": "code",
   "execution_count": 87,
   "metadata": {
    "collapsed": true
   },
   "outputs": [],
   "source": [
    "health_clean= pd.read_csv('ML_health_stack.csv', index_col=0)"
   ]
  },
  {
   "cell_type": "code",
   "execution_count": 55,
   "metadata": {},
   "outputs": [
    {
     "name": "stdout",
     "output_type": "stream",
     "text": [
      "ARI treatment (% of children under 5 taken to a health provider)\n",
      "Adolescent fertility rate (births per 1,000 women ages 15-19)\n",
      "Adults (ages 15+) and children (ages 0-14) newly infected with HIV\n",
      "Adults (ages 15+) newly infected with HIV\n",
      "Age dependency ratio (% of working-age population)\n",
      "Age dependency ratio, old (% of working-age population)\n",
      "Age dependency ratio, young (% of working-age population)\n",
      "Antiretroviral therapy coverage (% of people living with HIV)\n",
      "Antiretroviral therapy coverage for PMTCT (% of pregnant women living with HIV)\n",
      "Birth rate, crude (per 1,000 people)\n",
      "Births attended by skilled health staff (% of total)\n",
      "Cause of death, by communicable diseases and maternal, prenatal and nutrition conditions (% of total)\n",
      "Cause of death, by injury (% of total)\n",
      "Cause of death, by non-communicable diseases (% of total)\n",
      "Children (0-14) living with HIV\n",
      "Children (ages 0-14) newly infected with HIV\n",
      "Children with fever receiving antimalarial drugs (% of children under age 5 with fever)\n",
      "Community health workers (per 1,000 people)\n",
      "Completeness of birth registration (%)\n",
      "Completeness of birth registration, rural (%)\n",
      "Completeness of birth registration, urban (%)\n",
      "Completeness of death registration with cause-of-death information (%)\n",
      "Completeness of infant death reporting (% of reported infant deaths to estimated infant deaths)\n",
      "Completeness of total death reporting (% of reported total deaths to estimated total deaths)\n",
      "Condom use, population ages 15-24, female (% of females ages 15-24)\n",
      "Condom use, population ages 15-24, male (% of males ages 15-24)\n",
      "Consumption of iodized salt (% of households)\n",
      "Contraceptive prevalence, any methods (% of women ages 15-49)\n",
      "Contraceptive prevalence, modern methods (% of women ages 15-49)\n",
      "Death rate, crude (per 1,000 people)\n",
      "Demand for family planning satisfied by modern methods (% of married women with demand for family planning)\n",
      "Depth of the food deficit (kilocalories per person per day)\n",
      "Diabetes prevalence (% of population ages 20 to 79)\n",
      "Diarrhea treatment (% of children under 5 receiving oral rehydration and continued feeding)\n",
      "Diarrhea treatment (% of children under 5 who received ORS packet)\n",
      "Emigration rate of tertiary educated (% of total tertiary educated population)\n",
      "Exclusive breastfeeding (% of children under 6 months)\n",
      "External resources for health (% of total expenditure on health)\n",
      "Female genital mutilation prevalence (%)\n",
      "Female headed households (% of households with a female head)\n",
      "Fertility rate, total (births per woman)\n",
      "Health expenditure per capita (current US$)\n",
      "Health expenditure per capita, PPP (constant 2011 international $)\n",
      "Health expenditure, private (% of GDP)\n",
      "Health expenditure, public (% of GDP)\n",
      "Health expenditure, public (% of government expenditure)\n",
      "Health expenditure, public (% of total health expenditure)\n",
      "Health expenditure, total (% of GDP)\n",
      "Hospital beds (per 1,000 people)\n",
      "Immunization, DPT (% of children ages 12-23 months)\n",
      "Immunization, measles (% of children ages 12-23 months)\n",
      "Improved sanitation facilities (% of population with access)\n",
      "Improved sanitation facilities, rural (% of rural population with access)\n",
      "Improved sanitation facilities, urban (% of urban population with access)\n",
      "Improved water source (% of population with access)\n",
      "Improved water source, rural (% of rural population with access)\n",
      "Improved water source, urban (% of urban population with access)\n",
      "Incidence of HIV (% of uninfected population ages 15-49)\n",
      "Incidence of malaria (per 1,000 population at risk)\n",
      "Incidence of tuberculosis (per 100,000 people)\n",
      "Increase in poverty gap at $1.90 ($ 2011 PPP) poverty line due to out-of-pocket health care expenditure (% of poverty line)\n",
      "Increase in poverty gap at $1.90 ($ 2011 PPP) poverty line due to out-of-pocket health care expenditure (USD)\n",
      "Increase in poverty gap at $3.10 ($ 2011 PPP) poverty line due to out-of-pocket health care expenditure (% of poverty line)\n",
      "Increase in poverty gap at $3.10 ($ 2011 PPP) poverty line due to out-of-pocket health care expenditure (USD)\n",
      "International migrant stock (% of population)\n",
      "International migrant stock, total\n",
      "Life expectancy at birth, female (years)\n",
      "Life expectancy at birth, male (years)\n",
      "Life expectancy at birth, total (years)\n",
      "Lifetime risk of maternal death (%)\n",
      "Lifetime risk of maternal death (1 in: rate varies by country)\n",
      "Low-birthweight babies (% of births)\n",
      "Maternal mortality ratio (modeled estimate, per 100,000 live births)\n",
      "Maternal mortality ratio (national estimate, per 100,000 live births)\n",
      "Mortality caused by road traffic injury (per 100,000 people)\n",
      "Mortality from CVD, cancer, diabetes or CRD between exact ages 30 and 70 (%)\n",
      "Mortality rate, adult, female (per 1,000 female adults)\n",
      "Mortality rate, adult, male (per 1,000 male adults)\n",
      "Mortality rate, infant (per 1,000 live births)\n",
      "Mortality rate, infant, female (per 1,000 live births)\n",
      "Mortality rate, infant, male (per 1,000 live births)\n",
      "Mortality rate, neonatal (per 1,000 live births)\n",
      "Mortality rate, under-5 (per 1,000 live births)\n",
      "Mortality rate, under-5, female (per 1,000 live births)\n",
      "Mortality rate, under-5, male (per 1,000 live births)\n",
      "Net migration\n",
      "Newborns protected against tetanus (%)\n",
      "Number of deaths ages 5-14 years\n",
      "Number of infant deaths\n",
      "Number of maternal deaths\n",
      "Number of neonatal deaths\n",
      "Number of people pushed below the $1.90 ($ 2011 PPP) poverty line by out-of-pocket health care expenditure\n",
      "Number of people pushed below the $3.10 ($ 2011 PPP) poverty line by out-of-pocket health care expenditure\n",
      "Number of people pushed below the 50% median consumption poverty line by out-of-pocket health care expenditure\n",
      "Number of people spending more than 10% of household consumption or income on out-of-pocket health care expenditure\n",
      "Number of people spending more than 25% of household consumption or income on out-of-pocket health care expenditure\n",
      "Number of surgical procedures (per 100,000 population)\n",
      "Number of under-five deaths\n",
      "Nurses and midwives (per 1,000 people)\n",
      "Out-of-pocket health expenditure (% of private expenditure on health)\n",
      "Out-of-pocket health expenditure (% of total expenditure on health)\n",
      "People practicing open defecation (% of population)\n",
      "People practicing open defecation, rural (% of rural population)\n",
      "People practicing open defecation, urban (% of urban population)\n",
      "Physicians (per 1,000 people)\n",
      "Population ages 0-14 (% of total)\n",
      "Population ages 0-14, female\n",
      "Population ages 0-14, female (% of total)\n",
      "Population ages 0-14, male (% of total)\n",
      "Population ages 0-4, female (% of female population)\n",
      "Population ages 0-4, male (% of male population)\n",
      "Population ages 10-14, female (% of female population)\n",
      "Population ages 10-14, male (% of male population)\n",
      "Population ages 15-19, female (% of female population)\n",
      "Population ages 15-19, male (% of male population)\n",
      "Population ages 15-64 (% of total)\n",
      "Population ages 15-64, female\n",
      "Population ages 15-64, female (% of total)\n",
      "Population ages 15-64, male\n",
      "Population ages 15-64, male (% of total)\n",
      "Population ages 15-64, total\n",
      "Population ages 20-24, female (% of female population)\n",
      "Population ages 20-24, male (% of male population)\n",
      "Population ages 25-29, female (% of female population)\n",
      "Population ages 25-29, male (% of male population)\n",
      "Population ages 30-34, female (% of female population)\n",
      "Population ages 30-34, male (% of male population)\n",
      "Population ages 35-39, female (% of female population)\n",
      "Population ages 35-39, male (% of male population)\n",
      "Population ages 40-44, female (% of female population)\n",
      "Population ages 40-44, male (% of male population)\n",
      "Population ages 45-49, female (% of female population)\n",
      "Population ages 45-49, male (% of male population)\n",
      "Population ages 5-9, female (% of female population)\n",
      "Population ages 5-9, male (% of male population)\n",
      "Population ages 50-54, female (% of female population)\n",
      "Population ages 50-54, male (% of male population)\n",
      "Population ages 55-59, female (% of female population)\n",
      "Population ages 55-59, male (% of male population)\n",
      "Population ages 60-64, female (% of female population)\n",
      "Population ages 60-64, male (% of male population)\n",
      "Population ages 65 and above (% of total)\n",
      "Population ages 65 and above, female\n",
      "Population ages 65 and above, female (% of total)\n",
      "Population ages 65 and above, male\n",
      "Population ages 65 and above, male (% of total)\n",
      "Population ages 65-69, female (% of female population)\n",
      "Population ages 65-69, male (% of male population)\n",
      "Population ages 70-74, female (% of female population)\n",
      "Population ages 70-74, male (% of male population)\n",
      "Population ages 75-79, female (% of female population)\n",
      "Population ages 75-79, male (% of male population)\n",
      "Population ages 80 and above, female (% of female population)\n",
      "Population ages 80 and above, male (% of male population)\n",
      "Population growth (annual %)\n",
      "Population, female\n",
      "Population, female (% of total)\n",
      "Population, male\n",
      "Population, male (% of total)\n",
      "Population, total\n",
      "Pregnant women receiving prenatal care (%)\n",
      "Prevalence of HIV, female (% ages 15-24)\n",
      "Prevalence of HIV, male (% ages 15-24)\n",
      "Prevalence of HIV, total (% of population ages 15-49)\n",
      "Prevalence of anemia among children (% of children under 5)\n",
      "Prevalence of anemia among non-pregnant women (% of women ages 15-49)\n",
      "Prevalence of anemia among pregnant women (%)\n",
      "Prevalence of anemia among women of reproductive age (% of women ages 15-49)\n",
      "Prevalence of overweight, weight for height (% of children under 5)\n",
      "Prevalence of overweight, weight for height, female (% of children under 5)\n",
      "Prevalence of overweight, weight for height, male (% of children under 5)\n",
      "Prevalence of severe wasting, weight for height (% of children under 5)\n",
      "Prevalence of severe wasting, weight for height, female (% of children under 5)\n",
      "Prevalence of severe wasting, weight for height, male (% of children under 5)\n",
      "Prevalence of stunting, height for age (% of children under 5)\n",
      "Prevalence of stunting, height for age, female (% of children under 5)\n",
      "Prevalence of stunting, height for age, male (% of children under 5)\n",
      "Prevalence of undernourishment (% of population)\n",
      "Prevalence of underweight, weight for age (% of children under 5)\n",
      "Prevalence of underweight, weight for age, female (% of children under 5)\n",
      "Prevalence of underweight, weight for age, male (% of children under 5)\n",
      "Prevalence of wasting, weight for height (% of children under 5)\n",
      "Prevalence of wasting, weight for height, female (% of children under 5)\n",
      "Prevalence of wasting, weight for height, male (% of children under 5)\n",
      "Probability of dying at age 5-14 years (per 1,000 children age 5)\n",
      "Proportion of population pushed below the $1.90 ($ 2011 PPP) poverty line by out-of-pocket health care expenditure (%)\n",
      "Proportion of population pushed below the $3.10 ($ 2011 PPP) poverty line by out-of-pocket health care expenditure (%)\n",
      "Proportion of population pushed below the 50% median consumption poverty line by out-of-pocket health care expenditure (%)\n",
      "Proportion of population spending more than 10% of household consumption or income on out-of-pocket health care expenditure (%)\n",
      "Proportion of population spending more than 25% of household consumption or income on out-of-pocket health care expenditure (%)\n",
      "Refugee population by country or territory of asylum\n",
      "Refugee population by country or territory of origin\n",
      "Risk of catastrophic expenditure for surgical care (% of people at risk)\n",
      "Risk of impoverishing expenditure for surgical care (% of people at risk)\n",
      "Sex ratio at birth (male births per female births)\n",
      "Smoking prevalence, females (% of adults)\n",
      "Smoking prevalence, males (% of adults)\n",
      "Specialist surgical workforce (per 100,000 population)\n",
      "Suicide mortality rate (per 100,000 population)\n",
      "Survival to age 65, female (% of cohort)\n",
      "Survival to age 65, male (% of cohort)\n",
      "Teenage mothers (% of women ages 15-19 who have had children or are currently pregnant)\n",
      "Total alcohol consumption per capita (liters of pure alcohol, projected estimates, 15+ years of age)\n",
      "Tuberculosis case detection rate (%, all forms)\n",
      "Tuberculosis treatment success rate (% of new cases)\n",
      "Unmet need for contraception (% of married women ages 15-49)\n",
      "Use of insecticide-treated bed nets (% of under-5 population)\n",
      "Vitamin A supplementation coverage rate (% of children ages 6-59 months)\n",
      "Wanted fertility rate (births per woman)\n",
      "Women who believe a husband is justified in beating his wife (any of five reasons) (%)\n",
      "Women who believe a husband is justified in beating his wife when she argues with him (%)\n",
      "Women who believe a husband is justified in beating his wife when she burns the food (%)\n",
      "Women who believe a husband is justified in beating his wife when she goes out without telling him (%)\n",
      "Women who believe a husband is justified in beating his wife when she neglects the children (%)\n",
      "Women who believe a husband is justified in beating his wife when she refuses sex with him (%)\n",
      "Women who were first married by age 18 (% of women ages 20-24)\n",
      "Women's share of population ages 15+ living with HIV (%)\n"
     ]
    }
   ],
   "source": [
    "for col in health_clean.columns:\n",
    "    print col"
   ]
  },
  {
   "cell_type": "code",
   "execution_count": 91,
   "metadata": {},
   "outputs": [
    {
     "name": "stdout",
     "output_type": "stream",
     "text": [
      "Birth rate, crude (per 1,000 people) 1471\n",
      "Population growth (annual %) 304\n",
      "Population, total 292\n"
     ]
    }
   ],
   "source": [
    "for x, y in health_clean.isnull().sum().iteritems():\n",
    "    if y <1500:\n",
    "        print x,y "
   ]
  },
  {
   "cell_type": "markdown",
   "metadata": {},
   "source": [
    "There's too many missing data to get anything meaningful from this dataset."
   ]
  },
  {
   "cell_type": "markdown",
   "metadata": {},
   "source": [
    "## Training Education <a class=\"anchor\" id=\"education\"></a>"
   ]
  },
  {
   "cell_type": "code",
   "execution_count": 73,
   "metadata": {
    "collapsed": true
   },
   "outputs": [],
   "source": [
    "edu_stack = pd.read_csv('ML_train_edu_stack.csv', index_col=0)"
   ]
  },
  {
   "cell_type": "code",
   "execution_count": 74,
   "metadata": {},
   "outputs": [
    {
     "data": {
      "text/plain": [
       "(15250, 501)"
      ]
     },
     "execution_count": 74,
     "metadata": {},
     "output_type": "execute_result"
    }
   ],
   "source": [
    "edu_stack.shape"
   ]
  },
  {
   "cell_type": "code",
   "execution_count": 75,
   "metadata": {
    "scrolled": true
   },
   "outputs": [
    {
     "data": {
      "text/html": [
       "<div>\n",
       "<style scoped>\n",
       "    .dataframe tbody tr th:only-of-type {\n",
       "        vertical-align: middle;\n",
       "    }\n",
       "\n",
       "    .dataframe tbody tr th {\n",
       "        vertical-align: top;\n",
       "    }\n",
       "\n",
       "    .dataframe thead th {\n",
       "        text-align: right;\n",
       "    }\n",
       "</style>\n",
       "<table border=\"1\" class=\"dataframe\">\n",
       "  <thead>\n",
       "    <tr style=\"text-align: right;\">\n",
       "      <th></th>\n",
       "      <th>2005 PPP conversion factor, GDP (LCU per international $)</th>\n",
       "      <th>2005 PPP conversion factor, private consumption (LCU per international $)</th>\n",
       "      <th>Access to electricity, rural (% of rural population)</th>\n",
       "      <th>Access to electricity, urban (% of urban population)</th>\n",
       "      <th>Adjusted net enrollment rate, primary (% of primary school age children)</th>\n",
       "      <th>Adjusted net enrollment rate, primary, female (% of primary school age children)</th>\n",
       "      <th>Adjusted net enrollment rate, primary, male (% of primary school age children)</th>\n",
       "      <th>Adjusted net national income (annual % growth)</th>\n",
       "      <th>Adjusted net national income (constant 2010 US$)</th>\n",
       "      <th>Adjusted net national income (current US$)</th>\n",
       "      <th>...</th>\n",
       "      <th>Unemployment, total (% of total labor force) (modeled ILO estimate)</th>\n",
       "      <th>Urban land area (sq. km)</th>\n",
       "      <th>Urban land area where elevation is below 5 meters (% of total land area)</th>\n",
       "      <th>Urban land area where elevation is below 5 meters (sq. km)</th>\n",
       "      <th>Urban population</th>\n",
       "      <th>Urban population (% of total)</th>\n",
       "      <th>Urban population growth (annual %)</th>\n",
       "      <th>Urban population living in areas where elevation is below 5 meters (% of total population)</th>\n",
       "      <th>Urban poverty gap at national poverty lines (%)</th>\n",
       "      <th>Urban poverty headcount ratio at national poverty lines (% of urban population)</th>\n",
       "    </tr>\n",
       "  </thead>\n",
       "  <tbody>\n",
       "    <tr>\n",
       "      <th>0</th>\n",
       "      <td>NaN</td>\n",
       "      <td>NaN</td>\n",
       "      <td>NaN</td>\n",
       "      <td>NaN</td>\n",
       "      <td>NaN</td>\n",
       "      <td>NaN</td>\n",
       "      <td>NaN</td>\n",
       "      <td>NaN</td>\n",
       "      <td>NaN</td>\n",
       "      <td>NaN</td>\n",
       "      <td>...</td>\n",
       "      <td>NaN</td>\n",
       "      <td>NaN</td>\n",
       "      <td>NaN</td>\n",
       "      <td>NaN</td>\n",
       "      <td>739590.0</td>\n",
       "      <td>8.221</td>\n",
       "      <td>5.256151</td>\n",
       "      <td>NaN</td>\n",
       "      <td>NaN</td>\n",
       "      <td>NaN</td>\n",
       "    </tr>\n",
       "    <tr>\n",
       "      <th>1</th>\n",
       "      <td>NaN</td>\n",
       "      <td>NaN</td>\n",
       "      <td>NaN</td>\n",
       "      <td>NaN</td>\n",
       "      <td>NaN</td>\n",
       "      <td>NaN</td>\n",
       "      <td>NaN</td>\n",
       "      <td>NaN</td>\n",
       "      <td>NaN</td>\n",
       "      <td>NaN</td>\n",
       "      <td>...</td>\n",
       "      <td>NaN</td>\n",
       "      <td>NaN</td>\n",
       "      <td>NaN</td>\n",
       "      <td>NaN</td>\n",
       "      <td>779908.0</td>\n",
       "      <td>8.508</td>\n",
       "      <td>5.307999</td>\n",
       "      <td>NaN</td>\n",
       "      <td>NaN</td>\n",
       "      <td>NaN</td>\n",
       "    </tr>\n",
       "    <tr>\n",
       "      <th>2</th>\n",
       "      <td>NaN</td>\n",
       "      <td>NaN</td>\n",
       "      <td>NaN</td>\n",
       "      <td>NaN</td>\n",
       "      <td>NaN</td>\n",
       "      <td>NaN</td>\n",
       "      <td>NaN</td>\n",
       "      <td>NaN</td>\n",
       "      <td>NaN</td>\n",
       "      <td>NaN</td>\n",
       "      <td>...</td>\n",
       "      <td>NaN</td>\n",
       "      <td>NaN</td>\n",
       "      <td>NaN</td>\n",
       "      <td>NaN</td>\n",
       "      <td>822904.0</td>\n",
       "      <td>8.805</td>\n",
       "      <td>5.366358</td>\n",
       "      <td>NaN</td>\n",
       "      <td>NaN</td>\n",
       "      <td>NaN</td>\n",
       "    </tr>\n",
       "    <tr>\n",
       "      <th>3</th>\n",
       "      <td>NaN</td>\n",
       "      <td>NaN</td>\n",
       "      <td>NaN</td>\n",
       "      <td>NaN</td>\n",
       "      <td>NaN</td>\n",
       "      <td>NaN</td>\n",
       "      <td>NaN</td>\n",
       "      <td>NaN</td>\n",
       "      <td>NaN</td>\n",
       "      <td>NaN</td>\n",
       "      <td>...</td>\n",
       "      <td>NaN</td>\n",
       "      <td>NaN</td>\n",
       "      <td>NaN</td>\n",
       "      <td>NaN</td>\n",
       "      <td>868543.0</td>\n",
       "      <td>9.110</td>\n",
       "      <td>5.397755</td>\n",
       "      <td>NaN</td>\n",
       "      <td>NaN</td>\n",
       "      <td>NaN</td>\n",
       "    </tr>\n",
       "    <tr>\n",
       "      <th>4</th>\n",
       "      <td>NaN</td>\n",
       "      <td>NaN</td>\n",
       "      <td>NaN</td>\n",
       "      <td>NaN</td>\n",
       "      <td>NaN</td>\n",
       "      <td>NaN</td>\n",
       "      <td>NaN</td>\n",
       "      <td>NaN</td>\n",
       "      <td>NaN</td>\n",
       "      <td>NaN</td>\n",
       "      <td>...</td>\n",
       "      <td>NaN</td>\n",
       "      <td>NaN</td>\n",
       "      <td>NaN</td>\n",
       "      <td>NaN</td>\n",
       "      <td>917278.0</td>\n",
       "      <td>9.426</td>\n",
       "      <td>5.459349</td>\n",
       "      <td>NaN</td>\n",
       "      <td>NaN</td>\n",
       "      <td>NaN</td>\n",
       "    </tr>\n",
       "  </tbody>\n",
       "</table>\n",
       "<p>5 rows × 501 columns</p>\n",
       "</div>"
      ],
      "text/plain": [
       "   2005 PPP conversion factor, GDP (LCU per international $)  \\\n",
       "0                                                NaN           \n",
       "1                                                NaN           \n",
       "2                                                NaN           \n",
       "3                                                NaN           \n",
       "4                                                NaN           \n",
       "\n",
       "   2005 PPP conversion factor, private consumption (LCU per international $)  \\\n",
       "0                                                NaN                           \n",
       "1                                                NaN                           \n",
       "2                                                NaN                           \n",
       "3                                                NaN                           \n",
       "4                                                NaN                           \n",
       "\n",
       "   Access to electricity, rural (% of rural population)  \\\n",
       "0                                                NaN      \n",
       "1                                                NaN      \n",
       "2                                                NaN      \n",
       "3                                                NaN      \n",
       "4                                                NaN      \n",
       "\n",
       "   Access to electricity, urban (% of urban population)  \\\n",
       "0                                                NaN      \n",
       "1                                                NaN      \n",
       "2                                                NaN      \n",
       "3                                                NaN      \n",
       "4                                                NaN      \n",
       "\n",
       "   Adjusted net enrollment rate, primary (% of primary school age children)  \\\n",
       "0                                                NaN                          \n",
       "1                                                NaN                          \n",
       "2                                                NaN                          \n",
       "3                                                NaN                          \n",
       "4                                                NaN                          \n",
       "\n",
       "   Adjusted net enrollment rate, primary, female (% of primary school age children)  \\\n",
       "0                                                NaN                                  \n",
       "1                                                NaN                                  \n",
       "2                                                NaN                                  \n",
       "3                                                NaN                                  \n",
       "4                                                NaN                                  \n",
       "\n",
       "   Adjusted net enrollment rate, primary, male (% of primary school age children)  \\\n",
       "0                                                NaN                                \n",
       "1                                                NaN                                \n",
       "2                                                NaN                                \n",
       "3                                                NaN                                \n",
       "4                                                NaN                                \n",
       "\n",
       "   Adjusted net national income (annual % growth)  \\\n",
       "0                                             NaN   \n",
       "1                                             NaN   \n",
       "2                                             NaN   \n",
       "3                                             NaN   \n",
       "4                                             NaN   \n",
       "\n",
       "   Adjusted net national income (constant 2010 US$)  \\\n",
       "0                                               NaN   \n",
       "1                                               NaN   \n",
       "2                                               NaN   \n",
       "3                                               NaN   \n",
       "4                                               NaN   \n",
       "\n",
       "   Adjusted net national income (current US$)  \\\n",
       "0                                         NaN   \n",
       "1                                         NaN   \n",
       "2                                         NaN   \n",
       "3                                         NaN   \n",
       "4                                         NaN   \n",
       "\n",
       "                                        ...                                         \\\n",
       "0                                       ...                                          \n",
       "1                                       ...                                          \n",
       "2                                       ...                                          \n",
       "3                                       ...                                          \n",
       "4                                       ...                                          \n",
       "\n",
       "   Unemployment, total (% of total labor force) (modeled ILO estimate)  \\\n",
       "0                                                NaN                     \n",
       "1                                                NaN                     \n",
       "2                                                NaN                     \n",
       "3                                                NaN                     \n",
       "4                                                NaN                     \n",
       "\n",
       "   Urban land area (sq. km)  \\\n",
       "0                       NaN   \n",
       "1                       NaN   \n",
       "2                       NaN   \n",
       "3                       NaN   \n",
       "4                       NaN   \n",
       "\n",
       "   Urban land area where elevation is below 5 meters (% of total land area)  \\\n",
       "0                                                NaN                          \n",
       "1                                                NaN                          \n",
       "2                                                NaN                          \n",
       "3                                                NaN                          \n",
       "4                                                NaN                          \n",
       "\n",
       "   Urban land area where elevation is below 5 meters (sq. km)  \\\n",
       "0                                                NaN            \n",
       "1                                                NaN            \n",
       "2                                                NaN            \n",
       "3                                                NaN            \n",
       "4                                                NaN            \n",
       "\n",
       "   Urban population  Urban population (% of total)  \\\n",
       "0          739590.0                          8.221   \n",
       "1          779908.0                          8.508   \n",
       "2          822904.0                          8.805   \n",
       "3          868543.0                          9.110   \n",
       "4          917278.0                          9.426   \n",
       "\n",
       "   Urban population growth (annual %)  \\\n",
       "0                            5.256151   \n",
       "1                            5.307999   \n",
       "2                            5.366358   \n",
       "3                            5.397755   \n",
       "4                            5.459349   \n",
       "\n",
       "   Urban population living in areas where elevation is below 5 meters (% of total population)  \\\n",
       "0                                                NaN                                            \n",
       "1                                                NaN                                            \n",
       "2                                                NaN                                            \n",
       "3                                                NaN                                            \n",
       "4                                                NaN                                            \n",
       "\n",
       "   Urban poverty gap at national poverty lines (%)  \\\n",
       "0                                              NaN   \n",
       "1                                              NaN   \n",
       "2                                              NaN   \n",
       "3                                              NaN   \n",
       "4                                              NaN   \n",
       "\n",
       "   Urban poverty headcount ratio at national poverty lines (% of urban population)  \n",
       "0                                                NaN                                \n",
       "1                                                NaN                                \n",
       "2                                                NaN                                \n",
       "3                                                NaN                                \n",
       "4                                                NaN                                \n",
       "\n",
       "[5 rows x 501 columns]"
      ]
     },
     "execution_count": 75,
     "metadata": {},
     "output_type": "execute_result"
    }
   ],
   "source": [
    "edu_stack.head()"
   ]
  },
  {
   "cell_type": "code",
   "execution_count": 92,
   "metadata": {},
   "outputs": [
    {
     "data": {
      "text/plain": [
       "(14638, 112)"
      ]
     },
     "execution_count": 92,
     "metadata": {},
     "output_type": "execute_result"
    }
   ],
   "source": [
    "edu_clean = pd.read_csv('ML_edu_stack.csv', index_col=0)\n",
    "edu_clean.shape"
   ]
  },
  {
   "cell_type": "code",
   "execution_count": 101,
   "metadata": {
    "scrolled": true
   },
   "outputs": [
    {
     "name": "stdout",
     "output_type": "stream",
     "text": [
      "Population ages 0-14 (% of total) 1023\n",
      "Population ages 15-64 (% of total) 1023\n",
      "Preprimary education, duration (years) 2951\n"
     ]
    }
   ],
   "source": [
    "for x, y in edu_clean.isnull().sum().iteritems():\n",
    "    if y <edu_clean.shape[0]/3.0:\n",
    "        print x,y "
   ]
  },
  {
   "cell_type": "markdown",
   "metadata": {},
   "source": [
    "## Training Development <a class=\"anchor\" id=\"development\"></a>"
   ]
  },
  {
   "cell_type": "code",
   "execution_count": 102,
   "metadata": {},
   "outputs": [
    {
     "data": {
      "text/plain": [
       "(15250, 132)"
      ]
     },
     "execution_count": 102,
     "metadata": {},
     "output_type": "execute_result"
    }
   ],
   "source": [
    "dev_clean = pd.read_csv('ML_dev_stack.csv', index_col=0)\n",
    "dev_clean.shape"
   ]
  },
  {
   "cell_type": "code",
   "execution_count": 103,
   "metadata": {
    "scrolled": true
   },
   "outputs": [
    {
     "name": "stdout",
     "output_type": "stream",
     "text": [
      "Agricultural land (% of land area) 2362\n",
      "Agricultural land (sq. km) 2192\n",
      "Agricultural methane emissions (thousand metric tons of CO2 equivalent) 4730\n",
      "Agricultural nitrous oxide emissions (thousand metric tons of CO2 equivalent) 4730\n",
      "Arable land (% of land area) 2496\n",
      "Arable land (hectares per person) 2522\n",
      "Arable land (hectares) 4861\n",
      "Cereal production (metric tons) 3987\n",
      "Cereal yield (kg per hectare) 4062\n",
      "Crop production index (2004-2006 = 100) 3078\n",
      "Fixed telephone subscriptions 4607\n",
      "Fixed telephone subscriptions (per 100 people) 4606\n",
      "Food production index (2004-2006 = 100) 2968\n",
      "Land area (sq. km) 546\n",
      "Land under cereal production (hectares) 3987\n",
      "Livestock production index (2004-2006 = 100) 3001\n",
      "Mobile cellular subscriptions 4140\n",
      "Mobile cellular subscriptions (per 100 people) 4140\n",
      "Permanent cropland (% of land area) 3061\n",
      "Population density (people per sq. km of land area) 911\n",
      "Population in the largest city (% of urban population) 4317\n",
      "Rural population 479\n",
      "Rural population (% of total population) 438\n",
      "Rural population growth (annual %) 933\n",
      "Surface area (sq. km) 539\n",
      "Urban population 479\n",
      "Urban population (% of total) 438\n",
      "Urban population growth (annual %) 529\n"
     ]
    }
   ],
   "source": [
    "for x, y in dev_clean.isnull().sum().iteritems():\n",
    "    if y <dev_clean.shape[0]/3.0:\n",
    "        print x,y "
   ]
  },
  {
   "cell_type": "code",
   "execution_count": 130,
   "metadata": {},
   "outputs": [
    {
     "data": {
      "text/plain": [
       "(15250, 389)"
      ]
     },
     "execution_count": 130,
     "metadata": {},
     "output_type": "execute_result"
    }
   ],
   "source": [
    "dev_stack = pd.read_csv('ML_train_dev_stack.csv', index_col=0)\n",
    "dev_stack.shape"
   ]
  },
  {
   "cell_type": "code",
   "execution_count": 105,
   "metadata": {},
   "outputs": [
    {
     "data": {
      "text/html": [
       "<div>\n",
       "<style scoped>\n",
       "    .dataframe tbody tr th:only-of-type {\n",
       "        vertical-align: middle;\n",
       "    }\n",
       "\n",
       "    .dataframe tbody tr th {\n",
       "        vertical-align: top;\n",
       "    }\n",
       "\n",
       "    .dataframe thead th {\n",
       "        text-align: right;\n",
       "    }\n",
       "</style>\n",
       "<table border=\"1\" class=\"dataframe\">\n",
       "  <thead>\n",
       "    <tr style=\"text-align: right;\">\n",
       "      <th></th>\n",
       "      <th>2005 PPP conversion factor, GDP (LCU per international $)</th>\n",
       "      <th>2005 PPP conversion factor, private consumption (LCU per international $)</th>\n",
       "      <th>Access to electricity, rural (% of rural population)</th>\n",
       "      <th>Access to electricity, urban (% of urban population)</th>\n",
       "      <th>Adjusted net national income (annual % growth)</th>\n",
       "      <th>Adjusted net national income (constant 2010 US$)</th>\n",
       "      <th>Adjusted net national income (current US$)</th>\n",
       "      <th>Adjusted net national income per capita (annual % growth)</th>\n",
       "      <th>Adjusted net national income per capita (constant 2010 US$)</th>\n",
       "      <th>Adjusted net national income per capita (current US$)</th>\n",
       "      <th>...</th>\n",
       "      <th>Travel services (% of service imports, BoP)</th>\n",
       "      <th>Urban land area (sq. km)</th>\n",
       "      <th>Urban land area where elevation is below 5 meters (% of total land area)</th>\n",
       "      <th>Urban land area where elevation is below 5 meters (sq. km)</th>\n",
       "      <th>Urban population</th>\n",
       "      <th>Urban population (% of total)</th>\n",
       "      <th>Urban population growth (annual %)</th>\n",
       "      <th>Urban population living in areas where elevation is below 5 meters (% of total population)</th>\n",
       "      <th>Urban poverty gap at national poverty lines (%)</th>\n",
       "      <th>Urban poverty headcount ratio at national poverty lines (% of urban population)</th>\n",
       "    </tr>\n",
       "  </thead>\n",
       "  <tbody>\n",
       "    <tr>\n",
       "      <th>0</th>\n",
       "      <td>NaN</td>\n",
       "      <td>NaN</td>\n",
       "      <td>NaN</td>\n",
       "      <td>NaN</td>\n",
       "      <td>NaN</td>\n",
       "      <td>NaN</td>\n",
       "      <td>NaN</td>\n",
       "      <td>NaN</td>\n",
       "      <td>NaN</td>\n",
       "      <td>NaN</td>\n",
       "      <td>...</td>\n",
       "      <td>NaN</td>\n",
       "      <td>NaN</td>\n",
       "      <td>NaN</td>\n",
       "      <td>NaN</td>\n",
       "      <td>739590.0</td>\n",
       "      <td>8.221</td>\n",
       "      <td>5.256151</td>\n",
       "      <td>NaN</td>\n",
       "      <td>NaN</td>\n",
       "      <td>NaN</td>\n",
       "    </tr>\n",
       "    <tr>\n",
       "      <th>1</th>\n",
       "      <td>NaN</td>\n",
       "      <td>NaN</td>\n",
       "      <td>NaN</td>\n",
       "      <td>NaN</td>\n",
       "      <td>NaN</td>\n",
       "      <td>NaN</td>\n",
       "      <td>NaN</td>\n",
       "      <td>NaN</td>\n",
       "      <td>NaN</td>\n",
       "      <td>NaN</td>\n",
       "      <td>...</td>\n",
       "      <td>NaN</td>\n",
       "      <td>NaN</td>\n",
       "      <td>NaN</td>\n",
       "      <td>NaN</td>\n",
       "      <td>779908.0</td>\n",
       "      <td>8.508</td>\n",
       "      <td>5.307999</td>\n",
       "      <td>NaN</td>\n",
       "      <td>NaN</td>\n",
       "      <td>NaN</td>\n",
       "    </tr>\n",
       "    <tr>\n",
       "      <th>2</th>\n",
       "      <td>NaN</td>\n",
       "      <td>NaN</td>\n",
       "      <td>NaN</td>\n",
       "      <td>NaN</td>\n",
       "      <td>NaN</td>\n",
       "      <td>NaN</td>\n",
       "      <td>NaN</td>\n",
       "      <td>NaN</td>\n",
       "      <td>NaN</td>\n",
       "      <td>NaN</td>\n",
       "      <td>...</td>\n",
       "      <td>NaN</td>\n",
       "      <td>NaN</td>\n",
       "      <td>NaN</td>\n",
       "      <td>NaN</td>\n",
       "      <td>822904.0</td>\n",
       "      <td>8.805</td>\n",
       "      <td>5.366358</td>\n",
       "      <td>NaN</td>\n",
       "      <td>NaN</td>\n",
       "      <td>NaN</td>\n",
       "    </tr>\n",
       "    <tr>\n",
       "      <th>3</th>\n",
       "      <td>NaN</td>\n",
       "      <td>NaN</td>\n",
       "      <td>NaN</td>\n",
       "      <td>NaN</td>\n",
       "      <td>NaN</td>\n",
       "      <td>NaN</td>\n",
       "      <td>NaN</td>\n",
       "      <td>NaN</td>\n",
       "      <td>NaN</td>\n",
       "      <td>NaN</td>\n",
       "      <td>...</td>\n",
       "      <td>NaN</td>\n",
       "      <td>NaN</td>\n",
       "      <td>NaN</td>\n",
       "      <td>NaN</td>\n",
       "      <td>868543.0</td>\n",
       "      <td>9.110</td>\n",
       "      <td>5.397755</td>\n",
       "      <td>NaN</td>\n",
       "      <td>NaN</td>\n",
       "      <td>NaN</td>\n",
       "    </tr>\n",
       "    <tr>\n",
       "      <th>4</th>\n",
       "      <td>NaN</td>\n",
       "      <td>NaN</td>\n",
       "      <td>NaN</td>\n",
       "      <td>NaN</td>\n",
       "      <td>NaN</td>\n",
       "      <td>NaN</td>\n",
       "      <td>NaN</td>\n",
       "      <td>NaN</td>\n",
       "      <td>NaN</td>\n",
       "      <td>NaN</td>\n",
       "      <td>...</td>\n",
       "      <td>NaN</td>\n",
       "      <td>NaN</td>\n",
       "      <td>NaN</td>\n",
       "      <td>NaN</td>\n",
       "      <td>917278.0</td>\n",
       "      <td>9.426</td>\n",
       "      <td>5.459349</td>\n",
       "      <td>NaN</td>\n",
       "      <td>NaN</td>\n",
       "      <td>NaN</td>\n",
       "    </tr>\n",
       "  </tbody>\n",
       "</table>\n",
       "<p>5 rows × 389 columns</p>\n",
       "</div>"
      ],
      "text/plain": [
       "   2005 PPP conversion factor, GDP (LCU per international $)  \\\n",
       "0                                                NaN           \n",
       "1                                                NaN           \n",
       "2                                                NaN           \n",
       "3                                                NaN           \n",
       "4                                                NaN           \n",
       "\n",
       "   2005 PPP conversion factor, private consumption (LCU per international $)  \\\n",
       "0                                                NaN                           \n",
       "1                                                NaN                           \n",
       "2                                                NaN                           \n",
       "3                                                NaN                           \n",
       "4                                                NaN                           \n",
       "\n",
       "   Access to electricity, rural (% of rural population)  \\\n",
       "0                                                NaN      \n",
       "1                                                NaN      \n",
       "2                                                NaN      \n",
       "3                                                NaN      \n",
       "4                                                NaN      \n",
       "\n",
       "   Access to electricity, urban (% of urban population)  \\\n",
       "0                                                NaN      \n",
       "1                                                NaN      \n",
       "2                                                NaN      \n",
       "3                                                NaN      \n",
       "4                                                NaN      \n",
       "\n",
       "   Adjusted net national income (annual % growth)  \\\n",
       "0                                             NaN   \n",
       "1                                             NaN   \n",
       "2                                             NaN   \n",
       "3                                             NaN   \n",
       "4                                             NaN   \n",
       "\n",
       "   Adjusted net national income (constant 2010 US$)  \\\n",
       "0                                               NaN   \n",
       "1                                               NaN   \n",
       "2                                               NaN   \n",
       "3                                               NaN   \n",
       "4                                               NaN   \n",
       "\n",
       "   Adjusted net national income (current US$)  \\\n",
       "0                                         NaN   \n",
       "1                                         NaN   \n",
       "2                                         NaN   \n",
       "3                                         NaN   \n",
       "4                                         NaN   \n",
       "\n",
       "   Adjusted net national income per capita (annual % growth)  \\\n",
       "0                                                NaN           \n",
       "1                                                NaN           \n",
       "2                                                NaN           \n",
       "3                                                NaN           \n",
       "4                                                NaN           \n",
       "\n",
       "   Adjusted net national income per capita (constant 2010 US$)  \\\n",
       "0                                                NaN             \n",
       "1                                                NaN             \n",
       "2                                                NaN             \n",
       "3                                                NaN             \n",
       "4                                                NaN             \n",
       "\n",
       "   Adjusted net national income per capita (current US$)  \\\n",
       "0                                                NaN       \n",
       "1                                                NaN       \n",
       "2                                                NaN       \n",
       "3                                                NaN       \n",
       "4                                                NaN       \n",
       "\n",
       "                                        ...                                         \\\n",
       "0                                       ...                                          \n",
       "1                                       ...                                          \n",
       "2                                       ...                                          \n",
       "3                                       ...                                          \n",
       "4                                       ...                                          \n",
       "\n",
       "   Travel services (% of service imports, BoP)  Urban land area (sq. km)  \\\n",
       "0                                          NaN                       NaN   \n",
       "1                                          NaN                       NaN   \n",
       "2                                          NaN                       NaN   \n",
       "3                                          NaN                       NaN   \n",
       "4                                          NaN                       NaN   \n",
       "\n",
       "   Urban land area where elevation is below 5 meters (% of total land area)  \\\n",
       "0                                                NaN                          \n",
       "1                                                NaN                          \n",
       "2                                                NaN                          \n",
       "3                                                NaN                          \n",
       "4                                                NaN                          \n",
       "\n",
       "   Urban land area where elevation is below 5 meters (sq. km)  \\\n",
       "0                                                NaN            \n",
       "1                                                NaN            \n",
       "2                                                NaN            \n",
       "3                                                NaN            \n",
       "4                                                NaN            \n",
       "\n",
       "   Urban population  Urban population (% of total)  \\\n",
       "0          739590.0                          8.221   \n",
       "1          779908.0                          8.508   \n",
       "2          822904.0                          8.805   \n",
       "3          868543.0                          9.110   \n",
       "4          917278.0                          9.426   \n",
       "\n",
       "   Urban population growth (annual %)  \\\n",
       "0                            5.256151   \n",
       "1                            5.307999   \n",
       "2                            5.366358   \n",
       "3                            5.397755   \n",
       "4                            5.459349   \n",
       "\n",
       "   Urban population living in areas where elevation is below 5 meters (% of total population)  \\\n",
       "0                                                NaN                                            \n",
       "1                                                NaN                                            \n",
       "2                                                NaN                                            \n",
       "3                                                NaN                                            \n",
       "4                                                NaN                                            \n",
       "\n",
       "   Urban poverty gap at national poverty lines (%)  \\\n",
       "0                                              NaN   \n",
       "1                                              NaN   \n",
       "2                                              NaN   \n",
       "3                                              NaN   \n",
       "4                                              NaN   \n",
       "\n",
       "   Urban poverty headcount ratio at national poverty lines (% of urban population)  \n",
       "0                                                NaN                                \n",
       "1                                                NaN                                \n",
       "2                                                NaN                                \n",
       "3                                                NaN                                \n",
       "4                                                NaN                                \n",
       "\n",
       "[5 rows x 389 columns]"
      ]
     },
     "execution_count": 105,
     "metadata": {},
     "output_type": "execute_result"
    }
   ],
   "source": [
    "dev_stack.head()"
   ]
  },
  {
   "cell_type": "code",
   "execution_count": 131,
   "metadata": {
    "collapsed": true
   },
   "outputs": [],
   "source": [
    "dev_stack.drop(columns=['2005 PPP conversion factor, GDP (LCU per international $)',\n",
    "                         '2005 PPP conversion factor, private consumption (LCU per international $)'], inplace=True)"
   ]
  },
  {
   "cell_type": "code",
   "execution_count": 132,
   "metadata": {
    "collapsed": true
   },
   "outputs": [],
   "source": [
    "dev_stack = dev_stack[dev_stack['Arable land (% of land area)'].notnull()]"
   ]
  },
  {
   "cell_type": "code",
   "execution_count": 133,
   "metadata": {},
   "outputs": [
    {
     "data": {
      "text/plain": [
       "(12754, 387)"
      ]
     },
     "execution_count": 133,
     "metadata": {},
     "output_type": "execute_result"
    }
   ],
   "source": [
    "dev_stack.shape"
   ]
  },
  {
   "cell_type": "code",
   "execution_count": 110,
   "metadata": {},
   "outputs": [
    {
     "data": {
      "text/plain": [
       "<matplotlib.axes._subplots.AxesSubplot at 0x7f9902d0ddd0>"
      ]
     },
     "execution_count": 110,
     "metadata": {},
     "output_type": "execute_result"
    },
    {
     "data": {
      "image/png": "[encoded data removed]",
      "text/plain": [
       "<matplotlib.figure.Figure at 0x7f9917c2e190>"
      ]
     },
     "metadata": {},
     "output_type": "display_data"
    }
   ],
   "source": [
    "sns.violinplot(x=dev_stack['Arable land (% of land area)'])"
   ]
  },
  {
   "cell_type": "code",
   "execution_count": 134,
   "metadata": {
    "collapsed": true
   },
   "outputs": [],
   "source": [
    "dev_stack = dev_stack[(dev_stack['Arable land (% of land area)']<70)]"
   ]
  },
  {
   "cell_type": "code",
   "execution_count": 135,
   "metadata": {
    "collapsed": true
   },
   "outputs": [],
   "source": [
    "to_keep = []\n",
    "for x, y in dev_stack.isnull().sum().iteritems():\n",
    "    if y < 5555:\n",
    "        to_keep.append(x)"
   ]
  },
  {
   "cell_type": "code",
   "execution_count": 136,
   "metadata": {
    "collapsed": true
   },
   "outputs": [],
   "source": [
    "dev_stack = dev_stack[to_keep]\n",
    "dev_stack.fillna(dev_stack.mean(), inplace = True)"
   ]
  },
  {
   "cell_type": "code",
   "execution_count": 137,
   "metadata": {
    "collapsed": true
   },
   "outputs": [],
   "source": [
    "dev_corr = dev_stack.corr()"
   ]
  },
  {
   "cell_type": "code",
   "execution_count": 138,
   "metadata": {},
   "outputs": [
    {
     "name": "stdout",
     "output_type": "stream",
     "text": [
      "0.556529591124 Agricultural land (% of land area)\n",
      "1.0 Arable land (% of land area)\n"
     ]
    }
   ],
   "source": [
    "for x, y in zip(dev_corr['Arable land (% of land area)'], dev_stack.columns):\n",
    "    if x>0.5:\n",
    "        print x, y"
   ]
  },
  {
   "cell_type": "code",
   "execution_count": 232,
   "metadata": {
    "collapsed": true
   },
   "outputs": [],
   "source": [
    "goal = dev_stack['Arable land (% of land area)']\n",
    "features = dev_stack.drop(columns=['Arable land (% of land area)'])"
   ]
  },
  {
   "cell_type": "code",
   "execution_count": 206,
   "metadata": {
    "collapsed": true
   },
   "outputs": [],
   "source": [
    "X_train, X_test, y_train, y_test = train_test_split(features, goal, test_size=0.3, random_state=42)"
   ]
  },
  {
   "cell_type": "code",
   "execution_count": 193,
   "metadata": {
    "collapsed": true
   },
   "outputs": [],
   "source": [
    "rfr = ensemble.RandomForestRegressor()\n",
    "rfr_hyperparameters = { \n",
    "    'n_estimators' : [10,25,50,100],\n",
    "    'max_features': ['auto', 'sqrt', 0.33],\n",
    "    'min_samples_leaf': [10,25,50],\n",
    "     'min_samples_split': [10,25,50]\n",
    "}"
   ]
  },
  {
   "cell_type": "code",
   "execution_count": 194,
   "metadata": {},
   "outputs": [
    {
     "name": "stdout",
     "output_type": "stream",
     "text": [
      "{'max_features': 'auto', 'min_samples_split': 10, 'n_estimators': 50, 'min_samples_leaf': 10}\n"
     ]
    }
   ],
   "source": [
    "dev_gs = GridSearchCV(rfr, rfr_hyperparameters, cv=5, n_jobs=-1)\n",
    "dev_gs.fit(X_train, y_train)\n",
    "print dev_gs.best_params_ "
   ]
  },
  {
   "cell_type": "code",
   "execution_count": 195,
   "metadata": {
    "scrolled": true
   },
   "outputs": [
    {
     "data": {
      "text/plain": [
       "0.99208459884619049"
      ]
     },
     "execution_count": 195,
     "metadata": {},
     "output_type": "execute_result"
    }
   ],
   "source": [
    "dev_gs.score(X_test, y_test)"
   ]
  },
  {
   "cell_type": "code",
   "execution_count": 204,
   "metadata": {
    "collapsed": true
   },
   "outputs": [],
   "source": [
    "dev_rfr = ensemble.RandomForestRegressor(max_features='auto', min_samples_split= 10, n_estimators= 50, min_samples_leaf= 10)"
   ]
  },
  {
   "cell_type": "code",
   "execution_count": 207,
   "metadata": {},
   "outputs": [
    {
     "data": {
      "text/plain": [
       "RandomForestRegressor(bootstrap=True, criterion='mse', max_depth=None,\n",
       "           max_features='auto', max_leaf_nodes=None,\n",
       "           min_impurity_decrease=0.0, min_impurity_split=None,\n",
       "           min_samples_leaf=10, min_samples_split=10,\n",
       "           min_weight_fraction_leaf=0.0, n_estimators=50, n_jobs=1,\n",
       "           oob_score=False, random_state=None, verbose=0, warm_start=False)"
      ]
     },
     "execution_count": 207,
     "metadata": {},
     "output_type": "execute_result"
    }
   ],
   "source": [
    "dev_rfr.fit(features, goal)"
   ]
  },
  {
   "cell_type": "code",
   "execution_count": 208,
   "metadata": {
    "scrolled": true
   },
   "outputs": [
    {
     "data": {
      "text/plain": [
       "0.99646533132621229"
      ]
     },
     "execution_count": 208,
     "metadata": {},
     "output_type": "execute_result"
    }
   ],
   "source": [
    "dev_rfr.score(features, goal)"
   ]
  },
  {
   "cell_type": "code",
   "execution_count": 210,
   "metadata": {
    "collapsed": true
   },
   "outputs": [],
   "source": [
    "dill.dump(dev_rfr, open('dev.dill', 'w'))"
   ]
  },
  {
   "cell_type": "code",
   "execution_count": 233,
   "metadata": {
    "collapsed": true
   },
   "outputs": [],
   "source": [
    "devtop10features = sorted(zip(dev_rfr.feature_importances_,features.columns))[-10:]\n",
    "devtop10features = [y for x,y in devtop10features]"
   ]
  },
  {
   "cell_type": "code",
   "execution_count": 243,
   "metadata": {},
   "outputs": [
    {
     "data": {
      "text/plain": [
       "['Population in the largest city (% of urban population)',\n",
       " 'Electricity production from hydroelectric sources (% of total)',\n",
       " 'Population in urban agglomerations of more than 1 million (% of total population)',\n",
       " 'Land under cereal production (hectares)',\n",
       " 'Rural population',\n",
       " 'GDP per capita (constant 2010 US$)',\n",
       " 'Arable land (hectares)',\n",
       " 'Arable land (hectares per person)',\n",
       " 'Agricultural land (% of land area)',\n",
       " 'Population density (people per sq. km of land area)']"
      ]
     },
     "execution_count": 243,
     "metadata": {},
     "output_type": "execute_result"
    }
   ],
   "source": [
    "devtop10features"
   ]
  },
  {
   "cell_type": "code",
   "execution_count": 235,
   "metadata": {
    "collapsed": true
   },
   "outputs": [],
   "source": [
    "goal = dev_stack['Arable land (% of land area)']\n",
    "features = dev_stack[devtop10features]"
   ]
  },
  {
   "cell_type": "code",
   "execution_count": 236,
   "metadata": {},
   "outputs": [
    {
     "data": {
      "text/plain": [
       "0.99557792273714674"
      ]
     },
     "execution_count": 236,
     "metadata": {},
     "output_type": "execute_result"
    }
   ],
   "source": [
    "dev_rfr = ensemble.RandomForestRegressor(max_features='auto', min_samples_split= 10, n_estimators= 50, min_samples_leaf= 10)\n",
    "dev_rfr.fit(features, goal)\n",
    "dev_rfr.score(features, goal)"
   ]
  },
  {
   "cell_type": "code",
   "execution_count": 237,
   "metadata": {
    "collapsed": true
   },
   "outputs": [],
   "source": [
    "dill.dump(dev_rfr, open('dev2.dill', 'w'))"
   ]
  },
  {
   "cell_type": "markdown",
   "metadata": {},
   "source": [
    "## Training Finance <a class=\"anchor\" id=\"finance\"></a>"
   ]
  },
  {
   "cell_type": "code",
   "execution_count": 145,
   "metadata": {},
   "outputs": [
    {
     "data": {
      "text/plain": [
       "(14396, 65)"
      ]
     },
     "execution_count": 145,
     "metadata": {},
     "output_type": "execute_result"
    }
   ],
   "source": [
    "fin_clean = pd.read_csv('ML_fin_stack.csv', index_col=0)\n",
    "fin_clean.shape"
   ]
  },
  {
   "cell_type": "code",
   "execution_count": 146,
   "metadata": {},
   "outputs": [
    {
     "name": "stdout",
     "output_type": "stream",
     "text": [
      "DEC alternative conversion factor (LCU per US$) 4229\n",
      "Foreign direct investment, net inflows (BoP, current US$) 4705\n",
      "Official exchange rate (LCU per US$, period average) 4545\n"
     ]
    }
   ],
   "source": [
    "for x, y in fin_clean.isnull().sum().iteritems():\n",
    "    if y <fin_clean.shape[0]/3.0:\n",
    "        print x,y "
   ]
  },
  {
   "cell_type": "code",
   "execution_count": 147,
   "metadata": {},
   "outputs": [
    {
     "data": {
      "text/plain": [
       "(15250, 439)"
      ]
     },
     "execution_count": 147,
     "metadata": {},
     "output_type": "execute_result"
    }
   ],
   "source": [
    "fin_stack = pd.read_csv('ML_train_fin_stack.csv', index_col=0)\n",
    "fin_stack.shape"
   ]
  },
  {
   "cell_type": "code",
   "execution_count": 152,
   "metadata": {},
   "outputs": [
    {
     "data": {
      "text/html": [
       "<div>\n",
       "<style scoped>\n",
       "    .dataframe tbody tr th:only-of-type {\n",
       "        vertical-align: middle;\n",
       "    }\n",
       "\n",
       "    .dataframe tbody tr th {\n",
       "        vertical-align: top;\n",
       "    }\n",
       "\n",
       "    .dataframe thead th {\n",
       "        text-align: right;\n",
       "    }\n",
       "</style>\n",
       "<table border=\"1\" class=\"dataframe\">\n",
       "  <thead>\n",
       "    <tr style=\"text-align: right;\">\n",
       "      <th></th>\n",
       "      <th>2005 PPP conversion factor, GDP (LCU per international $)</th>\n",
       "      <th>2005 PPP conversion factor, private consumption (LCU per international $)</th>\n",
       "      <th>Access to electricity, rural (% of rural population)</th>\n",
       "      <th>Access to electricity, urban (% of urban population)</th>\n",
       "      <th>Adjusted net national income (annual % growth)</th>\n",
       "      <th>Adjusted net national income (constant 2010 US$)</th>\n",
       "      <th>Adjusted net national income (current US$)</th>\n",
       "      <th>Adjusted net national income per capita (annual % growth)</th>\n",
       "      <th>Adjusted net national income per capita (constant 2010 US$)</th>\n",
       "      <th>Adjusted net national income per capita (current US$)</th>\n",
       "      <th>...</th>\n",
       "      <th>Urban land area (sq. km)</th>\n",
       "      <th>Urban land area where elevation is below 5 meters (% of total land area)</th>\n",
       "      <th>Urban land area where elevation is below 5 meters (sq. km)</th>\n",
       "      <th>Urban population</th>\n",
       "      <th>Urban population (% of total)</th>\n",
       "      <th>Urban population growth (annual %)</th>\n",
       "      <th>Urban population living in areas where elevation is below 5 meters (% of total population)</th>\n",
       "      <th>Urban poverty gap at national poverty lines (%)</th>\n",
       "      <th>Urban poverty headcount ratio at national poverty lines (% of urban population)</th>\n",
       "      <th>Wholesale price index (2010 = 100)</th>\n",
       "    </tr>\n",
       "  </thead>\n",
       "  <tbody>\n",
       "    <tr>\n",
       "      <th>0</th>\n",
       "      <td>NaN</td>\n",
       "      <td>NaN</td>\n",
       "      <td>NaN</td>\n",
       "      <td>NaN</td>\n",
       "      <td>NaN</td>\n",
       "      <td>NaN</td>\n",
       "      <td>NaN</td>\n",
       "      <td>NaN</td>\n",
       "      <td>NaN</td>\n",
       "      <td>NaN</td>\n",
       "      <td>...</td>\n",
       "      <td>NaN</td>\n",
       "      <td>NaN</td>\n",
       "      <td>NaN</td>\n",
       "      <td>739590.0</td>\n",
       "      <td>8.221</td>\n",
       "      <td>5.256151</td>\n",
       "      <td>NaN</td>\n",
       "      <td>NaN</td>\n",
       "      <td>NaN</td>\n",
       "      <td>NaN</td>\n",
       "    </tr>\n",
       "    <tr>\n",
       "      <th>1</th>\n",
       "      <td>NaN</td>\n",
       "      <td>NaN</td>\n",
       "      <td>NaN</td>\n",
       "      <td>NaN</td>\n",
       "      <td>NaN</td>\n",
       "      <td>NaN</td>\n",
       "      <td>NaN</td>\n",
       "      <td>NaN</td>\n",
       "      <td>NaN</td>\n",
       "      <td>NaN</td>\n",
       "      <td>...</td>\n",
       "      <td>NaN</td>\n",
       "      <td>NaN</td>\n",
       "      <td>NaN</td>\n",
       "      <td>779908.0</td>\n",
       "      <td>8.508</td>\n",
       "      <td>5.307999</td>\n",
       "      <td>NaN</td>\n",
       "      <td>NaN</td>\n",
       "      <td>NaN</td>\n",
       "      <td>NaN</td>\n",
       "    </tr>\n",
       "    <tr>\n",
       "      <th>2</th>\n",
       "      <td>NaN</td>\n",
       "      <td>NaN</td>\n",
       "      <td>NaN</td>\n",
       "      <td>NaN</td>\n",
       "      <td>NaN</td>\n",
       "      <td>NaN</td>\n",
       "      <td>NaN</td>\n",
       "      <td>NaN</td>\n",
       "      <td>NaN</td>\n",
       "      <td>NaN</td>\n",
       "      <td>...</td>\n",
       "      <td>NaN</td>\n",
       "      <td>NaN</td>\n",
       "      <td>NaN</td>\n",
       "      <td>822904.0</td>\n",
       "      <td>8.805</td>\n",
       "      <td>5.366358</td>\n",
       "      <td>NaN</td>\n",
       "      <td>NaN</td>\n",
       "      <td>NaN</td>\n",
       "      <td>NaN</td>\n",
       "    </tr>\n",
       "    <tr>\n",
       "      <th>3</th>\n",
       "      <td>NaN</td>\n",
       "      <td>NaN</td>\n",
       "      <td>NaN</td>\n",
       "      <td>NaN</td>\n",
       "      <td>NaN</td>\n",
       "      <td>NaN</td>\n",
       "      <td>NaN</td>\n",
       "      <td>NaN</td>\n",
       "      <td>NaN</td>\n",
       "      <td>NaN</td>\n",
       "      <td>...</td>\n",
       "      <td>NaN</td>\n",
       "      <td>NaN</td>\n",
       "      <td>NaN</td>\n",
       "      <td>868543.0</td>\n",
       "      <td>9.110</td>\n",
       "      <td>5.397755</td>\n",
       "      <td>NaN</td>\n",
       "      <td>NaN</td>\n",
       "      <td>NaN</td>\n",
       "      <td>NaN</td>\n",
       "    </tr>\n",
       "    <tr>\n",
       "      <th>4</th>\n",
       "      <td>NaN</td>\n",
       "      <td>NaN</td>\n",
       "      <td>NaN</td>\n",
       "      <td>NaN</td>\n",
       "      <td>NaN</td>\n",
       "      <td>NaN</td>\n",
       "      <td>NaN</td>\n",
       "      <td>NaN</td>\n",
       "      <td>NaN</td>\n",
       "      <td>NaN</td>\n",
       "      <td>...</td>\n",
       "      <td>NaN</td>\n",
       "      <td>NaN</td>\n",
       "      <td>NaN</td>\n",
       "      <td>917278.0</td>\n",
       "      <td>9.426</td>\n",
       "      <td>5.459349</td>\n",
       "      <td>NaN</td>\n",
       "      <td>NaN</td>\n",
       "      <td>NaN</td>\n",
       "      <td>NaN</td>\n",
       "    </tr>\n",
       "  </tbody>\n",
       "</table>\n",
       "<p>5 rows × 439 columns</p>\n",
       "</div>"
      ],
      "text/plain": [
       "   2005 PPP conversion factor, GDP (LCU per international $)  \\\n",
       "0                                                NaN           \n",
       "1                                                NaN           \n",
       "2                                                NaN           \n",
       "3                                                NaN           \n",
       "4                                                NaN           \n",
       "\n",
       "   2005 PPP conversion factor, private consumption (LCU per international $)  \\\n",
       "0                                                NaN                           \n",
       "1                                                NaN                           \n",
       "2                                                NaN                           \n",
       "3                                                NaN                           \n",
       "4                                                NaN                           \n",
       "\n",
       "   Access to electricity, rural (% of rural population)  \\\n",
       "0                                                NaN      \n",
       "1                                                NaN      \n",
       "2                                                NaN      \n",
       "3                                                NaN      \n",
       "4                                                NaN      \n",
       "\n",
       "   Access to electricity, urban (% of urban population)  \\\n",
       "0                                                NaN      \n",
       "1                                                NaN      \n",
       "2                                                NaN      \n",
       "3                                                NaN      \n",
       "4                                                NaN      \n",
       "\n",
       "   Adjusted net national income (annual % growth)  \\\n",
       "0                                             NaN   \n",
       "1                                             NaN   \n",
       "2                                             NaN   \n",
       "3                                             NaN   \n",
       "4                                             NaN   \n",
       "\n",
       "   Adjusted net national income (constant 2010 US$)  \\\n",
       "0                                               NaN   \n",
       "1                                               NaN   \n",
       "2                                               NaN   \n",
       "3                                               NaN   \n",
       "4                                               NaN   \n",
       "\n",
       "   Adjusted net national income (current US$)  \\\n",
       "0                                         NaN   \n",
       "1                                         NaN   \n",
       "2                                         NaN   \n",
       "3                                         NaN   \n",
       "4                                         NaN   \n",
       "\n",
       "   Adjusted net national income per capita (annual % growth)  \\\n",
       "0                                                NaN           \n",
       "1                                                NaN           \n",
       "2                                                NaN           \n",
       "3                                                NaN           \n",
       "4                                                NaN           \n",
       "\n",
       "   Adjusted net national income per capita (constant 2010 US$)  \\\n",
       "0                                                NaN             \n",
       "1                                                NaN             \n",
       "2                                                NaN             \n",
       "3                                                NaN             \n",
       "4                                                NaN             \n",
       "\n",
       "   Adjusted net national income per capita (current US$)  \\\n",
       "0                                                NaN       \n",
       "1                                                NaN       \n",
       "2                                                NaN       \n",
       "3                                                NaN       \n",
       "4                                                NaN       \n",
       "\n",
       "                  ...                  Urban land area (sq. km)  \\\n",
       "0                 ...                                       NaN   \n",
       "1                 ...                                       NaN   \n",
       "2                 ...                                       NaN   \n",
       "3                 ...                                       NaN   \n",
       "4                 ...                                       NaN   \n",
       "\n",
       "   Urban land area where elevation is below 5 meters (% of total land area)  \\\n",
       "0                                                NaN                          \n",
       "1                                                NaN                          \n",
       "2                                                NaN                          \n",
       "3                                                NaN                          \n",
       "4                                                NaN                          \n",
       "\n",
       "   Urban land area where elevation is below 5 meters (sq. km)  \\\n",
       "0                                                NaN            \n",
       "1                                                NaN            \n",
       "2                                                NaN            \n",
       "3                                                NaN            \n",
       "4                                                NaN            \n",
       "\n",
       "   Urban population  Urban population (% of total)  \\\n",
       "0          739590.0                          8.221   \n",
       "1          779908.0                          8.508   \n",
       "2          822904.0                          8.805   \n",
       "3          868543.0                          9.110   \n",
       "4          917278.0                          9.426   \n",
       "\n",
       "   Urban population growth (annual %)  \\\n",
       "0                            5.256151   \n",
       "1                            5.307999   \n",
       "2                            5.366358   \n",
       "3                            5.397755   \n",
       "4                            5.459349   \n",
       "\n",
       "   Urban population living in areas where elevation is below 5 meters (% of total population)  \\\n",
       "0                                                NaN                                            \n",
       "1                                                NaN                                            \n",
       "2                                                NaN                                            \n",
       "3                                                NaN                                            \n",
       "4                                                NaN                                            \n",
       "\n",
       "   Urban poverty gap at national poverty lines (%)  \\\n",
       "0                                              NaN   \n",
       "1                                              NaN   \n",
       "2                                              NaN   \n",
       "3                                              NaN   \n",
       "4                                              NaN   \n",
       "\n",
       "   Urban poverty headcount ratio at national poverty lines (% of urban population)  \\\n",
       "0                                                NaN                                 \n",
       "1                                                NaN                                 \n",
       "2                                                NaN                                 \n",
       "3                                                NaN                                 \n",
       "4                                                NaN                                 \n",
       "\n",
       "   Wholesale price index (2010 = 100)  \n",
       "0                                 NaN  \n",
       "1                                 NaN  \n",
       "2                                 NaN  \n",
       "3                                 NaN  \n",
       "4                                 NaN  \n",
       "\n",
       "[5 rows x 439 columns]"
      ]
     },
     "execution_count": 152,
     "metadata": {},
     "output_type": "execute_result"
    }
   ],
   "source": [
    "fin_stack.head()"
   ]
  },
  {
   "cell_type": "code",
   "execution_count": 153,
   "metadata": {
    "collapsed": true
   },
   "outputs": [],
   "source": [
    "fin_stack.drop(columns=['2005 PPP conversion factor, GDP (LCU per international $)',\n",
    "                         '2005 PPP conversion factor, private consumption (LCU per international $)'], inplace=True)"
   ]
  },
  {
   "cell_type": "code",
   "execution_count": 170,
   "metadata": {
    "collapsed": true
   },
   "outputs": [],
   "source": [
    "fin_stack = fin_stack[fin_stack['Foreign direct investment, net inflows (BoP, current US$)'].notnull()]"
   ]
  },
  {
   "cell_type": "code",
   "execution_count": 171,
   "metadata": {},
   "outputs": [
    {
     "data": {
      "text/plain": [
       "(9691, 437)"
      ]
     },
     "execution_count": 171,
     "metadata": {},
     "output_type": "execute_result"
    }
   ],
   "source": [
    "fin_stack.shape"
   ]
  },
  {
   "cell_type": "code",
   "execution_count": 172,
   "metadata": {},
   "outputs": [
    {
     "data": {
      "text/plain": [
       "<matplotlib.axes._subplots.AxesSubplot at 0x7f99038326d0>"
      ]
     },
     "execution_count": 172,
     "metadata": {},
     "output_type": "execute_result"
    },
    {
     "data": {
      "image/png": "[encoded data removed]",
      "text/plain": [
       "<matplotlib.figure.Figure at 0x7f9917c08150>"
      ]
     },
     "metadata": {},
     "output_type": "display_data"
    }
   ],
   "source": [
    "sns.violinplot(x=fin_stack['Foreign direct investment, net inflows (BoP, current US$)'])"
   ]
  },
  {
   "cell_type": "code",
   "execution_count": 179,
   "metadata": {
    "collapsed": true
   },
   "outputs": [],
   "source": [
    "fin_stack = fin_stack[fin_stack['Foreign direct investment, net inflows (BoP, current US$)']<1.5e12]"
   ]
  },
  {
   "cell_type": "code",
   "execution_count": 180,
   "metadata": {},
   "outputs": [
    {
     "data": {
      "text/plain": [
       "(9666, 437)"
      ]
     },
     "execution_count": 180,
     "metadata": {},
     "output_type": "execute_result"
    }
   ],
   "source": [
    "fin_stack.shape"
   ]
  },
  {
   "cell_type": "code",
   "execution_count": 181,
   "metadata": {
    "collapsed": true
   },
   "outputs": [],
   "source": [
    "to_keep = []\n",
    "for x, y in fin_stack.isnull().sum().iteritems():\n",
    "    if y < 4444:\n",
    "        to_keep.append(x)"
   ]
  },
  {
   "cell_type": "code",
   "execution_count": 183,
   "metadata": {
    "collapsed": true
   },
   "outputs": [],
   "source": [
    "fin_stack = fin_stack[to_keep]\n",
    "fin_stack.fillna(fin_stack.mean(), inplace = True)"
   ]
  },
  {
   "cell_type": "code",
   "execution_count": 184,
   "metadata": {
    "collapsed": true
   },
   "outputs": [],
   "source": [
    "fin_corr = fin_stack.corr()"
   ]
  },
  {
   "cell_type": "code",
   "execution_count": 189,
   "metadata": {},
   "outputs": [
    {
     "name": "stdout",
     "output_type": "stream",
     "text": [
      "0.928416858112 Exports of goods and services (BoP, current US$)\n",
      "0.931372346943 Exports of goods and services (current US$)\n",
      "0.92794611723 Exports of goods, services and primary income (BoP, current US$)\n",
      "1.0 Foreign direct investment, net inflows (BoP, current US$)\n",
      "0.917024184947 Foreign direct investment, net outflows (BoP, current US$)\n",
      "0.927617428688 Goods exports (BoP, current US$)\n",
      "0.930363229978 Goods imports (BoP, current US$)\n",
      "0.929346840882 Imports of goods and services (BoP, current US$)\n",
      "0.932238580991 Imports of goods and services (current US$)\n",
      "0.930770505161 Imports of goods, services and primary income (BoP, current US$)\n",
      "0.905593662466 Primary income payments (BoP, current US$)\n",
      "0.903486073015 Service exports (BoP, current US$)\n",
      "0.916369234415 Service imports (BoP, current US$)\n"
     ]
    }
   ],
   "source": [
    "for x, y in zip(fin_corr['Foreign direct investment, net inflows (BoP, current US$)'], fin_stack.columns):\n",
    "    if x>0.9:\n",
    "        print x, y"
   ]
  },
  {
   "cell_type": "code",
   "execution_count": 238,
   "metadata": {
    "collapsed": true
   },
   "outputs": [],
   "source": [
    "goal = fin_stack['Foreign direct investment, net inflows (BoP, current US$)']\n",
    "features = fin_stack.drop(columns=['Foreign direct investment, net inflows (BoP, current US$)'])"
   ]
  },
  {
   "cell_type": "code",
   "execution_count": 212,
   "metadata": {
    "collapsed": true
   },
   "outputs": [],
   "source": [
    "X_train, X_test, y_train, y_test = train_test_split(features, goal, test_size=0.3, random_state=42)"
   ]
  },
  {
   "cell_type": "code",
   "execution_count": 199,
   "metadata": {},
   "outputs": [
    {
     "name": "stdout",
     "output_type": "stream",
     "text": [
      "{'max_features': 'auto', 'min_samples_split': 10, 'n_estimators': 100, 'min_samples_leaf': 10}\n"
     ]
    }
   ],
   "source": [
    "rfr = ensemble.RandomForestRegressor()\n",
    "rfr_hyperparameters = { \n",
    "    'n_estimators' : [10,25,50,100],\n",
    "    'max_features': ['auto', 'sqrt', 0.33],\n",
    "    'min_samples_leaf': [10,25,50],\n",
    "     'min_samples_split': [10,25,50]\n",
    "}\n",
    "fin_gs = GridSearchCV(rfr, rfr_hyperparameters, cv=5, n_jobs=-1)\n",
    "fin_gs.fit(X_train, y_train)\n",
    "print fin_gs.best_params_ "
   ]
  },
  {
   "cell_type": "code",
   "execution_count": 200,
   "metadata": {},
   "outputs": [
    {
     "data": {
      "text/plain": [
       "0.97059001485021656"
      ]
     },
     "execution_count": 200,
     "metadata": {},
     "output_type": "execute_result"
    }
   ],
   "source": [
    "fin_gs.score(X_test, y_test)"
   ]
  },
  {
   "cell_type": "code",
   "execution_count": 213,
   "metadata": {
    "scrolled": true
   },
   "outputs": [
    {
     "data": {
      "text/plain": [
       "0.98466229741896805"
      ]
     },
     "execution_count": 213,
     "metadata": {},
     "output_type": "execute_result"
    }
   ],
   "source": [
    "fin_rfr = ensemble.RandomForestRegressor(max_features='auto', min_samples_split= 10, n_estimators= 100, min_samples_leaf= 10)\n",
    "fin_rfr.fit(features, goal)\n",
    "fin_rfr.score(features, goal)"
   ]
  },
  {
   "cell_type": "code",
   "execution_count": 214,
   "metadata": {
    "collapsed": true
   },
   "outputs": [],
   "source": [
    "dill.dump(fin_rfr, open('fin.dill', 'w'))"
   ]
  },
  {
   "cell_type": "code",
   "execution_count": 241,
   "metadata": {
    "collapsed": true
   },
   "outputs": [],
   "source": [
    "fintop10features = sorted(zip(fin_rfr.feature_importances_,features.columns))[-10:]\n",
    "fintop10features = [y for x,y in fintop10features]"
   ]
  },
  {
   "cell_type": "code",
   "execution_count": 242,
   "metadata": {},
   "outputs": [
    {
     "data": {
      "text/plain": [
       "['Mobile cellular subscriptions',\n",
       " 'Services, etc., value added (current US$)',\n",
       " 'Exports of goods, services and primary income (BoP, current US$)',\n",
       " 'Foreign direct investment, net inflows (% of GDP)',\n",
       " 'Exports of goods and services (BoP, current US$)',\n",
       " 'Exports of goods and services (current US$)',\n",
       " 'Imports of goods, services and primary income (BoP, current US$)',\n",
       " 'Foreign direct investment, net outflows (BoP, current US$)',\n",
       " 'Primary income payments (BoP, current US$)',\n",
       " 'Goods exports (BoP, current US$)']"
      ]
     },
     "execution_count": 242,
     "metadata": {},
     "output_type": "execute_result"
    }
   ],
   "source": [
    "fintop10features"
   ]
  },
  {
   "cell_type": "code",
   "execution_count": 246,
   "metadata": {
    "collapsed": true
   },
   "outputs": [],
   "source": [
    "goal = fin_stack['Foreign direct investment, net inflows (BoP, current US$)']\n",
    "features = fin_stack[fintop10features]"
   ]
  },
  {
   "cell_type": "code",
   "execution_count": 247,
   "metadata": {},
   "outputs": [
    {
     "data": {
      "text/plain": [
       "0.9823203773406054"
      ]
     },
     "execution_count": 247,
     "metadata": {},
     "output_type": "execute_result"
    }
   ],
   "source": [
    "fin_rfr = ensemble.RandomForestRegressor(max_features='auto', min_samples_split= 10, n_estimators= 100, min_samples_leaf= 10)\n",
    "fin_rfr.fit(features, goal)\n",
    "fin_rfr.score(features, goal)"
   ]
  },
  {
   "cell_type": "code",
   "execution_count": 248,
   "metadata": {
    "collapsed": true
   },
   "outputs": [],
   "source": [
    "dill.dump(fin_rfr, open('fin2.dill', 'w'))"
   ]
  },
  {
   "cell_type": "markdown",
   "metadata": {},
   "source": [
    "## Training Environment <a class=\"anchor\" id=\"environment\"></a>"
   ]
  },
  {
   "cell_type": "code",
   "execution_count": 141,
   "metadata": {},
   "outputs": [
    {
     "data": {
      "text/plain": [
       "(14669, 49)"
      ]
     },
     "execution_count": 141,
     "metadata": {},
     "output_type": "execute_result"
    }
   ],
   "source": [
    "env_clean = pd.read_csv('ML_env_stack.csv', index_col=0)\n",
    "env_clean.shape"
   ]
  },
  {
   "cell_type": "code",
   "execution_count": 142,
   "metadata": {},
   "outputs": [
    {
     "name": "stdout",
     "output_type": "stream",
     "text": [
      "Adjusted savings: mineral depletion (current US$) 4779\n",
      "CO2 emissions from gaseous fuel consumption (% of total) 2283\n",
      "CO2 emissions from liquid fuel consumption (kt) 2378\n",
      "Methane emissions in energy sector (thousand metric tons of CO2 equivalent) 4149\n",
      "Mineral rents (% of GDP) 4639\n",
      "Nitrous oxide emissions in energy sector (thousand metric tons of CO2 equivalent) 4149\n",
      "Total natural resources rents (% of GDP) 4659\n"
     ]
    }
   ],
   "source": [
    "for x, y in env_clean.isnull().sum().iteritems():\n",
    "    if y <env_clean.shape[0]/3.0:\n",
    "        print x,y "
   ]
  },
  {
   "cell_type": "code",
   "execution_count": 148,
   "metadata": {},
   "outputs": [
    {
     "data": {
      "text/plain": [
       "(15250, 172)"
      ]
     },
     "execution_count": 148,
     "metadata": {},
     "output_type": "execute_result"
    }
   ],
   "source": [
    "env_stack = pd.read_csv('ML_train_env_stack.csv', index_col=0)\n",
    "env_stack.shape"
   ]
  },
  {
   "cell_type": "code",
   "execution_count": 154,
   "metadata": {},
   "outputs": [
    {
     "data": {
      "text/html": [
       "<div>\n",
       "<style scoped>\n",
       "    .dataframe tbody tr th:only-of-type {\n",
       "        vertical-align: middle;\n",
       "    }\n",
       "\n",
       "    .dataframe tbody tr th {\n",
       "        vertical-align: top;\n",
       "    }\n",
       "\n",
       "    .dataframe thead th {\n",
       "        text-align: right;\n",
       "    }\n",
       "</style>\n",
       "<table border=\"1\" class=\"dataframe\">\n",
       "  <thead>\n",
       "    <tr style=\"text-align: right;\">\n",
       "      <th></th>\n",
       "      <th>Access to electricity (% of population)</th>\n",
       "      <th>Access to electricity, rural (% of rural population)</th>\n",
       "      <th>Access to electricity, urban (% of urban population)</th>\n",
       "      <th>Adjusted savings: energy depletion (% of GNI)</th>\n",
       "      <th>Adjusted savings: energy depletion (current US$)</th>\n",
       "      <th>Adjusted savings: mineral depletion (% of GNI)</th>\n",
       "      <th>Adjusted savings: mineral depletion (current US$)</th>\n",
       "      <th>Adjusted savings: natural resources depletion (% of GNI)</th>\n",
       "      <th>Agricultural irrigated land (% of total agricultural land)</th>\n",
       "      <th>Agricultural land (% of land area)</th>\n",
       "      <th>...</th>\n",
       "      <th>Trademark applications, total</th>\n",
       "      <th>Urban land area (sq. km)</th>\n",
       "      <th>Urban land area where elevation is below 5 meters (% of total land area)</th>\n",
       "      <th>Urban land area where elevation is below 5 meters (sq. km)</th>\n",
       "      <th>Urban population</th>\n",
       "      <th>Urban population (% of total)</th>\n",
       "      <th>Urban population growth (annual %)</th>\n",
       "      <th>Urban population living in areas where elevation is below 5 meters (% of total population)</th>\n",
       "      <th>Urban poverty gap at national poverty lines (%)</th>\n",
       "      <th>Urban poverty headcount ratio at national poverty lines (% of urban population)</th>\n",
       "    </tr>\n",
       "  </thead>\n",
       "  <tbody>\n",
       "    <tr>\n",
       "      <th>0</th>\n",
       "      <td>NaN</td>\n",
       "      <td>NaN</td>\n",
       "      <td>NaN</td>\n",
       "      <td>NaN</td>\n",
       "      <td>NaN</td>\n",
       "      <td>NaN</td>\n",
       "      <td>NaN</td>\n",
       "      <td>NaN</td>\n",
       "      <td>NaN</td>\n",
       "      <td>NaN</td>\n",
       "      <td>...</td>\n",
       "      <td>5927.0</td>\n",
       "      <td>NaN</td>\n",
       "      <td>NaN</td>\n",
       "      <td>NaN</td>\n",
       "      <td>12368141.0</td>\n",
       "      <td>69.061</td>\n",
       "      <td>3.162457</td>\n",
       "      <td>NaN</td>\n",
       "      <td>NaN</td>\n",
       "      <td>NaN</td>\n",
       "    </tr>\n",
       "    <tr>\n",
       "      <th>1</th>\n",
       "      <td>NaN</td>\n",
       "      <td>NaN</td>\n",
       "      <td>NaN</td>\n",
       "      <td>NaN</td>\n",
       "      <td>NaN</td>\n",
       "      <td>NaN</td>\n",
       "      <td>NaN</td>\n",
       "      <td>NaN</td>\n",
       "      <td>NaN</td>\n",
       "      <td>7.678553</td>\n",
       "      <td>...</td>\n",
       "      <td>6281.0</td>\n",
       "      <td>NaN</td>\n",
       "      <td>NaN</td>\n",
       "      <td>NaN</td>\n",
       "      <td>12729040.0</td>\n",
       "      <td>69.668</td>\n",
       "      <td>2.876211</td>\n",
       "      <td>NaN</td>\n",
       "      <td>NaN</td>\n",
       "      <td>NaN</td>\n",
       "    </tr>\n",
       "    <tr>\n",
       "      <th>2</th>\n",
       "      <td>NaN</td>\n",
       "      <td>NaN</td>\n",
       "      <td>NaN</td>\n",
       "      <td>NaN</td>\n",
       "      <td>NaN</td>\n",
       "      <td>NaN</td>\n",
       "      <td>NaN</td>\n",
       "      <td>NaN</td>\n",
       "      <td>NaN</td>\n",
       "      <td>7.692629</td>\n",
       "      <td>...</td>\n",
       "      <td>6395.0</td>\n",
       "      <td>NaN</td>\n",
       "      <td>NaN</td>\n",
       "      <td>NaN</td>\n",
       "      <td>13121753.0</td>\n",
       "      <td>70.494</td>\n",
       "      <td>3.038539</td>\n",
       "      <td>NaN</td>\n",
       "      <td>NaN</td>\n",
       "      <td>NaN</td>\n",
       "    </tr>\n",
       "    <tr>\n",
       "      <th>3</th>\n",
       "      <td>NaN</td>\n",
       "      <td>NaN</td>\n",
       "      <td>NaN</td>\n",
       "      <td>NaN</td>\n",
       "      <td>NaN</td>\n",
       "      <td>NaN</td>\n",
       "      <td>NaN</td>\n",
       "      <td>NaN</td>\n",
       "      <td>NaN</td>\n",
       "      <td>7.706705</td>\n",
       "      <td>...</td>\n",
       "      <td>6455.0</td>\n",
       "      <td>NaN</td>\n",
       "      <td>NaN</td>\n",
       "      <td>NaN</td>\n",
       "      <td>13522659.0</td>\n",
       "      <td>71.307</td>\n",
       "      <td>3.009534</td>\n",
       "      <td>NaN</td>\n",
       "      <td>NaN</td>\n",
       "      <td>NaN</td>\n",
       "    </tr>\n",
       "    <tr>\n",
       "      <th>4</th>\n",
       "      <td>NaN</td>\n",
       "      <td>NaN</td>\n",
       "      <td>NaN</td>\n",
       "      <td>NaN</td>\n",
       "      <td>NaN</td>\n",
       "      <td>NaN</td>\n",
       "      <td>NaN</td>\n",
       "      <td>NaN</td>\n",
       "      <td>NaN</td>\n",
       "      <td>7.720671</td>\n",
       "      <td>...</td>\n",
       "      <td>7088.0</td>\n",
       "      <td>NaN</td>\n",
       "      <td>NaN</td>\n",
       "      <td>NaN</td>\n",
       "      <td>13934678.0</td>\n",
       "      <td>72.107</td>\n",
       "      <td>3.001383</td>\n",
       "      <td>NaN</td>\n",
       "      <td>NaN</td>\n",
       "      <td>NaN</td>\n",
       "    </tr>\n",
       "  </tbody>\n",
       "</table>\n",
       "<p>5 rows × 172 columns</p>\n",
       "</div>"
      ],
      "text/plain": [
       "   Access to electricity (% of population)  \\\n",
       "0                                      NaN   \n",
       "1                                      NaN   \n",
       "2                                      NaN   \n",
       "3                                      NaN   \n",
       "4                                      NaN   \n",
       "\n",
       "   Access to electricity, rural (% of rural population)  \\\n",
       "0                                                NaN      \n",
       "1                                                NaN      \n",
       "2                                                NaN      \n",
       "3                                                NaN      \n",
       "4                                                NaN      \n",
       "\n",
       "   Access to electricity, urban (% of urban population)  \\\n",
       "0                                                NaN      \n",
       "1                                                NaN      \n",
       "2                                                NaN      \n",
       "3                                                NaN      \n",
       "4                                                NaN      \n",
       "\n",
       "   Adjusted savings: energy depletion (% of GNI)  \\\n",
       "0                                            NaN   \n",
       "1                                            NaN   \n",
       "2                                            NaN   \n",
       "3                                            NaN   \n",
       "4                                            NaN   \n",
       "\n",
       "   Adjusted savings: energy depletion (current US$)  \\\n",
       "0                                               NaN   \n",
       "1                                               NaN   \n",
       "2                                               NaN   \n",
       "3                                               NaN   \n",
       "4                                               NaN   \n",
       "\n",
       "   Adjusted savings: mineral depletion (% of GNI)  \\\n",
       "0                                             NaN   \n",
       "1                                             NaN   \n",
       "2                                             NaN   \n",
       "3                                             NaN   \n",
       "4                                             NaN   \n",
       "\n",
       "   Adjusted savings: mineral depletion (current US$)  \\\n",
       "0                                                NaN   \n",
       "1                                                NaN   \n",
       "2                                                NaN   \n",
       "3                                                NaN   \n",
       "4                                                NaN   \n",
       "\n",
       "   Adjusted savings: natural resources depletion (% of GNI)  \\\n",
       "0                                                NaN          \n",
       "1                                                NaN          \n",
       "2                                                NaN          \n",
       "3                                                NaN          \n",
       "4                                                NaN          \n",
       "\n",
       "   Agricultural irrigated land (% of total agricultural land)  \\\n",
       "0                                                NaN            \n",
       "1                                                NaN            \n",
       "2                                                NaN            \n",
       "3                                                NaN            \n",
       "4                                                NaN            \n",
       "\n",
       "   Agricultural land (% of land area)  \\\n",
       "0                                 NaN   \n",
       "1                            7.678553   \n",
       "2                            7.692629   \n",
       "3                            7.706705   \n",
       "4                            7.720671   \n",
       "\n",
       "                                        ...                                         \\\n",
       "0                                       ...                                          \n",
       "1                                       ...                                          \n",
       "2                                       ...                                          \n",
       "3                                       ...                                          \n",
       "4                                       ...                                          \n",
       "\n",
       "   Trademark applications, total  Urban land area (sq. km)  \\\n",
       "0                         5927.0                       NaN   \n",
       "1                         6281.0                       NaN   \n",
       "2                         6395.0                       NaN   \n",
       "3                         6455.0                       NaN   \n",
       "4                         7088.0                       NaN   \n",
       "\n",
       "   Urban land area where elevation is below 5 meters (% of total land area)  \\\n",
       "0                                                NaN                          \n",
       "1                                                NaN                          \n",
       "2                                                NaN                          \n",
       "3                                                NaN                          \n",
       "4                                                NaN                          \n",
       "\n",
       "   Urban land area where elevation is below 5 meters (sq. km)  \\\n",
       "0                                                NaN            \n",
       "1                                                NaN            \n",
       "2                                                NaN            \n",
       "3                                                NaN            \n",
       "4                                                NaN            \n",
       "\n",
       "   Urban population  Urban population (% of total)  \\\n",
       "0        12368141.0                         69.061   \n",
       "1        12729040.0                         69.668   \n",
       "2        13121753.0                         70.494   \n",
       "3        13522659.0                         71.307   \n",
       "4        13934678.0                         72.107   \n",
       "\n",
       "   Urban population growth (annual %)  \\\n",
       "0                            3.162457   \n",
       "1                            2.876211   \n",
       "2                            3.038539   \n",
       "3                            3.009534   \n",
       "4                            3.001383   \n",
       "\n",
       "   Urban population living in areas where elevation is below 5 meters (% of total population)  \\\n",
       "0                                                NaN                                            \n",
       "1                                                NaN                                            \n",
       "2                                                NaN                                            \n",
       "3                                                NaN                                            \n",
       "4                                                NaN                                            \n",
       "\n",
       "   Urban poverty gap at national poverty lines (%)  \\\n",
       "0                                              NaN   \n",
       "1                                              NaN   \n",
       "2                                              NaN   \n",
       "3                                              NaN   \n",
       "4                                              NaN   \n",
       "\n",
       "   Urban poverty headcount ratio at national poverty lines (% of urban population)  \n",
       "0                                                NaN                                \n",
       "1                                                NaN                                \n",
       "2                                                NaN                                \n",
       "3                                                NaN                                \n",
       "4                                                NaN                                \n",
       "\n",
       "[5 rows x 172 columns]"
      ]
     },
     "execution_count": 154,
     "metadata": {},
     "output_type": "execute_result"
    }
   ],
   "source": [
    "env_stack.head()"
   ]
  },
  {
   "cell_type": "markdown",
   "metadata": {},
   "source": [
    "not entirely sure what to model here."
   ]
  },
  {
   "cell_type": "code",
   "execution_count": null,
   "metadata": {
    "collapsed": true
   },
   "outputs": [],
   "source": []
  },
  {
   "cell_type": "code",
   "execution_count": null,
   "metadata": {
    "collapsed": true
   },
   "outputs": [],
   "source": []
  },
  {
   "cell_type": "code",
   "execution_count": null,
   "metadata": {
    "collapsed": true
   },
   "outputs": [],
   "source": []
  },
  {
   "cell_type": "markdown",
   "metadata": {},
   "source": [
    "## Training Poverty <a class=\"anchor\" id=\"poverty\"></a>"
   ]
  },
  {
   "cell_type": "code",
   "execution_count": 143,
   "metadata": {},
   "outputs": [
    {
     "data": {
      "text/plain": [
       "(2116, 25)"
      ]
     },
     "execution_count": 143,
     "metadata": {},
     "output_type": "execute_result"
    }
   ],
   "source": [
    "pov_clean = pd.read_csv('ML_pov_stack.csv', index_col=0)\n",
    "pov_clean.shape"
   ]
  },
  {
   "cell_type": "code",
   "execution_count": 144,
   "metadata": {},
   "outputs": [
    {
     "name": "stdout",
     "output_type": "stream",
     "text": [
      "Poverty gap at $1.90 a day (2011 PPP) (%) 581\n",
      "Poverty gap at $3.20 a day (2011 PPP) (% of population) 581\n",
      "Poverty gap at $5.50 a day (2011 PPP) (% of population) 581\n",
      "Poverty headcount ratio at $1.90 a day (2011 PPP) (% of population) 582\n",
      "Poverty headcount ratio at $3.20 a day (2011 PPP) (% of population) 581\n",
      "Poverty headcount ratio at $5.50 a day (2011 PPP) (% of population) 581\n"
     ]
    }
   ],
   "source": [
    "for x, y in pov_clean.isnull().sum().iteritems():\n",
    "    if y <pov_clean.shape[0]/3.0:\n",
    "        print x,y "
   ]
  },
  {
   "cell_type": "code",
   "execution_count": 150,
   "metadata": {},
   "outputs": [
    {
     "data": {
      "text/plain": [
       "(15250, 409)"
      ]
     },
     "execution_count": 150,
     "metadata": {},
     "output_type": "execute_result"
    }
   ],
   "source": [
    "pov_stack = pd.read_csv('ML_train_pov_stack.csv', index_col=0)\n",
    "pov_stack.shape"
   ]
  },
  {
   "cell_type": "code",
   "execution_count": 156,
   "metadata": {
    "collapsed": true
   },
   "outputs": [],
   "source": [
    "pov_stack.drop(columns=['2005 PPP conversion factor, GDP (LCU per international $)',\n",
    "                         '2005 PPP conversion factor, private consumption (LCU per international $)'], inplace=True)"
   ]
  },
  {
   "cell_type": "code",
   "execution_count": 157,
   "metadata": {
    "collapsed": true
   },
   "outputs": [],
   "source": [
    "pov_stack = pov_stack[pov_stack['Poverty headcount ratio at $1.90 a day (2011 PPP) (% of population)'].notnull()]"
   ]
  },
  {
   "cell_type": "code",
   "execution_count": 158,
   "metadata": {},
   "outputs": [
    {
     "data": {
      "text/plain": [
       "<matplotlib.axes._subplots.AxesSubplot at 0x7f992246bd90>"
      ]
     },
     "execution_count": 158,
     "metadata": {},
     "output_type": "execute_result"
    },
    {
     "data": {
      "image/png": "[encoded data removed]",
      "text/plain": [
       "<matplotlib.figure.Figure at 0x7f9954c37290>"
      ]
     },
     "metadata": {},
     "output_type": "display_data"
    }
   ],
   "source": [
    "sns.violinplot(x=pov_stack['Poverty headcount ratio at $1.90 a day (2011 PPP) (% of population)'])"
   ]
  },
  {
   "cell_type": "code",
   "execution_count": 163,
   "metadata": {
    "collapsed": true
   },
   "outputs": [],
   "source": [
    "pov_stack = pov_stack[(pov_stack['Poverty headcount ratio at $1.90 a day (2011 PPP) (% of population)']<75)]"
   ]
  },
  {
   "cell_type": "code",
   "execution_count": 164,
   "metadata": {},
   "outputs": [
    {
     "data": {
      "text/plain": [
       "(1513, 407)"
      ]
     },
     "execution_count": 164,
     "metadata": {},
     "output_type": "execute_result"
    }
   ],
   "source": [
    "pov_stack.shape"
   ]
  },
  {
   "cell_type": "code",
   "execution_count": 165,
   "metadata": {
    "collapsed": true
   },
   "outputs": [],
   "source": [
    "to_keep = []\n",
    "for x, y in pov_stack.isnull().sum().iteritems():\n",
    "    if y < 777:\n",
    "        to_keep.append(x)"
   ]
  },
  {
   "cell_type": "code",
   "execution_count": 166,
   "metadata": {
    "collapsed": true
   },
   "outputs": [],
   "source": [
    "pov_stack = pov_stack[to_keep]\n",
    "pov_stack.fillna(pov_stack.mean(), inplace = True)"
   ]
  },
  {
   "cell_type": "code",
   "execution_count": 167,
   "metadata": {
    "collapsed": true
   },
   "outputs": [],
   "source": [
    "pov_corr = pov_stack.corr()"
   ]
  },
  {
   "cell_type": "code",
   "execution_count": 169,
   "metadata": {},
   "outputs": [
    {
     "name": "stdout",
     "output_type": "stream",
     "text": [
      "0.652567946196 Adjusted savings: particulate emission damage (% of GNI)\n",
      "0.680300216289 Agriculture, value added (% of GDP)\n",
      "0.689912909713 Employment in agriculture (% of total employment) (modeled ILO estimate)\n",
      "0.627475297406 Employment in agriculture, female (% of female employment) (modeled ILO estimate)\n",
      "0.681525263085 Employment in agriculture, male (% of male employment) (modeled ILO estimate)\n",
      "0.963068551088 Poverty gap at $1.90 a day (2011 PPP) (%)\n",
      "0.996170747274 Poverty gap at $3.20 a day (2011 PPP) (% of population)\n",
      "0.951586558491 Poverty gap at $5.50 a day (2011 PPP) (% of population)\n",
      "1.0 Poverty headcount ratio at $1.90 a day (2011 PPP) (% of population)\n",
      "0.952222101447 Poverty headcount ratio at $3.20 a day (2011 PPP) (% of population)\n",
      "0.834757831723 Poverty headcount ratio at $5.50 a day (2011 PPP) (% of population)\n",
      "0.693877925063 Rural population (% of total population)\n",
      "0.539699871825 Rural population growth (annual %)\n",
      "0.605993110305 Urban population growth (annual %)\n"
     ]
    }
   ],
   "source": [
    "drop_these = [] \n",
    "for x, y in zip(pov_corr['Poverty headcount ratio at $1.90 a day (2011 PPP) (% of population)'], pov_stack.columns):\n",
    "    if x>0.5:\n",
    "        print x, y\n",
    "    if x>0.8:\n",
    "        drop_these.append(y)"
   ]
  },
  {
   "cell_type": "code",
   "execution_count": 265,
   "metadata": {
    "collapsed": true
   },
   "outputs": [],
   "source": [
    "goal = pov_stack['Poverty headcount ratio at $1.90 a day (2011 PPP) (% of population)']\n",
    "features = pov_stack.drop(columns=drop_these)"
   ]
  },
  {
   "cell_type": "code",
   "execution_count": 202,
   "metadata": {},
   "outputs": [
    {
     "name": "stdout",
     "output_type": "stream",
     "text": [
      "{'max_features': 'auto', 'min_samples_split': 25, 'n_estimators': 100, 'min_samples_leaf': 10}\n"
     ]
    }
   ],
   "source": [
    "rfr = ensemble.RandomForestRegressor()\n",
    "rfr_hyperparameters = { \n",
    "    'n_estimators' : [10,25,50,100],\n",
    "    'max_features': ['auto', 'sqrt', 0.33],\n",
    "    'min_samples_leaf': [10,25,50],\n",
    "     'min_samples_split': [10,25,50]\n",
    "}\n",
    "pov_gs = GridSearchCV(rfr, rfr_hyperparameters, cv=5, n_jobs=-1)\n",
    "pov_gs.fit(X_train, y_train)\n",
    "print pov_gs.best_params_ "
   ]
  },
  {
   "cell_type": "code",
   "execution_count": 203,
   "metadata": {},
   "outputs": [
    {
     "data": {
      "text/plain": [
       "0.96866717491222909"
      ]
     },
     "execution_count": 203,
     "metadata": {},
     "output_type": "execute_result"
    }
   ],
   "source": [
    "pov_gs.score(X_test, y_test)"
   ]
  },
  {
   "cell_type": "code",
   "execution_count": 269,
   "metadata": {},
   "outputs": [
    {
     "data": {
      "text/plain": [
       "0.94301510591819493"
      ]
     },
     "execution_count": 269,
     "metadata": {},
     "output_type": "execute_result"
    }
   ],
   "source": [
    "pov_rfr = ensemble.RandomForestRegressor(max_features='auto', min_samples_split= 25, n_estimators= 100, min_samples_leaf= 10)\n",
    "pov_rfr.fit(features, goal)\n",
    "pov_rfr.score(features, goal)"
   ]
  },
  {
   "cell_type": "code",
   "execution_count": 270,
   "metadata": {
    "collapsed": true
   },
   "outputs": [],
   "source": [
    "povtop10features = sorted(zip(pov_rfr.feature_importances_,features.columns))[-10:]\n",
    "povtop10features = [y for x,y in povtop10features]"
   ]
  },
  {
   "cell_type": "code",
   "execution_count": 271,
   "metadata": {},
   "outputs": [
    {
     "data": {
      "text/plain": [
       "['GNI per capita, PPP (current international $)',\n",
       " 'Mobile cellular subscriptions (per 100 people)',\n",
       " 'Rural population (% of total population)',\n",
       " 'Income share held by lowest 20%',\n",
       " 'GDP per capita (constant 2010 US$)',\n",
       " 'GDP per capita (current US$)',\n",
       " 'Urban population (% of total)',\n",
       " 'Improved water source (% of population with access)',\n",
       " 'Agriculture value added per worker (constant 2010 US$)',\n",
       " 'Fixed telephone subscriptions (per 100 people)']"
      ]
     },
     "execution_count": 271,
     "metadata": {},
     "output_type": "execute_result"
    }
   ],
   "source": [
    "povtop10features"
   ]
  },
  {
   "cell_type": "code",
   "execution_count": 272,
   "metadata": {
    "collapsed": true
   },
   "outputs": [],
   "source": [
    "goal = pov_stack['Poverty headcount ratio at $1.90 a day (2011 PPP) (% of population)']\n",
    "features = pov_stack[povtop10features]"
   ]
  },
  {
   "cell_type": "code",
   "execution_count": 273,
   "metadata": {},
   "outputs": [
    {
     "data": {
      "text/plain": [
       "0.91328925367346181"
      ]
     },
     "execution_count": 273,
     "metadata": {},
     "output_type": "execute_result"
    }
   ],
   "source": [
    "pov_rfr = ensemble.RandomForestRegressor(max_features='auto', min_samples_split= 25, n_estimators= 100, min_samples_leaf= 10)\n",
    "pov_rfr.fit(features, goal)\n",
    "pov_rfr.score(features, goal)"
   ]
  },
  {
   "cell_type": "code",
   "execution_count": 274,
   "metadata": {
    "collapsed": true
   },
   "outputs": [],
   "source": [
    "dill.dump(pov_rfr, open('pov2.dill', 'w'))"
   ]
  },
  {
   "cell_type": "code",
   "execution_count": null,
   "metadata": {
    "collapsed": true
   },
   "outputs": [],
   "source": []
  }
 ],
 "metadata": {
  "kernelspec": {
   "display_name": "Python 2",
   "language": "python",
   "name": "python2"
  },
  "language_info": {
   "codemirror_mode": {
    "name": "ipython",
    "version": 2
   },
   "file_extension": ".py",
   "mimetype": "text/x-python",
   "name": "python",
   "nbconvert_exporter": "python",
   "pygments_lexer": "ipython2",
   "version": "2.7.13"
  }
 },
 "nbformat": 4,
 "nbformat_minor": 2
}
